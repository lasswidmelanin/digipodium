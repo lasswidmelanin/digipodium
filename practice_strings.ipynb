{
 "cells": [
  {
   "cell_type": "code",
   "execution_count": 1,
   "metadata": {},
   "outputs": [
    {
     "name": "stdout",
     "output_type": "stream",
     "text": [
      "My name is Naincy\n"
     ]
    }
   ],
   "source": [
    "#create a string and print it\n",
    "str=\"My name is Naincy\"\n",
    "print(str)"
   ]
  },
  {
   "cell_type": "code",
   "execution_count": 8,
   "metadata": {},
   "outputs": [
    {
     "name": "stdout",
     "output_type": "stream",
     "text": [
      "My name is naincy 17\n"
     ]
    }
   ],
   "source": [
    "#take a string input and print its length\n",
    "st=input(\"Enter a string\")\n",
    "print(st,len(st))"
   ]
  },
  {
   "cell_type": "code",
   "execution_count": 9,
   "metadata": {},
   "outputs": [
    {
     "name": "stdout",
     "output_type": "stream",
     "text": [
      "great\n"
     ]
    }
   ],
   "source": [
    "# Print the last word of the string \"Python is great\" using slices\n",
    "str=\"Python is great\"\n",
    "print(str[-5:])"
   ]
  },
  {
   "cell_type": "code",
   "execution_count": 22,
   "metadata": {},
   "outputs": [
    {
     "name": "stdout",
     "output_type": "stream",
     "text": [
      "Python\n",
      "is\n",
      "everywhere\n"
     ]
    }
   ],
   "source": [
    "str=\"Python is everywhere \"\n",
    "st=\"\"\n",
    "for i in range(0,len(str)):\n",
    "    if str[i]==\" \":\n",
    "        print(st)\n",
    "        st=\"\"\n",
    "    else:\n",
    "        st=st+str[i]\n",
    "    \n",
    "\n"
   ]
  },
  {
   "cell_type": "code",
   "execution_count": 4,
   "metadata": {},
   "outputs": [
    {
     "name": "stdout",
     "output_type": "stream",
     "text": [
      "dlroW olle"
     ]
    }
   ],
   "source": [
    "# Print the string Hello World! in reverse\n",
    "str=\"Hello World\"\n",
    "for i in range(len(str)-1,0,-1):\n",
    "    print(str[i],end=\"\")"
   ]
  },
  {
   "cell_type": "code",
   "execution_count": null,
   "metadata": {},
   "outputs": [],
   "source": []
  }
 ],
 "metadata": {
  "kernelspec": {
   "display_name": "base",
   "language": "python",
   "name": "python3"
  },
  "language_info": {
   "codemirror_mode": {
    "name": "ipython",
    "version": 3
   },
   "file_extension": ".py",
   "mimetype": "text/x-python",
   "name": "python",
   "nbconvert_exporter": "python",
   "pygments_lexer": "ipython3",
   "version": "3.10.10"
  },
  "orig_nbformat": 4
 },
 "nbformat": 4,
 "nbformat_minor": 2
}
