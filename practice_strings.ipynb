{
 "cells": [
  {
   "cell_type": "code",
   "execution_count": 1,
   "metadata": {},
   "outputs": [
    {
     "name": "stdout",
     "output_type": "stream",
     "text": [
      "My name is Naincy\n"
     ]
    }
   ],
   "source": [
    "#create a string and print it\n",
    "str=\"My name is Naincy\"\n",
    "print(str)"
   ]
  },
  {
   "cell_type": "code",
   "execution_count": 8,
   "metadata": {},
   "outputs": [
    {
     "name": "stdout",
     "output_type": "stream",
     "text": [
      "My name is naincy 17\n"
     ]
    }
   ],
   "source": [
    "#take a string input and print its length\n",
    "st=input(\"Enter a string\")\n",
    "print(st,len(st))"
   ]
  },
  {
   "cell_type": "code",
   "execution_count": 9,
   "metadata": {},
   "outputs": [
    {
     "name": "stdout",
     "output_type": "stream",
     "text": [
      "great\n"
     ]
    }
   ],
   "source": [
    "# Print the last word of the string \"Python is great\" using slices\n",
    "str=\"Python is great\"\n",
    "print(str[-5:])"
   ]
  },
  {
   "cell_type": "code",
   "execution_count": 22,
   "metadata": {},
   "outputs": [
    {
     "name": "stdout",
     "output_type": "stream",
     "text": [
      "Python\n",
      "is\n",
      "everywhere\n"
     ]
    }
   ],
   "source": [
    "str=\"Python is everywhere \"\n",
    "st=\"\"\n",
    "for i in range(0,len(str)):\n",
    "    if str[i]==\" \":\n",
    "        print(st)\n",
    "        st=\"\"\n",
    "    else:\n",
    "        st=st+str[i]\n",
    "    \n",
    "\n"
   ]
  },
  {
   "cell_type": "code",
   "execution_count": 4,
   "metadata": {},
   "outputs": [
    {
     "name": "stdout",
     "output_type": "stream",
     "text": [
      "dlroW olle"
     ]
    }
   ],
   "source": [
    "# Print the string Hello World! in reverse\n",
    "str=\"Hello World\"\n",
    "for i in range(len(str)-1,0,-1):\n",
    "    print(str[i],end=\"\")"
   ]
  },
  {
   "cell_type": "code",
   "execution_count": 3,
   "metadata": {},
   "outputs": [
    {
     "name": "stdout",
     "output_type": "stream",
     "text": [
      "HOW ARE YOU?\n"
     ]
    }
   ],
   "source": [
    "# Convert the string How are you? in uppercase\n",
    "st=\"How are you?\"\n",
    "print(st.upper())"
   ]
  },
  {
   "cell_type": "code",
   "execution_count": 4,
   "metadata": {},
   "outputs": [
    {
     "name": "stdout",
     "output_type": "stream",
     "text": [
      "how are you?\n"
     ]
    }
   ],
   "source": [
    "#Convert the string How are you? in lower case\n",
    "st=\"How are you?\"\n",
    "print(st.lower())"
   ]
  },
  {
   "cell_type": "code",
   "execution_count": 13,
   "metadata": {},
   "outputs": [
    {
     "name": "stdout",
     "output_type": "stream",
     "text": [
      "Python is easy to learn "
     ]
    }
   ],
   "source": [
    "# Join the following list by spaces( ) and print the result.\n",
    "words = ['Python', 'is', 'easy', 'to', 'learn']\n",
    "for i in words:\n",
    "    st=i+\" \"\n",
    "    print(st,end=\"\")"
   ]
  },
  {
   "cell_type": "code",
   "execution_count": 15,
   "metadata": {},
   "outputs": [
    {
     "name": "stdout",
     "output_type": "stream",
     "text": [
      "Jhonny Jhonny yes papa,\n",
      "eating sugar no papa,\n",
      "telling a lie , no papa \n"
     ]
    }
   ],
   "source": [
    "# Print a multiline string using a single print\n",
    "print(\"\"\"Jhonny Jhonny yes papa,\n",
    "eating sugar no papa,\n",
    "telling a lie , no papa \"\"\")"
   ]
  },
  {
   "cell_type": "code",
   "execution_count": 22,
   "metadata": {},
   "outputs": [
    {
     "name": "stdout",
     "output_type": "stream",
     "text": [
      "to move a new line '\\n' is used\n"
     ]
    }
   ],
   "source": [
    "# Print this string to move to newline '\\n' is used. (results should look exactly like the provided string)\n",
    "print(\"to move a new line '\\\\n' is used\")"
   ]
  },
  {
   "cell_type": "code",
   "execution_count": 21,
   "metadata": {},
   "outputs": [
    {
     "name": "stdout",
     "output_type": "stream",
     "text": [
      "the variable i is 15\n"
     ]
    }
   ],
   "source": [
    "i=15\n",
    "print(f'the variable i is {i}')"
   ]
  },
  {
   "cell_type": "code",
   "execution_count": 23,
   "metadata": {},
   "outputs": [
    {
     "name": "stdout",
     "output_type": "stream",
     "text": [
      "python is great.\n"
     ]
    }
   ],
   "source": [
    "# concatenate the following strings and print the result\n",
    "s1 = 'python '\n",
    "s2 = 'is '\n",
    "s3 = 'great.'\n",
    "string= s1+s2+s3\n",
    "print(string)"
   ]
  },
  {
   "cell_type": "code",
   "execution_count": 27,
   "metadata": {},
   "outputs": [
    {
     "name": "stdout",
     "output_type": "stream",
     "text": [
      "# # # # # # # # # # # # # # # # # # # # \n"
     ]
    }
   ],
   "source": [
    "#Print # 20 times without using a loop\n",
    "i=\"#\"\n",
    "print((i+\" \")*20)"
   ]
  },
  {
   "cell_type": "code",
   "execution_count": 29,
   "metadata": {},
   "outputs": [
    {
     "name": "stdout",
     "output_type": "stream",
     "text": [
      "1.\n",
      "2.\n",
      "3.\n",
      "4.\n",
      "5.\n",
      "6.\n",
      "7.\n",
      "8.\n",
      "9.\n"
     ]
    }
   ],
   "source": [
    "#Print numbers from 1 to 9, each on a seperate line, followed by a dot, output should look like the following-\n",
    "# 1.\n",
    "# 2.\n",
    "# 3.\n",
    "for i in range(1,10):\n",
    "    print(f'{i}.')"
   ]
  },
  {
   "cell_type": "code",
   "execution_count": 38,
   "metadata": {},
   "outputs": [
    {
     "name": "stdout",
     "output_type": "stream",
     "text": [
      "my\n",
      "name\n",
      "is\n"
     ]
    }
   ],
   "source": [
    "# Ask user to input a sentence and print each word on a different line.\n",
    "str=input(\"Enter a sentence\") # my name is naincy\n",
    "st=\"\"\n",
    "for i in range(0,len(str)):\n",
    "    if str[i]==\" \":\n",
    "        print(st)\n",
    "        st=\"\" \n",
    "    else:\n",
    "        st=st+str[i]"
   ]
  },
  {
   "cell_type": "code",
   "execution_count": 39,
   "metadata": {},
   "outputs": [
    {
     "name": "stdout",
     "output_type": "stream",
     "text": [
      "string ends with ?\n"
     ]
    }
   ],
   "source": [
    "# Ask user to input a string and check if the string ends with '?'\n",
    "st=\"how are you ?\"\n",
    "if st.endswith('?'):\n",
    "    print(\"string ends with ?\")\n",
    "else:\n",
    "    print(\"question mark not found\")"
   ]
  },
  {
   "cell_type": "code",
   "execution_count": 42,
   "metadata": {},
   "outputs": [
    {
     "name": "stdout",
     "output_type": "stream",
     "text": [
      "3\n"
     ]
    }
   ],
   "source": [
    "# Ask user to input a string and print how many times e appeared in the string\n",
    "sen=input(\"Enter a string\")\n",
    "c=0\n",
    "for i in range(0,len(sen)):\n",
    "    if sen[i]=='e':\n",
    "        c+=1\n",
    "print(c)"
   ]
  },
  {
   "cell_type": "code",
   "execution_count": 45,
   "metadata": {},
   "outputs": [
    {
     "name": "stdout",
     "output_type": "stream",
     "text": [
      "string is numeric\n"
     ]
    }
   ],
   "source": [
    "#Check if the user input is a number\n",
    "stnum=input(\"Enter a string \")\n",
    "if stnum.isnumeric():\n",
    "    print(\"string is numeric\")\n",
    "else:\n",
    "    print(\"string is not numeric\")"
   ]
  },
  {
   "cell_type": "code",
   "execution_count": 48,
   "metadata": {},
   "outputs": [
    {
     "name": "stdout",
     "output_type": "stream",
     "text": [
      "this is not a good string\n"
     ]
    }
   ],
   "source": [
    "#Remove the extra spaces in beginning and in the end of the following string-\n",
    "text = '   this is not a good string           '\n",
    "print(text.strip())"
   ]
  },
  {
   "cell_type": "code",
   "execution_count": 1,
   "metadata": {},
   "outputs": [
    {
     "name": "stdout",
     "output_type": "stream",
     "text": [
      "found\n",
      "not found\n",
      "not found\n",
      "found\n",
      "not found\n",
      "not found\n",
      "not found\n",
      "not found\n",
      "not found\n",
      "not found\n",
      "not found\n",
      "not found\n",
      "not found\n",
      "not found\n",
      "not found\n",
      "not found\n",
      "not found\n",
      "not found\n",
      "not found\n",
      "not found\n",
      "not found\n",
      "not found\n",
      "not found\n",
      "not found\n",
      "not found\n",
      "not found\n",
      "not found\n",
      "not found\n",
      "not found\n",
      "not found\n",
      "not found\n",
      "not found\n",
      "not found\n",
      "not found\n",
      "not found\n",
      "not found\n"
     ]
    }
   ],
   "source": [
    "#sk user to input string, print found if any of the character is upper case.\n",
    "strinput=input(\"Enter a string\")\n",
    "stin=strinput.upper()\n",
    "for i in range(0,len(strinput)):\n",
    "    for j in range(0,len(stin)):\n",
    "        if strinput[i]== stin[j]:\n",
    "            print(\"found\")\n",
    "        else:\n",
    "            print(\"not found\")"
   ]
  },
  {
   "cell_type": "code",
   "execution_count": 11,
   "metadata": {},
   "outputs": [
    {
     "name": "stdout",
     "output_type": "stream",
     "text": [
      "list of names-['Joe', ' David', ' Mark', ' Tom', ' Chris', ' Robert']\n"
     ]
    }
   ],
   "source": [
    "# Extract names from the following string and store them in a list.\n",
    "names = 'Joe, David, Mark, Tom, Chris, Robert'\n",
    "list=names.split(\",\")\n",
    "print(f'list of names-{list}')"
   ]
  },
  {
   "cell_type": "code",
   "execution_count": 21,
   "metadata": {},
   "outputs": [
    {
     "name": "stdout",
     "output_type": "stream",
     "text": [
      "['this', 'is', 'some', 'text']\n",
      "thisaye isaye someaye textaye "
     ]
    }
   ],
   "source": [
    "#In the following string, add aye in the end of every word and print the results.\n",
    "text = 'this is some text'\n",
    "list=text.split(\" \")\n",
    "print(list)\n",
    "for i in list:\n",
    "    l=i+\"aye\"\n",
    "    print(l,end=\" \")"
   ]
  },
  {
   "cell_type": "code",
   "execution_count": 26,
   "metadata": {},
   "outputs": [
    {
     "name": "stdout",
     "output_type": "stream",
     "text": [
      "yes 'fyi' is present in string\n"
     ]
    }
   ],
   "source": [
    "#ask user to enter a string and check if the string contains fyi\n",
    "n=input(\"Enter a string\")\n",
    "if \"fyi\" in n:\n",
    "    print(\"yes 'fyi' is present in string\")\n",
    "else:\n",
    "    print(\"no\")\n",
    "    "
   ]
  },
  {
   "cell_type": "code",
   "execution_count": 27,
   "metadata": {},
   "outputs": [
    {
     "name": "stdout",
     "output_type": "stream",
     "text": [
      " p34yt68hon404\n"
     ]
    }
   ],
   "source": [
    "# Remove all the special characters and numbers from the following string\n",
    "text = '%p34@y!*-*!t68h#&on404'\n",
    "newstr=\" \" \n",
    "for i in text:\n",
    "    if i.isalnum():\n",
    "        newstr=newstr+i\n",
    "print(newstr)"
   ]
  },
  {
   "cell_type": "code",
   "execution_count": 40,
   "metadata": {},
   "outputs": [
    {
     "name": "stdout",
     "output_type": "stream",
     "text": [
      "Average word length of the paragraph is: 4.636363636363637\n"
     ]
    }
   ],
   "source": [
    "#calculate the average word length of the following paragraph.\n",
    "#this is a paragraph which is written just for the purpose of providing content to let the average word length be calculated\n",
    "str=\"this is a paragraph which is written just for the purpose of providing content to let the average word length be calculated\"\n",
    "lst=str.split(\" \")\n",
    "c=0\n",
    "s=0\n",
    "for i in lst:\n",
    "    c+=1\n",
    "    s=s+len(i)\n",
    "print(f'Average word length of the paragraph is: {s/c}')"
   ]
  }
 ],
 "metadata": {
  "kernelspec": {
   "display_name": "base",
   "language": "python",
   "name": "python3"
  },
  "language_info": {
   "codemirror_mode": {
    "name": "ipython",
    "version": 3
   },
   "file_extension": ".py",
   "mimetype": "text/x-python",
   "name": "python",
   "nbconvert_exporter": "python",
   "pygments_lexer": "ipython3",
   "version": "3.10.10"
  },
  "orig_nbformat": 4
 },
 "nbformat": 4,
 "nbformat_minor": 2
}
