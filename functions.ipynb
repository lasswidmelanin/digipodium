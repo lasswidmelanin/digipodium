{
 "cells": [
  {
   "cell_type": "markdown",
   "metadata": {},
   "source": [
    "# programming funtions\n",
    "  - predefined functions\n",
    "     * standard library functions\n",
    "         - the functions that are imported by default when executing python code\n",
    "     - library(modules) functions \n",
    "         - pre installed libraries\n",
    "              - for example \n",
    "                         - os\n",
    "                         - math\n",
    "                         - random\n",
    "                         - datetime\n",
    "         * 3rd party\n",
    "              - install with pip\n",
    "                      - pip install <package-name>\n",
    "                      - pip show <package-name>\n",
    "              - install with conda\n",
    "                      - conda install <repo> <package-name>\n",
    "  - user defined funtion\n",
    "   - functions with name\n",
    "      - functions without parameters and return value\n",
    "      - funtions with parameters\n",
    "            - required parameters\n",
    "            - default parameters\n",
    "            - named parameters\n",
    "            - variable arguments\n",
    "            - keyword variable arguments \n",
    "      - functions with return value\n",
    "      - functions with both parameters and return value\n",
    "      - generators\n",
    "   - functions without name\n",
    "      - *lambda functions*(anonymous functions)"
   ]
  },
  {
   "cell_type": "code",
   "execution_count": 2,
   "metadata": {},
   "outputs": [],
   "source": [
    "import math"
   ]
  },
  {
   "cell_type": "code",
   "execution_count": 6,
   "metadata": {},
   "outputs": [
    {
     "name": "stdout",
     "output_type": "stream",
     "text": [
      "\u001b[1;31mSignature:\u001b[0m \u001b[0mmath\u001b[0m\u001b[1;33m.\u001b[0m\u001b[0mfactorial\u001b[0m\u001b[1;33m(\u001b[0m\u001b[0mx\u001b[0m\u001b[1;33m,\u001b[0m \u001b[1;33m/\u001b[0m\u001b[1;33m)\u001b[0m\u001b[1;33m\u001b[0m\u001b[1;33m\u001b[0m\u001b[0m\n",
      "\u001b[1;31mDocstring:\u001b[0m\n",
      "Find x!.\n",
      "\n",
      "Raise a ValueError if x is negative or non-integral.\n",
      "\u001b[1;31mType:\u001b[0m      builtin_function_or_method"
     ]
    }
   ],
   "source": [
    "math.factorial? # use ? to know the documentation of a function .....do not use in py files"
   ]
  },
  {
   "cell_type": "code",
   "execution_count": 7,
   "metadata": {},
   "outputs": [],
   "source": [
    "import os "
   ]
  },
  {
   "cell_type": "code",
   "execution_count": 8,
   "metadata": {},
   "outputs": [
    {
     "name": "stdout",
     "output_type": "stream",
     "text": [
      "\u001b[1;31mSignature:\u001b[0m \u001b[0mos\u001b[0m\u001b[1;33m.\u001b[0m\u001b[0mchdir\u001b[0m\u001b[1;33m(\u001b[0m\u001b[0mpath\u001b[0m\u001b[1;33m)\u001b[0m\u001b[1;33m\u001b[0m\u001b[1;33m\u001b[0m\u001b[0m\n",
      "\u001b[1;31mDocstring:\u001b[0m\n",
      "Change the current working directory to the specified path.\n",
      "\n",
      "path may always be specified as a string.\n",
      "On some platforms, path may also be specified as an open file descriptor.\n",
      "  If this functionality is unavailable, using it raises an exception.\n",
      "\u001b[1;31mType:\u001b[0m      builtin_function_or_method"
     ]
    }
   ],
   "source": [
    "os.chdir?"
   ]
  },
  {
   "cell_type": "code",
   "execution_count": 12,
   "metadata": {},
   "outputs": [
    {
     "name": "stdout",
     "output_type": "stream",
     "text": [
      "Simple Interest is 100.00\n"
     ]
    }
   ],
   "source": [
    "# simple interest\n",
    "def si(p,r,t):\n",
    "    '''A function to calculate simple interest'''  #documentation of a function\n",
    "    ans=(p*r*t)/100\n",
    "    print(f'Simple Interest is {ans:.2f}')\n",
    "si(1000,5,2)"
   ]
  },
  {
   "cell_type": "code",
   "execution_count": 20,
   "metadata": {},
   "outputs": [
    {
     "name": "stdout",
     "output_type": "stream",
     "text": [
      "\u001b[1;31mSignature:\u001b[0m \u001b[0msi\u001b[0m\u001b[1;33m(\u001b[0m\u001b[0mp\u001b[0m\u001b[1;33m,\u001b[0m \u001b[0mr\u001b[0m\u001b[1;33m,\u001b[0m \u001b[0mt\u001b[0m\u001b[1;33m)\u001b[0m\u001b[1;33m\u001b[0m\u001b[1;33m\u001b[0m\u001b[0m\n",
      "\u001b[1;31mDocstring:\u001b[0m A function to calculate simple interest\n",
      "\u001b[1;31mFile:\u001b[0m      c:\\users\\naincy\\appdata\\local\\temp\\ipykernel_20416\\669177301.py\n",
      "\u001b[1;31mType:\u001b[0m      function"
     ]
    }
   ],
   "source": [
    "si?"
   ]
  },
  {
   "cell_type": "code",
   "execution_count": 21,
   "metadata": {},
   "outputs": [
    {
     "name": "stdout",
     "output_type": "stream",
     "text": [
      "\u001b[1;31mSignature:\u001b[0m \u001b[0msi\u001b[0m\u001b[1;33m(\u001b[0m\u001b[0mp\u001b[0m\u001b[1;33m,\u001b[0m \u001b[0mr\u001b[0m\u001b[1;33m,\u001b[0m \u001b[0mt\u001b[0m\u001b[1;33m)\u001b[0m\u001b[1;33m\u001b[0m\u001b[1;33m\u001b[0m\u001b[0m\n",
      "\u001b[1;31mDocstring:\u001b[0m A function to calculate simple interest\n",
      "\u001b[1;31mFile:\u001b[0m      c:\\users\\naincy\\appdata\\local\\temp\\ipykernel_20416\\669177301.py\n",
      "\u001b[1;31mType:\u001b[0m      function"
     ]
    }
   ],
   "source": []
  },
  {
   "cell_type": "code",
   "execution_count": 28,
   "metadata": {},
   "outputs": [
    {
     "name": "stdout",
     "output_type": "stream",
     "text": [
      "18 is a prime number\n"
     ]
    }
   ],
   "source": [
    "# function to check prime number\n",
    "def prime_num(n):\n",
    "        if n%1==0 and n%==0:\n",
    "            print(f'{n} is a prime number')\n",
    "        else:\n",
    "            print(f'{n} is not a prime number')\n",
    "\n",
    "prime_num(18)"
   ]
  },
  {
   "cell_type": "code",
   "execution_count": 1,
   "metadata": {},
   "outputs": [
    {
     "name": "stdout",
     "output_type": "stream",
     "text": [
      "13.0\n"
     ]
    }
   ],
   "source": [
    "def hypotenuse(p,b):\n",
    "    h=(p**2+b**2)**0.5\n",
    "    print(h)\n",
    "\n",
    "hypotenuse(12,5)"
   ]
  },
  {
   "cell_type": "code",
   "execution_count": 5,
   "metadata": {},
   "outputs": [
    {
     "name": "stdout",
     "output_type": "stream",
     "text": [
      "1.4142135623730951\n",
      "5.0990195135927845\n",
      "13.0\n",
      "11.180339887498949\n",
      "17.69180601295413\n",
      "13.0\n"
     ]
    }
   ],
   "source": [
    "def hypotenuse(p=1,b=1):\n",
    "    h=(p**2+b**2)**0.5\n",
    "    print(h)\n",
    "\n",
    "hypotenuse()\n",
    "hypotenuse(5)\n",
    "hypotenuse(12,5)\n",
    "hypotenuse(p=10,b=5)#named argument/keyword argument\n",
    "hypotenuse(b=13,p=12)\n",
    "hypotenuse(12,b=5)\n",
    "#hypotenuse(b=5,12)  positional argument folows keyword argument"
   ]
  },
  {
   "cell_type": "code",
   "execution_count": 6,
   "metadata": {},
   "outputs": [
    {
     "name": "stdout",
     "output_type": "stream",
     "text": [
      "13.0\n",
      "13.0\n",
      "13.0\n",
      "13.0\n"
     ]
    }
   ],
   "source": [
    "x=int(input('Prep'))\n",
    "y=int(input(\"Base\"))\n",
    "hypotenuse(x,y)\n",
    "hypotenuse(p=x,b=y)\n",
    "hypotenuse(x,b=y)\n",
    "hypotenuse(b=y,p=x)"
   ]
  },
  {
   "cell_type": "code",
   "execution_count": 7,
   "metadata": {},
   "outputs": [
    {
     "name": "stdout",
     "output_type": "stream",
     "text": [
      "1 2 3 4 5 6 7 8 9 0 2 3 4\n"
     ]
    }
   ],
   "source": [
    "print(1,2,3,4,5,6,7,8,9,0,2,3,4)"
   ]
  },
  {
   "cell_type": "code",
   "execution_count": 8,
   "metadata": {},
   "outputs": [
    {
     "name": "stdout",
     "output_type": "stream",
     "text": [
      "()\n",
      "(2,)\n",
      "(2, 3, 4)\n",
      "(2, 3, 4, 1, 12, 2)\n"
     ]
    }
   ],
   "source": [
    "def multiplier(*num):\n",
    "    print(num)\n",
    "\n",
    "multiplier()\n",
    "multiplier(2)\n",
    "multiplier(2,3,4)\n",
    "multiplier(2,3,4,1,12,2)"
   ]
  },
  {
   "cell_type": "code",
   "execution_count": 10,
   "metadata": {},
   "outputs": [
    {
     "name": "stdout",
     "output_type": "stream",
     "text": [
      "1\n",
      "2\n",
      "24\n",
      "576\n"
     ]
    }
   ],
   "source": [
    "def multiplier(*num):\n",
    "    ans=1\n",
    "    for i in num:\n",
    "        ans*=i\n",
    "    print(ans)\n",
    "\n",
    "multiplier()\n",
    "multiplier(2)\n",
    "multiplier(2,3,4)\n",
    "multiplier(2,3,4,1,12,2)"
   ]
  },
  {
   "cell_type": "code",
   "execution_count": 11,
   "metadata": {},
   "outputs": [
    {
     "ename": "IndentationError",
     "evalue": "expected an indented block after function definition on line 1 (314742284.py, line 2)",
     "output_type": "error",
     "traceback": [
      "\u001b[1;36m  Cell \u001b[1;32mIn[11], line 2\u001b[1;36m\u001b[0m\n\u001b[1;33m    if operator==\"add\":\u001b[0m\n\u001b[1;37m    ^\u001b[0m\n\u001b[1;31mIndentationError\u001b[0m\u001b[1;31m:\u001b[0m expected an indented block after function definition on line 1\n"
     ]
    }
   ],
   "source": [
    "def agg(*num,operator=\"add\"):\n",
    "    if operator ==\"add\":\n",
    "    ans=0\n",
    "    for i in num:\n",
    "        ans+=i\n",
    "    print(ans)\n",
    "elif operator==\"mul\":\n",
    "    ans=1\n",
    "    for i in num:\n",
    "        ans*=i\n",
    "    print(ans)\n",
    "elif operator==\"mean\":\n",
    "    ans=0\n",
    "    for i in num:\n",
    "        ans+=i\n",
    "    print(ans/len(num))\n",
    "else:\n",
    "    print(\"invalid operator\")\n",
    "\n",
    "agg(11,22,33)\n",
    "agg(11,22,1,2,3, operator=\"add\")\n",
    "agg(11,22,33,operator=\"mul\")\n",
    "agg(11,22,33,operator=\"mean\")"
   ]
  }
 ],
 "metadata": {
  "kernelspec": {
   "display_name": "base",
   "language": "python",
   "name": "python3"
  },
  "language_info": {
   "codemirror_mode": {
    "name": "ipython",
    "version": 3
   },
   "file_extension": ".py",
   "mimetype": "text/x-python",
   "name": "python",
   "nbconvert_exporter": "python",
   "pygments_lexer": "ipython3",
   "version": "3.10.10"
  },
  "orig_nbformat": 4
 },
 "nbformat": 4,
 "nbformat_minor": 2
}
