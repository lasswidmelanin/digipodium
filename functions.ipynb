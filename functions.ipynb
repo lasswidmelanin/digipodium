{
 "cells": [
  {
   "cell_type": "markdown",
   "metadata": {},
   "source": [
    "# programming funtions\n",
    "  - predefined functions\n",
    "     * standard library functions\n",
    "         - the functions that are imported by default when executing python code\n",
    "     - library(modules) functions \n",
    "         - pre installed libraries\n",
    "              - for example \n",
    "                         - os\n",
    "                         - math\n",
    "                         - random\n",
    "                         - datetime\n",
    "         * 3rd party\n",
    "              - install with pip\n",
    "                      - pip install <package-name>\n",
    "                      - pip show <package-name>\n",
    "              - install with conda\n",
    "                      - conda install <repo> <package-name>\n",
    "  - user defined funtion\n",
    "   - functions with name\n",
    "      - functions without parameters and return value\n",
    "      - funtions with parameters\n",
    "            - required parameters\n",
    "            - default parameters\n",
    "            - named parameters\n",
    "            - variable arguments\n",
    "            - keyword variable arguments \n",
    "      - functions with return value\n",
    "      - functions with both parameters and return value\n",
    "      - generators\n",
    "   - functions without name\n",
    "      - *lambda functions*(anonymous functions)"
   ]
  },
  {
   "cell_type": "code",
   "execution_count": 2,
   "metadata": {},
   "outputs": [],
   "source": [
    "import math"
   ]
  },
  {
   "cell_type": "code",
   "execution_count": 6,
   "metadata": {},
   "outputs": [
    {
     "name": "stdout",
     "output_type": "stream",
     "text": [
      "\u001b[1;31mSignature:\u001b[0m \u001b[0mmath\u001b[0m\u001b[1;33m.\u001b[0m\u001b[0mfactorial\u001b[0m\u001b[1;33m(\u001b[0m\u001b[0mx\u001b[0m\u001b[1;33m,\u001b[0m \u001b[1;33m/\u001b[0m\u001b[1;33m)\u001b[0m\u001b[1;33m\u001b[0m\u001b[1;33m\u001b[0m\u001b[0m\n",
      "\u001b[1;31mDocstring:\u001b[0m\n",
      "Find x!.\n",
      "\n",
      "Raise a ValueError if x is negative or non-integral.\n",
      "\u001b[1;31mType:\u001b[0m      builtin_function_or_method"
     ]
    }
   ],
   "source": [
    "math.factorial? # use ? to know the documentation of a function .....do not use in py files"
   ]
  },
  {
   "cell_type": "code",
   "execution_count": 7,
   "metadata": {},
   "outputs": [],
   "source": [
    "import os "
   ]
  },
  {
   "cell_type": "code",
   "execution_count": 8,
   "metadata": {},
   "outputs": [
    {
     "name": "stdout",
     "output_type": "stream",
     "text": [
      "\u001b[1;31mSignature:\u001b[0m \u001b[0mos\u001b[0m\u001b[1;33m.\u001b[0m\u001b[0mchdir\u001b[0m\u001b[1;33m(\u001b[0m\u001b[0mpath\u001b[0m\u001b[1;33m)\u001b[0m\u001b[1;33m\u001b[0m\u001b[1;33m\u001b[0m\u001b[0m\n",
      "\u001b[1;31mDocstring:\u001b[0m\n",
      "Change the current working directory to the specified path.\n",
      "\n",
      "path may always be specified as a string.\n",
      "On some platforms, path may also be specified as an open file descriptor.\n",
      "  If this functionality is unavailable, using it raises an exception.\n",
      "\u001b[1;31mType:\u001b[0m      builtin_function_or_method"
     ]
    }
   ],
   "source": [
    "os.chdir?"
   ]
  },
  {
   "cell_type": "code",
   "execution_count": 12,
   "metadata": {},
   "outputs": [
    {
     "name": "stdout",
     "output_type": "stream",
     "text": [
      "Simple Interest is 100.00\n"
     ]
    }
   ],
   "source": [
    "# simple interest\n",
    "def si(p,r,t):\n",
    "    '''A function to calculate simple interest'''  #documentation of a function\n",
    "    ans=(p*r*t)/100\n",
    "    print(f'Simple Interest is {ans:.2f}')\n",
    "si(1000,5,2)"
   ]
  },
  {
   "cell_type": "code",
   "execution_count": 20,
   "metadata": {},
   "outputs": [
    {
     "name": "stdout",
     "output_type": "stream",
     "text": [
      "\u001b[1;31mSignature:\u001b[0m \u001b[0msi\u001b[0m\u001b[1;33m(\u001b[0m\u001b[0mp\u001b[0m\u001b[1;33m,\u001b[0m \u001b[0mr\u001b[0m\u001b[1;33m,\u001b[0m \u001b[0mt\u001b[0m\u001b[1;33m)\u001b[0m\u001b[1;33m\u001b[0m\u001b[1;33m\u001b[0m\u001b[0m\n",
      "\u001b[1;31mDocstring:\u001b[0m A function to calculate simple interest\n",
      "\u001b[1;31mFile:\u001b[0m      c:\\users\\naincy\\appdata\\local\\temp\\ipykernel_20416\\669177301.py\n",
      "\u001b[1;31mType:\u001b[0m      function"
     ]
    }
   ],
   "source": [
    "si?"
   ]
  },
  {
   "cell_type": "code",
   "execution_count": 21,
   "metadata": {},
   "outputs": [
    {
     "name": "stdout",
     "output_type": "stream",
     "text": [
      "\u001b[1;31mSignature:\u001b[0m \u001b[0msi\u001b[0m\u001b[1;33m(\u001b[0m\u001b[0mp\u001b[0m\u001b[1;33m,\u001b[0m \u001b[0mr\u001b[0m\u001b[1;33m,\u001b[0m \u001b[0mt\u001b[0m\u001b[1;33m)\u001b[0m\u001b[1;33m\u001b[0m\u001b[1;33m\u001b[0m\u001b[0m\n",
      "\u001b[1;31mDocstring:\u001b[0m A function to calculate simple interest\n",
      "\u001b[1;31mFile:\u001b[0m      c:\\users\\naincy\\appdata\\local\\temp\\ipykernel_20416\\669177301.py\n",
      "\u001b[1;31mType:\u001b[0m      function"
     ]
    }
   ],
   "source": []
  },
  {
   "cell_type": "code",
   "execution_count": 28,
   "metadata": {},
   "outputs": [
    {
     "name": "stdout",
     "output_type": "stream",
     "text": [
      "18 is a prime number\n"
     ]
    }
   ],
   "source": [
    "# function to check prime number\n",
    "def prime_num(n):\n",
    "        if n%1==0 and n%==0:\n",
    "            print(f'{n} is a prime number')\n",
    "        else:\n",
    "            print(f'{n} is not a prime number')\n",
    "\n",
    "prime_num(18)"
   ]
  }
 ],
 "metadata": {
  "kernelspec": {
   "display_name": "base",
   "language": "python",
   "name": "python3"
  },
  "language_info": {
   "codemirror_mode": {
    "name": "ipython",
    "version": 3
   },
   "file_extension": ".py",
   "mimetype": "text/x-python",
   "name": "python",
   "nbconvert_exporter": "python",
   "pygments_lexer": "ipython3",
   "version": "3.10.10"
  },
  "orig_nbformat": 4
 },
 "nbformat": 4,
 "nbformat_minor": 2
}
