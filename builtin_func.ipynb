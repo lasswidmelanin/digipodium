{
 "cells": [
  {
   "cell_type": "code",
   "execution_count": null,
   "metadata": {},
   "outputs": [],
   "source": [
    "print()\n",
    "input()\n",
    "type()\n",
    "int(),float(),str(),bool(),list(),tuple(),set(),\n",
    "enumerate(),zip()\n",
    "map(),filter()\n",
    "all(),any()\n",
    "dir()\n",
    "help()\n",
    "open()\n",
    "eval(),exec()"
   ]
  },
  {
   "cell_type": "code",
   "execution_count": 1,
   "metadata": {},
   "outputs": [
    {
     "name": "stdout",
     "output_type": "stream",
     "text": [
      "[21, 34, 12, 45, 456, 3]\n",
      "571\n",
      "456\n",
      "3\n",
      "6\n",
      "[3, 12, 21, 34, 45, 456]\n",
      "[3, 456, 45, 12, 34, 21]\n"
     ]
    }
   ],
   "source": [
    "x=[21,34,12,45,456,3]\n",
    "print(x)\n",
    "print(sum(x))\n",
    "print(max(x))\n",
    "print(min(x))\n",
    "print(len(x))\n",
    "print(sorted(x))\n",
    "print(list(reversed(x)))\n"
   ]
  },
  {
   "cell_type": "code",
   "execution_count": 6,
   "metadata": {},
   "outputs": [
    {
     "name": "stdout",
     "output_type": "stream",
     "text": [
      "[1.0, 2.0, 3.0, 4.0, 5.0, 6.0, 7.0, 8.0, 9.0, 10.0]\n",
      "[1, 4, 27, 16, 25, 36, 343, 512, 729, 1000]\n"
     ]
    }
   ],
   "source": [
    "#map filter (same operation on all the elements)\n",
    "data = [1,2,3,4,5,6,7,8,9,10]\n",
    "print(list(map(float,data)))\n",
    "exp=[2,2,3,2,2,2,3,3,3,3]\n",
    "print(list(map(pow,data,exp)))"
   ]
  },
  {
   "cell_type": "code",
   "execution_count": 8,
   "metadata": {},
   "outputs": [
    {
     "data": {
      "text/plain": [
       "[5, 3, 1, 1, 2]"
      ]
     },
     "execution_count": 8,
     "metadata": {},
     "output_type": "execute_result"
    }
   ],
   "source": [
    "#fliter\n",
    "x=[5,3,0,1,0,0,1,2,0]\n",
    "list(filter(bool,x))"
   ]
  },
  {
   "cell_type": "code",
   "execution_count": 11,
   "metadata": {},
   "outputs": [
    {
     "data": {
      "text/plain": [
       "4"
      ]
     },
     "execution_count": 11,
     "metadata": {},
     "output_type": "execute_result"
    }
   ],
   "source": [
    "round(4.5)"
   ]
  },
  {
   "cell_type": "code",
   "execution_count": 13,
   "metadata": {},
   "outputs": [
    {
     "data": {
      "text/plain": [
       "4.33432"
      ]
     },
     "execution_count": 13,
     "metadata": {},
     "output_type": "execute_result"
    }
   ],
   "source": [
    "round(4.334324234321,5)"
   ]
  },
  {
   "cell_type": "code",
   "execution_count": 14,
   "metadata": {},
   "outputs": [
    {
     "data": {
      "text/plain": [
       "False"
      ]
     },
     "execution_count": 14,
     "metadata": {},
     "output_type": "execute_result"
    }
   ],
   "source": [
    "all(x) # if all data is true then returns true else false"
   ]
  },
  {
   "cell_type": "code",
   "execution_count": 15,
   "metadata": {},
   "outputs": [
    {
     "data": {
      "text/plain": [
       "True"
      ]
     },
     "execution_count": 15,
     "metadata": {},
     "output_type": "execute_result"
    }
   ],
   "source": [
    "any(x)# if any data is true then returns true else false"
   ]
  },
  {
   "cell_type": "code",
   "execution_count": 18,
   "metadata": {},
   "outputs": [
    {
     "name": "stdout",
     "output_type": "stream",
     "text": [
      "['__add__', '__class__', '__class_getitem__', '__contains__', '__delattr__', '__delitem__', '__dir__', '__doc__', '__eq__', '__format__', '__ge__', '__getattribute__', '__getitem__', '__gt__', '__hash__', '__iadd__', '__imul__', '__init__', '__init_subclass__', '__iter__', '__le__', '__len__', '__lt__', '__mul__', '__ne__', '__new__', '__reduce__', '__reduce_ex__', '__repr__', '__reversed__', '__rmul__', '__setattr__', '__setitem__', '__sizeof__', '__str__', '__subclasshook__', 'append', 'clear', 'copy', 'count', 'extend', 'index', 'insert', 'pop', 'remove', 'reverse', 'sort']\n"
     ]
    }
   ],
   "source": [
    "print(dir(x))"
   ]
  },
  {
   "cell_type": "code",
   "execution_count": 19,
   "metadata": {},
   "outputs": [
    {
     "name": "stdout",
     "output_type": "stream",
     "text": [
      "Help on list object:\n",
      "\n",
      "class list(object)\n",
      " |  list(iterable=(), /)\n",
      " |  \n",
      " |  Built-in mutable sequence.\n",
      " |  \n",
      " |  If no argument is given, the constructor creates a new empty list.\n",
      " |  The argument must be an iterable if specified.\n",
      " |  \n",
      " |  Methods defined here:\n",
      " |  \n",
      " |  __add__(self, value, /)\n",
      " |      Return self+value.\n",
      " |  \n",
      " |  __contains__(self, key, /)\n",
      " |      Return key in self.\n",
      " |  \n",
      " |  __delitem__(self, key, /)\n",
      " |      Delete self[key].\n",
      " |  \n",
      " |  __eq__(self, value, /)\n",
      " |      Return self==value.\n",
      " |  \n",
      " |  __ge__(self, value, /)\n",
      " |      Return self>=value.\n",
      " |  \n",
      " |  __getattribute__(self, name, /)\n",
      " |      Return getattr(self, name).\n",
      " |  \n",
      " |  __getitem__(...)\n",
      " |      x.__getitem__(y) <==> x[y]\n",
      " |  \n",
      " |  __gt__(self, value, /)\n",
      " |      Return self>value.\n",
      " |  \n",
      " |  __iadd__(self, value, /)\n",
      " |      Implement self+=value.\n",
      " |  \n",
      " |  __imul__(self, value, /)\n",
      " |      Implement self*=value.\n",
      " |  \n",
      " |  __init__(self, /, *args, **kwargs)\n",
      " |      Initialize self.  See help(type(self)) for accurate signature.\n",
      " |  \n",
      " |  __iter__(self, /)\n",
      " |      Implement iter(self).\n",
      " |  \n",
      " |  __le__(self, value, /)\n",
      " |      Return self<=value.\n",
      " |  \n",
      " |  __len__(self, /)\n",
      " |      Return len(self).\n",
      " |  \n",
      " |  __lt__(self, value, /)\n",
      " |      Return self<value.\n",
      " |  \n",
      " |  __mul__(self, value, /)\n",
      " |      Return self*value.\n",
      " |  \n",
      " |  __ne__(self, value, /)\n",
      " |      Return self!=value.\n",
      " |  \n",
      " |  __repr__(self, /)\n",
      " |      Return repr(self).\n",
      " |  \n",
      " |  __reversed__(self, /)\n",
      " |      Return a reverse iterator over the list.\n",
      " |  \n",
      " |  __rmul__(self, value, /)\n",
      " |      Return value*self.\n",
      " |  \n",
      " |  __setitem__(self, key, value, /)\n",
      " |      Set self[key] to value.\n",
      " |  \n",
      " |  __sizeof__(self, /)\n",
      " |      Return the size of the list in memory, in bytes.\n",
      " |  \n",
      " |  append(self, object, /)\n",
      " |      Append object to the end of the list.\n",
      " |  \n",
      " |  clear(self, /)\n",
      " |      Remove all items from list.\n",
      " |  \n",
      " |  copy(self, /)\n",
      " |      Return a shallow copy of the list.\n",
      " |  \n",
      " |  count(self, value, /)\n",
      " |      Return number of occurrences of value.\n",
      " |  \n",
      " |  extend(self, iterable, /)\n",
      " |      Extend list by appending elements from the iterable.\n",
      " |  \n",
      " |  index(self, value, start=0, stop=9223372036854775807, /)\n",
      " |      Return first index of value.\n",
      " |      \n",
      " |      Raises ValueError if the value is not present.\n",
      " |  \n",
      " |  insert(self, index, object, /)\n",
      " |      Insert object before index.\n",
      " |  \n",
      " |  pop(self, index=-1, /)\n",
      " |      Remove and return item at index (default last).\n",
      " |      \n",
      " |      Raises IndexError if list is empty or index is out of range.\n",
      " |  \n",
      " |  remove(self, value, /)\n",
      " |      Remove first occurrence of value.\n",
      " |      \n",
      " |      Raises ValueError if the value is not present.\n",
      " |  \n",
      " |  reverse(self, /)\n",
      " |      Reverse *IN PLACE*.\n",
      " |  \n",
      " |  sort(self, /, *, key=None, reverse=False)\n",
      " |      Sort the list in ascending order and return None.\n",
      " |      \n",
      " |      The sort is in-place (i.e. the list itself is modified) and stable (i.e. the\n",
      " |      order of two equal elements is maintained).\n",
      " |      \n",
      " |      If a key function is given, apply it once to each list item and sort them,\n",
      " |      ascending or descending, according to their function values.\n",
      " |      \n",
      " |      The reverse flag can be set to sort in descending order.\n",
      " |  \n",
      " |  ----------------------------------------------------------------------\n",
      " |  Class methods defined here:\n",
      " |  \n",
      " |  __class_getitem__(...) from builtins.type\n",
      " |      See PEP 585\n",
      " |  \n",
      " |  ----------------------------------------------------------------------\n",
      " |  Static methods defined here:\n",
      " |  \n",
      " |  __new__(*args, **kwargs) from builtins.type\n",
      " |      Create and return a new object.  See help(type) for accurate signature.\n",
      " |  \n",
      " |  ----------------------------------------------------------------------\n",
      " |  Data and other attributes defined here:\n",
      " |  \n",
      " |  __hash__ = None\n",
      "\n"
     ]
    }
   ],
   "source": [
    "help(x)"
   ]
  },
  {
   "cell_type": "code",
   "execution_count": 22,
   "metadata": {},
   "outputs": [
    {
     "name": "stdout",
     "output_type": "stream",
     "text": [
      "True\n",
      "False\n",
      "True\n",
      "False\n"
     ]
    }
   ],
   "source": [
    "print(isinstance(x,(tuple,list,set)))\n",
    "print(isinstance(x,(tuple)))\n",
    "print(isinstance(x,(list)))\n",
    "print(isinstance(x,(set)))"
   ]
  },
  {
   "cell_type": "code",
   "execution_count": 23,
   "metadata": {},
   "outputs": [
    {
     "name": "stdout",
     "output_type": "stream",
     "text": [
      "from turtle import *\n",
      "for i in range(4):\n",
      "   fd(150)\n",
      "   rt(90)\n",
      "hideturtle()\n",
      "mainloop()\n"
     ]
    }
   ],
   "source": [
    "print(open('t1.py').read())\n",
    "\n"
   ]
  },
  {
   "cell_type": "code",
   "execution_count": 24,
   "metadata": {},
   "outputs": [
    {
     "data": {
      "text/plain": [
       "12"
      ]
     },
     "execution_count": 24,
     "metadata": {},
     "output_type": "execute_result"
    }
   ],
   "source": [
    "open('file.txt','w').write('hello duniya')"
   ]
  },
  {
   "cell_type": "code",
   "execution_count": 25,
   "metadata": {},
   "outputs": [
    {
     "name": "stdout",
     "output_type": "stream",
     "text": [
      "hello duniya\n"
     ]
    }
   ],
   "source": [
    "print(open('file.txt').read())"
   ]
  },
  {
   "cell_type": "code",
   "execution_count": 26,
   "metadata": {},
   "outputs": [
    {
     "name": "stdout",
     "output_type": "stream",
     "text": [
      "{\n",
      " \"cells\": [\n",
      "  {\n",
      "   \"cell_type\": \"code\",\n",
      "   \"execution_count\": 1,\n",
      "   \"metadata\": {},\n",
      "   \"outputs\": [\n",
      "    {\n",
      "     \"name\": \"stdout\",\n",
      "     \"output_type\": \"stream\",\n",
      "     \"text\": [\n",
      "      \"1\\n\",\n",
      "      \"2\\n\",\n",
      "      \"3\\n\",\n",
      "      \"4\\n\",\n",
      "      \"5\\n\",\n",
      "      \"6\\n\",\n",
      "      \"7\\n\",\n",
      "      \"8\\n\",\n",
      "      \"9\\n\",\n",
      "      \"10\\n\"\n",
      "     ]\n",
      "    }\n",
      "   ],\n",
      "   \"source\": [\n",
      "    \"# wap to print numbers from 1 to 10 using a for loop\\n\",\n",
      "    \"for i in range(1,11):\\n\",\n",
      "    \"    print(i)\"\n",
      "   ]\n",
      "  },\n",
      "  {\n",
      "   \"cell_type\": \"code\",\n",
      "   \"execution_count\": 7,\n",
      "   \"metadata\": {},\n",
      "   \"outputs\": [\n",
      "    {\n",
      "     \"name\": \"stdout\",\n",
      "     \"output_type\": \"stream\",\n",
      "     \"text\": [\n",
      "      \"6*1=6\\n\",\n",
      "      \"6*2=12\\n\",\n",
      "      \"6*3=18\\n\",\n",
      "      \"6*4=24\\n\",\n",
      "      \"6*5=30\\n\",\n",
      "      \"6*6=36\\n\",\n",
      "      \"6*7=42\\n\",\n",
      "      \"6*8=48\\n\",\n",
      "      \"6*9=54\\n\",\n",
      "      \"6*10=60\\n\"\n",
      "     ]\n",
      "    }\n",
      "   ],\n",
      "   \"source\": [\n",
      "    \"# wap to primt a multiplication table of a given number using while loop\\n\",\n",
      "    \"n=int(input(\\\"Enter a number\\\"))\\n\",\n",
      "    \"r=1\\n\",\n",
      "    \"while r<=10:\\n\",\n",
      "    \"    print(f'{n}*{r}={n*r}')\\n\",\n",
      "    \"    r+=1\\n\"\n",
      "   ]\n",
      "  },\n",
      "  {\n",
      "   \"cell_type\": \"code\",\n",
      "   \"execution_count\": 26,\n",
      "   \"metadata\": {},\n",
      "   \"outputs\": [\n",
      "    {\n",
      "     \"name\": \"stdout\",\n",
      "     \"output_type\": \"stream\",\n",
      "     \"text\": [\n",
      "      \"0\\n\",\n",
      "      \"2\\n\",\n",
      "      \"6\\n\",\n",
      "      \"12\\n\",\n",
      "      \"20\\n\",\n",
      "      \"30\\n\",\n",
      "      \"42\\n\",\n",
      "      \"56\\n\",\n",
      "      \"72\\n\",\n",
      "      \"90\\n\",\n",
      "      \"110\\n\",\n",
      "      \"132\\n\",\n",
      "      \"156\\n\",\n",
      "      \"182\\n\",\n",
      "      \"210\\n\",\n",
      "      \"240\\n\",\n",
      "      \"272\\n\",\n",
      "      \"306\\n\",\n",
      "      \"342\\n\",\n",
      "      \"380\\n\",\n",
      "      \"420\\n\",\n",
      "      \"462\\n\",\n",
      "      \"506\\n\",\n",
      "      \"552\\n\",\n",
      "      \"600\\n\",\n",
      "      \"650\\n\",\n",
      "      \"702\\n\",\n",
      "      \"756\\n\",\n",
      "      \"812\\n\",\n",
      "      \"870\\n\",\n",
      "      \"930\\n\",\n",
      "      \"992\\n\",\n",
      "      \"1056\\n\",\n",
      "      \"1122\\n\",\n",
      "      \"1190\\n\",\n",
      "      \"1260\\n\",\n",
      "      \"1332\\n\",\n",
      "      \"1406\\n\",\n",
      "      \"1482\\n\",\n",
      "      \"1560\\n\",\n",
      "      \"1640\\n\",\n",
      "      \"1722\\n\",\n",
      "      \"1806\\n\",\n",
      "      \"1892\\n\",\n",
      "      \"1980\\n\",\n",
      "      \"2070\\n\",\n",
      "      \"2162\\n\",\n",
      "      \"2256\\n\",\n",
      "      \"2352\\n\",\n",
      "      \"2450\\n\",\n",
      "      \"2550\\n\"\n",
      "     ]\n",
      "    }\n",
      "   ],\n",
      "   \"source\": [\n",
      "    \"# wap to print sum of all even numbers between 1 to 100 using a for loop\\n\",\n",
      "    \"s=0\\n\",\n",
      "    \"even=101\\n\",\n",
      "    \"for i in range(even):\\n\",\n",
      "    \"    if i%2==0:\\n\",\n",
      "    \"        s=s+i\\n\",\n",
      "    \"        print(s)\"\n",
      "   ]\n",
      "  },\n",
      "  {\n",
      "   \"cell_type\": \"code\",\n",
      "   \"execution_count\": 46,\n",
      "   \"metadata\": {},\n",
      "   \"outputs\": [\n",
      "    {\n",
      "     \"name\": \"stdout\",\n",
      "     \"output_type\": \"stream\",\n",
      "     \"text\": [\n",
      "      \"13 is a prime number\\n\"\n",
      "     ]\n",
      "    }\n",
      "   ],\n",
      "   \"source\": [\n",
      "    \"# check if a given number is a prime or not using a while loop \\n\",\n",
      "    \"n=int(input(\\\"Enter a number\\\"))\\n\",\n",
      "    \"i=1\\n\",\n",
      "    \"while i<=n:\\n\",\n",
      "    \"    if n%i==0:\\n\",\n",
      "    \"        print(f'{n} is a prime number')\\n\",\n",
      "    \"        i+=1\\n\",\n",
      "    \"        break\\n\",\n",
      "    \"else:\\n\",\n",
      "    \"    print(f'{n} is not a prime number')\"\n",
      "   ]\n",
      "  },\n",
      "  {\n",
      "   \"cell_type\": \"code\",\n",
      "   \"execution_count\": 55,\n",
      "   \"metadata\": {},\n",
      "   \"outputs\": [\n",
      "    {\n",
      "     \"name\": \"stdout\",\n",
      "     \"output_type\": \"stream\",\n",
      "     \"text\": [\n",
      "      \"1\\n\",\n",
      "      \"2\\n\",\n",
      "      \"6\\n\",\n",
      "      \"24\\n\",\n",
      "      \"120\\n\",\n",
      "      \"720\\n\"\n",
      "     ]\n",
      "    }\n",
      "   ],\n",
      "   \"source\": [\n",
      "    \"#factorial of a number using a for loop\\n\",\n",
      "    \"n=int(input(\\\"Enter a number\\\"))\\n\",\n",
      "    \"f=1\\n\",\n",
      "    \"for i in range(1,n+1):\\n\",\n",
      "    \"    f=f*i\\n\",\n",
      "    \"    print(f)\"\n",
      "   ]\n",
      "  },\n",
      "  {\n",
      "   \"cell_type\": \"code\",\n",
      "   \"execution_count\": 56,\n",
      "   \"metadata\": {},\n",
      "   \"outputs\": [\n",
      "    {\n",
      "     \"name\": \"stdout\",\n",
      "     \"output_type\": \"stream\",\n",
      "     \"text\": [\n",
      "      \"0 0\\n\",\n",
      "      \"1 1\\n\",\n",
      "      \"2 3\\n\",\n",
      "      \"3 6\\n\",\n",
      "      \"4 10\\n\",\n",
      "      \"5 15\\n\",\n",
      "      \"6 21\\n\",\n",
      "      \"7 28\\n\",\n",
      "      \"8 36\\n\",\n",
      "      \"9 45\\n\",\n",
      "      \"10 55\\n\"\n",
      "     ]\n",
      "    }\n",
      "   ],\n",
      "   \"source\": [\n",
      "    \"# fibbonacci series using while loop \\n\",\n",
      "    \"i=0\\n\",\n",
      "    \"s=0\\n\",\n",
      "    \"num=10\\n\",\n",
      "    \"while i<=num:\\n\",\n",
      "    \"    s=\\n\",\n",
      "    \"    print(f'{i} {s}')\\n\",\n",
      "    \"    i+=1\\n\"\n",
      "   ]\n",
      "  }\n",
      " ],\n",
      " \"metadata\": {\n",
      "  \"kernelspec\": {\n",
      "   \"display_name\": \"base\",\n",
      "   \"language\": \"python\",\n",
      "   \"name\": \"python3\"\n",
      "  },\n",
      "  \"language_info\": {\n",
      "   \"codemirror_mode\": {\n",
      "    \"name\": \"ipython\",\n",
      "    \"version\": 3\n",
      "   },\n",
      "   \"file_extension\": \".py\",\n",
      "   \"mimetype\": \"text/x-python\",\n",
      "   \"name\": \"python\",\n",
      "   \"nbconvert_exporter\": \"python\",\n",
      "   \"pygments_lexer\": \"ipython3\",\n",
      "   \"version\": \"3.10.10\"\n",
      "  },\n",
      "  \"orig_nbformat\": 4\n",
      " },\n",
      " \"nbformat\": 4,\n",
      " \"nbformat_minor\": 2\n",
      "}\n",
      "\n"
     ]
    }
   ],
   "source": [
    "print(open('practice.ipynb').read())"
   ]
  },
  {
   "cell_type": "code",
   "execution_count": null,
   "metadata": {},
   "outputs": [],
   "source": []
  }
 ],
 "metadata": {
  "kernelspec": {
   "display_name": "base",
   "language": "python",
   "name": "python3"
  },
  "language_info": {
   "codemirror_mode": {
    "name": "ipython",
    "version": 3
   },
   "file_extension": ".py",
   "mimetype": "text/x-python",
   "name": "python",
   "nbconvert_exporter": "python",
   "pygments_lexer": "ipython3",
   "version": "3.10.10"
  },
  "orig_nbformat": 4
 },
 "nbformat": 4,
 "nbformat_minor": 2
}
