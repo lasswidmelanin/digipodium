{
 "cells": [
  {
   "cell_type": "code",
   "execution_count": 2,
   "metadata": {},
   "outputs": [
    {
     "name": "stdout",
     "output_type": "stream",
     "text": [
      "[1 2 3 4 5]\n"
     ]
    },
    {
     "data": {
      "text/plain": [
       "numpy.ndarray"
      ]
     },
     "execution_count": 2,
     "metadata": {},
     "output_type": "execute_result"
    }
   ],
   "source": [
    "import numpy as np\n",
    "x = np.array([1,2,3,4,5])\n",
    "print(x)\n",
    "type(x)"
   ]
  },
  {
   "cell_type": "code",
   "execution_count": 4,
   "metadata": {},
   "outputs": [
    {
     "name": "stdout",
     "output_type": "stream",
     "text": [
      "[7 9 9 1 4 3]\n"
     ]
    }
   ],
   "source": [
    "# we can also pass a list, tuple or any array  like object with array() and it will be converted to ndarray\n",
    "a= np.array((7,9,9,1,4,3))\n",
    "print(a)"
   ]
  },
  {
   "cell_type": "code",
   "execution_count": 6,
   "metadata": {},
   "outputs": [
    {
     "name": "stdout",
     "output_type": "stream",
     "text": [
      "42\n"
     ]
    }
   ],
   "source": [
    "# dimensions in array - a dimension in array is one level of array depth(nested array)\n",
    "\n",
    "# 0-D Array  -   scalars, are the elements in an array, each value in an array is a O-D array\n",
    "\n",
    "# O-D array with value 42\n",
    "y=np.array(42)\n",
    "print(y)"
   ]
  },
  {
   "cell_type": "code",
   "execution_count": 7,
   "metadata": {},
   "outputs": [
    {
     "name": "stdout",
     "output_type": "stream",
     "text": [
      "[11 12 13 14 15]\n"
     ]
    }
   ],
   "source": [
    "#1-D array - an array that has 0-D arrays as its elements is uni directional or 1-D\n",
    "one_d=np.array([11,12,13,14,15])\n",
    "print(one_d)"
   ]
  },
  {
   "cell_type": "code",
   "execution_count": 9,
   "metadata": {},
   "outputs": [
    {
     "name": "stdout",
     "output_type": "stream",
     "text": [
      "[[1 2 3]\n",
      " [6 7 8]]\n"
     ]
    }
   ],
   "source": [
    "# 2-D array\n",
    "two_d=np.array([[1,2,3],[6,7,8]])\n",
    "print(two_d)"
   ]
  },
  {
   "cell_type": "code",
   "execution_count": 10,
   "metadata": {},
   "outputs": [
    {
     "name": "stdout",
     "output_type": "stream",
     "text": [
      "[[[1 2 3]\n",
      "  [4 5 6]]\n",
      "\n",
      " [[1 2 3]\n",
      "  [4 5 6]]]\n"
     ]
    }
   ],
   "source": [
    "# 3-D array created with two 2-D array\n",
    "three_d=np.array([[[1,2,3],[4,5,6]],[[1,2,3],[4,5,6]]])\n",
    "print(three_d)"
   ]
  },
  {
   "cell_type": "code",
   "execution_count": 11,
   "metadata": {},
   "outputs": [
    {
     "name": "stdout",
     "output_type": "stream",
     "text": [
      "1\n",
      "1\n",
      "0\n",
      "1\n",
      "2\n",
      "3\n"
     ]
    }
   ],
   "source": [
    "print(a.ndim)\n",
    "print(x.ndim)\n",
    "print(y.ndim)\n",
    "print(one_d.ndim)\n",
    "print(two_d.ndim)\n",
    "print(three_d.ndim)"
   ]
  },
  {
   "cell_type": "code",
   "execution_count": 12,
   "metadata": {},
   "outputs": [
    {
     "name": "stdout",
     "output_type": "stream",
     "text": [
      "[[[[[1 2 3 4 5]]]]]\n",
      "number of dimensions: 5\n"
     ]
    }
   ],
   "source": [
    "# 5-D array conversion to 1 D \n",
    "five_d=np.array([1,2,3,4,5], ndmin=5)\n",
    "print(five_d)\n",
    "print(\"number of dimensions:\", five_d.ndim)"
   ]
  },
  {
   "cell_type": "markdown",
   "metadata": {},
   "source": [
    "# indexing"
   ]
  },
  {
   "cell_type": "code",
   "execution_count": 19,
   "metadata": {},
   "outputs": [
    {
     "name": "stdout",
     "output_type": "stream",
     "text": [
      "12 13 11\n"
     ]
    }
   ],
   "source": [
    "# array indexing is same as accessing an array element \n",
    "# starts from 0 to n\n",
    "ind=np.array([11,12,13,14])\n",
    "print(ind[1],ind[2],ind[0])"
   ]
  },
  {
   "cell_type": "code",
   "execution_count": 17,
   "metadata": {},
   "outputs": [
    {
     "name": "stdout",
     "output_type": "stream",
     "text": [
      "27\n"
     ]
    }
   ],
   "source": [
    "# we can get element from adding them\n",
    "ind=np.array([11,12,13,14])\n",
    "print(ind[2]+ind[3])"
   ]
  },
  {
   "cell_type": "code",
   "execution_count": 26,
   "metadata": {},
   "outputs": [
    {
     "name": "stdout",
     "output_type": "stream",
     "text": [
      "[[ 1  2  3  4  5]\n",
      " [ 6  7  8  9 10]]\n",
      "second element on first row: 2\n",
      "fifth element in second row: 10\n"
     ]
    }
   ],
   "source": [
    "# accessing 2 D array elements\n",
    "# imagine rows and columns\n",
    "two_acc= np.array([[1,2,3,4,5],[6,7,8,9,10]])\n",
    "print(two_acc)\n",
    "print('second element in first row:',two_acc[0,1])\n",
    "print(\"fifth element in second row:\",two_acc[1,4])"
   ]
  },
  {
   "cell_type": "code",
   "execution_count": 40,
   "metadata": {},
   "outputs": [
    {
     "name": "stdout",
     "output_type": "stream",
     "text": [
      "[[[11 12 13]\n",
      "  [14 15 16]]\n",
      "\n",
      " [[21 22 23]\n",
      "  [24 25 26]]]\n",
      "find 15 in 3d array: 15\n",
      "find 23 in 3d array: 23\n",
      "[[11 12 13]\n",
      " [14 15 16]]\n",
      "[14 15 16]\n",
      "[[21 22 23]\n",
      " [24 25 26]]\n",
      "[24 25 26]\n"
     ]
    }
   ],
   "source": [
    "# accessing 3 D elements\n",
    "three_acc=np.array([[[11,12,13],[14,15,16]],[[21,22,23],[24,25,26]]])\n",
    "print(three_acc)\n",
    "print('find 15 in 3d array:',three_acc[0,1,1])\n",
    "print('find 23 in 3d array:',three_acc[1,0,2])\n",
    "print(three_acc[0])\n",
    "print(three_acc[0,1])\n",
    "print(three_acc[1])\n",
    "print(three_acc[1,1])"
   ]
  },
  {
   "cell_type": "markdown",
   "metadata": {},
   "source": [
    "# slicing"
   ]
  },
  {
   "cell_type": "code",
   "execution_count": 65,
   "metadata": {},
   "outputs": [
    {
     "name": "stdout",
     "output_type": "stream",
     "text": [
      "[2 3 4]\n",
      "[5 6 7 8 9]\n",
      "[1 2 3 4 5]\n",
      "[1 3 5 7 9]\n",
      "[1 3 5]\n",
      "[7 8]\n",
      "[6 7 8 9]\n",
      "[1 3 5 7 9]\n",
      "[2 4 6 8]\n"
     ]
    }
   ],
   "source": [
    "#[start:end]  [start:end:steps]\n",
    "sl=np.array([1,2,3,4,5,6,7,8,9])\n",
    "print(sl[1:4])\n",
    "print(sl[4:])\n",
    "print(sl[:5])\n",
    "print(sl[0:len(sl):2])\n",
    "print(sl[0:5:2])\n",
    "\n",
    "#negative slicing\n",
    "print(sl[-3:-1])\n",
    "print(sl[-4:])\n",
    " \n",
    "# odd values\n",
    "print(sl[::2])\n",
    "\n",
    "# even values\n",
    "print(sl[1::2])"
   ]
  },
  {
   "cell_type": "code",
   "execution_count": 76,
   "metadata": {},
   "outputs": [
    {
     "name": "stdout",
     "output_type": "stream",
     "text": [
      "[[ 1  2  3  4  5]\n",
      " [ 6  7  8  9 10]]\n",
      "[7 8 9]\n",
      "[3 8]\n",
      "2 7\n",
      "[2 7]\n",
      "[[2 3 4]\n",
      " [7 8 9]]\n"
     ]
    }
   ],
   "source": [
    "# SLICING 2D ARRAY\n",
    "two_sl=np.array([[1,2,3,4,5],[6,7,8,9,10]])\n",
    "print(two_sl)\n",
    "print(two_sl[1,1:4])\n",
    "print(two_sl[0:2, 2]) #0:2 is for 2D array indexing\n",
    "print(two_sl[0,1],two_sl[1,1]) #better to use way given below\n",
    "print(two_sl[0:2,1]) # 0:2 is for 2D array indexing\n",
    "print(two_sl[0:2, 1:4]) # 0:4 is for 2D array indexing and 1:4 is for within the each array indexing"
   ]
  },
  {
   "cell_type": "code",
   "execution_count": null,
   "metadata": {},
   "outputs": [],
   "source": []
  }
 ],
 "metadata": {
  "kernelspec": {
   "display_name": "base",
   "language": "python",
   "name": "python3"
  },
  "language_info": {
   "codemirror_mode": {
    "name": "ipython",
    "version": 3
   },
   "file_extension": ".py",
   "mimetype": "text/x-python",
   "name": "python",
   "nbconvert_exporter": "python",
   "pygments_lexer": "ipython3",
   "version": "3.10.10"
  },
  "orig_nbformat": 4
 },
 "nbformat": 4,
 "nbformat_minor": 2
}
