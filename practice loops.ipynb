{
 "cells": [
  {
   "cell_type": "code",
   "execution_count": 1,
   "metadata": {},
   "outputs": [
    {
     "name": "stdout",
     "output_type": "stream",
     "text": [
      "Number: 0\n",
      "Number: 1\n",
      "Number: 2\n",
      "Number: 3\n",
      "Number: 4\n",
      "Number: 5\n",
      "Number: 6\n",
      "Number: 7\n",
      "Number: 8\n",
      "Good Bye\n"
     ]
    }
   ],
   "source": [
    "count=0\n",
    "while count<9:\n",
    "    print(\"Number:\", count)\n",
    "    count+=1\n",
    "print(\"Good Bye\")"
   ]
  },
  {
   "cell_type": "code",
   "execution_count": 5,
   "metadata": {},
   "outputs": [
    {
     "name": "stdout",
     "output_type": "stream",
     "text": [
      "S\n",
      "i\n",
      "m\n",
      "p\n",
      "l\n",
      "i\n",
      "l\n",
      "e\n",
      "a\n",
      "r\n",
      "n\n"
     ]
    }
   ],
   "source": [
    "s=\"Simplilearn\"\n",
    "for i in s:\n",
    "    print(i)\n"
   ]
  },
  {
   "cell_type": "code",
   "execution_count": 7,
   "metadata": {},
   "outputs": [
    {
     "name": "stdout",
     "output_type": "stream",
     "text": [
      "Simplilearn"
     ]
    }
   ],
   "source": [
    "s=\"Simplilearn\"\n",
    "for i in s:\n",
    "    print(i,end=\"\")"
   ]
  },
  {
   "cell_type": "code",
   "execution_count": 8,
   "metadata": {},
   "outputs": [
    {
     "name": "stdout",
     "output_type": "stream",
     "text": [
      "Java\n",
      "Python\n",
      "Ruby\n",
      "Html\n"
     ]
    }
   ],
   "source": [
    "#use for loop in a list\n",
    "programming=[\"Java\",\"Python\",\"Ruby\",\"Html\"]\n",
    "for itr in programming:\n",
    "    print(itr)"
   ]
  },
  {
   "cell_type": "code",
   "execution_count": 9,
   "metadata": {},
   "outputs": [
    {
     "name": "stdout",
     "output_type": "stream",
     "text": [
      "Sum of numners: 150\n",
      "Average of numbers: 30.0\n"
     ]
    }
   ],
   "source": [
    "# average of a list of numbers\n",
    "lst=[20,25,10,50,45]\n",
    "c=0\n",
    "sum=0\n",
    "for i in lst:\n",
    "    c+=1\n",
    "    sum=sum+i\n",
    "    avg=sum/c\n",
    "print(\"Sum of numbers:\",sum)\n",
    "print(\"Average of numbers:\",avg)"
   ]
  },
  {
   "cell_type": "code",
   "execution_count": 13,
   "metadata": {},
   "outputs": [
    {
     "name": "stdout",
     "output_type": "stream",
     "text": [
      "30\n",
      "75\n",
      "135\n",
      "185\n",
      "255\n",
      "sum of tuple: 255\n"
     ]
    }
   ],
   "source": [
    "#for loop using a tuple\n",
    "n=(30,45,60,50,70)\n",
    "s=0\n",
    "for i in n:\n",
    "    s=s+i\n",
    "    print(s) #print sum at every iteration\n",
    "print(\"sum of tuple:\", s)"
   ]
  },
  {
   "cell_type": "code",
   "execution_count": 14,
   "metadata": {},
   "outputs": [
    {
     "name": "stdout",
     "output_type": "stream",
     "text": [
      "1\n",
      "2\n",
      "3\n",
      "4\n",
      "5\n",
      "6\n",
      "7\n",
      "8\n",
      "9\n"
     ]
    }
   ],
   "source": [
    "# range function\n",
    "for i in range(1,10):\n",
    "    print(i)"
   ]
  },
  {
   "cell_type": "code",
   "execution_count": 16,
   "metadata": {},
   "outputs": [
    {
     "name": "stdout",
     "output_type": "stream",
     "text": [
      "Display values with step size of two 0\n",
      "Display values with step size of two 2\n",
      "Display values with step size of two 4\n",
      "Display values with step size of two 6\n",
      "Display values with step size of two 8\n",
      "Display values with step size of two 10\n"
     ]
    }
   ],
   "source": [
    "#steps in range function \n",
    "for i in range(0,11,2):\n",
    "    print(\"Display values with step size of two\",i)"
   ]
  },
  {
   "cell_type": "code",
   "execution_count": 24,
   "metadata": {},
   "outputs": [
    {
     "name": "stdout",
     "output_type": "stream",
     "text": [
      "2 * 1  = 2\n",
      "2 * 2  = 4\n",
      "2 * 3  = 6\n",
      "2 * 4  = 8\n",
      "2 * 5  = 10\n",
      "2 * 6  = 12\n",
      "2 * 7  = 14\n",
      "2 * 8  = 16\n",
      "2 * 9  = 18\n",
      "2 * 10  = 20\n"
     ]
    }
   ],
   "source": [
    "#print table of a given number\n",
    "n=int(input(\"Enter a number for table\"))\n",
    "for i in range(1,11):\n",
    "    t=n*i\n",
    "    print(f'{n} * {i}  = {t}')"
   ]
  },
  {
   "cell_type": "code",
   "execution_count": 25,
   "metadata": {},
   "outputs": [
    {
     "name": "stdout",
     "output_type": "stream",
     "text": [
      "Hello C++\n",
      "Hello Java\n",
      "Hello Python\n",
      "Hello R\n"
     ]
    }
   ],
   "source": [
    "lst2=['C++','Java','Python','R']\n",
    "for i in range(len(lst2)):\n",
    "    print(\"Hello\",lst2[i])"
   ]
  },
  {
   "cell_type": "code",
   "execution_count": 27,
   "metadata": {},
   "outputs": [
    {
     "name": "stdout",
     "output_type": "stream",
     "text": [
      "We will display each letter of Google\n",
      "G\n",
      "o\n",
      "o\n",
      "g\n",
      "l\n",
      "e\n",
      "We will display each letter of Apple\n",
      "A\n",
      "p\n",
      "p\n",
      "l\n",
      "e\n",
      "We will display each letter of PWC\n",
      "P\n",
      "W\n",
      "C\n",
      "We will display each letter of Uber\n",
      "U\n",
      "b\n",
      "e\n",
      "r\n"
     ]
    }
   ],
   "source": [
    "#nested for loop \n",
    "comp_names=['Google','Apple','PWC','Uber']\n",
    "for i in comp_names:\n",
    "    print(\"We will display each letter of \"+i)\n",
    "    for letter in i:\n",
    "        print(letter)"
   ]
  },
  {
   "cell_type": "code",
   "execution_count": 29,
   "metadata": {},
   "outputs": [
    {
     "name": "stdout",
     "output_type": "stream",
     "text": [
      "0\n",
      "3\n",
      "6\n",
      "9\n",
      "The loop has completed execution\n"
     ]
    }
   ],
   "source": [
    "#for loop with else \n",
    "for i in range (0,10,3):\n",
    "    print(i) \n",
    "else:\n",
    "    print(\"The loop has completed execution\")"
   ]
  },
  {
   "cell_type": "code",
   "execution_count": 30,
   "metadata": {},
   "outputs": [
    {
     "name": "stdout",
     "output_type": "stream",
     "text": [
      "1\n",
      "2\n",
      "3\n",
      "4\n",
      "5\n"
     ]
    }
   ],
   "source": [
    "#break\n",
    "for i in range(1,10):\n",
    "    if i == 6:\n",
    "        break\n",
    "    print(i)"
   ]
  },
  {
   "cell_type": "code",
   "execution_count": 31,
   "metadata": {},
   "outputs": [
    {
     "name": "stdout",
     "output_type": "stream",
     "text": [
      "1\n",
      "2\n",
      "3\n",
      "4\n",
      "5\n",
      "7\n",
      "8\n",
      "9\n"
     ]
    }
   ],
   "source": [
    "#continue\n",
    "for i in range(1,10):\n",
    "    if i == 6:\n",
    "        continue\n",
    "    print(i)"
   ]
  },
  {
   "cell_type": "code",
   "execution_count": 33,
   "metadata": {},
   "outputs": [
    {
     "name": "stdout",
     "output_type": "stream",
     "text": [
      "No player with that name found\n"
     ]
    }
   ],
   "source": [
    "# display total goals scored by a player\n",
    "ply_nm=\"Messy\"\n",
    "goals={'Edison': 14, 'Bernet':3 , 'Carmelo':7}\n",
    "for ply in goals:\n",
    "    if ply == ply_nm:\n",
    "        print(goals[ply])\n",
    "        break\n",
    "else:\n",
    "    print(\"No player with that name found\")"
   ]
  },
  {
   "cell_type": "code",
   "execution_count": null,
   "metadata": {},
   "outputs": [],
   "source": [
    " #cube of numbers using for loop \n"
   ]
  }
 ],
 "metadata": {
  "kernelspec": {
   "display_name": "base",
   "language": "python",
   "name": "python3"
  },
  "language_info": {
   "codemirror_mode": {
    "name": "ipython",
    "version": 3
   },
   "file_extension": ".py",
   "mimetype": "text/x-python",
   "name": "python",
   "nbconvert_exporter": "python",
   "pygments_lexer": "ipython3",
   "version": "3.10.10"
  },
  "orig_nbformat": 4
 },
 "nbformat": 4,
 "nbformat_minor": 2
}
