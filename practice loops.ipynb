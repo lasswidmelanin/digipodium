{
 "cells": [
  {
   "cell_type": "code",
   "execution_count": 1,
   "metadata": {},
   "outputs": [
    {
     "name": "stdout",
     "output_type": "stream",
     "text": [
      "Number: 0\n",
      "Number: 1\n",
      "Number: 2\n",
      "Number: 3\n",
      "Number: 4\n",
      "Number: 5\n",
      "Number: 6\n",
      "Number: 7\n",
      "Number: 8\n",
      "Good Bye\n"
     ]
    }
   ],
   "source": [
    "count=0\n",
    "while count<9:\n",
    "    print(\"Number:\", count)\n",
    "    count+=1\n",
    "print(\"Good Bye\")"
   ]
  },
  {
   "cell_type": "code",
   "execution_count": 5,
   "metadata": {},
   "outputs": [
    {
     "name": "stdout",
     "output_type": "stream",
     "text": [
      "S\n",
      "i\n",
      "m\n",
      "p\n",
      "l\n",
      "i\n",
      "l\n",
      "e\n",
      "a\n",
      "r\n",
      "n\n"
     ]
    }
   ],
   "source": [
    "s=\"Simplilearn\"\n",
    "for i in s:\n",
    "    print(i)\n"
   ]
  },
  {
   "cell_type": "code",
   "execution_count": 7,
   "metadata": {},
   "outputs": [
    {
     "name": "stdout",
     "output_type": "stream",
     "text": [
      "Simplilearn"
     ]
    }
   ],
   "source": [
    "s=\"Simplilearn\"\n",
    "for i in s:\n",
    "    print(i,end=\"\")"
   ]
  },
  {
   "cell_type": "code",
   "execution_count": 8,
   "metadata": {},
   "outputs": [
    {
     "name": "stdout",
     "output_type": "stream",
     "text": [
      "Java\n",
      "Python\n",
      "Ruby\n",
      "Html\n"
     ]
    }
   ],
   "source": [
    "#use for loop in a list\n",
    "programming=[\"Java\",\"Python\",\"Ruby\",\"Html\"]\n",
    "for itr in programming:\n",
    "    print(itr)"
   ]
  },
  {
   "cell_type": "code",
   "execution_count": 9,
   "metadata": {},
   "outputs": [
    {
     "name": "stdout",
     "output_type": "stream",
     "text": [
      "Sum of numners: 150\n",
      "Average of numbers: 30.0\n"
     ]
    }
   ],
   "source": [
    "# average of a list of numbers\n",
    "lst=[20,25,10,50,45]\n",
    "c=0\n",
    "sum=0\n",
    "for i in lst:\n",
    "    c+=1\n",
    "    sum=sum+i\n",
    "    avg=sum/c\n",
    "print(\"Sum of numbers:\",sum)\n",
    "print(\"Average of numbers:\",avg)"
   ]
  },
  {
   "cell_type": "code",
   "execution_count": 13,
   "metadata": {},
   "outputs": [
    {
     "name": "stdout",
     "output_type": "stream",
     "text": [
      "30\n",
      "75\n",
      "135\n",
      "185\n",
      "255\n",
      "sum of tuple: 255\n"
     ]
    }
   ],
   "source": [
    "#for loop using a tuple\n",
    "n=(30,45,60,50,70)\n",
    "s=0\n",
    "for i in n:\n",
    "    s=s+i\n",
    "    print(s) #print sum at every iteration\n",
    "print(\"sum of tuple:\", s)"
   ]
  },
  {
   "cell_type": "code",
   "execution_count": 14,
   "metadata": {},
   "outputs": [
    {
     "name": "stdout",
     "output_type": "stream",
     "text": [
      "1\n",
      "2\n",
      "3\n",
      "4\n",
      "5\n",
      "6\n",
      "7\n",
      "8\n",
      "9\n"
     ]
    }
   ],
   "source": [
    "# range function\n",
    "for i in range(1,10):\n",
    "    print(i)"
   ]
  },
  {
   "cell_type": "code",
   "execution_count": 16,
   "metadata": {},
   "outputs": [
    {
     "name": "stdout",
     "output_type": "stream",
     "text": [
      "Display values with step size of two 0\n",
      "Display values with step size of two 2\n",
      "Display values with step size of two 4\n",
      "Display values with step size of two 6\n",
      "Display values with step size of two 8\n",
      "Display values with step size of two 10\n"
     ]
    }
   ],
   "source": [
    "#steps in range function \n",
    "for i in range(0,11,2):\n",
    "    print(\"Display values with step size of two\",i)"
   ]
  },
  {
   "cell_type": "code",
   "execution_count": 24,
   "metadata": {},
   "outputs": [
    {
     "name": "stdout",
     "output_type": "stream",
     "text": [
      "2 * 1  = 2\n",
      "2 * 2  = 4\n",
      "2 * 3  = 6\n",
      "2 * 4  = 8\n",
      "2 * 5  = 10\n",
      "2 * 6  = 12\n",
      "2 * 7  = 14\n",
      "2 * 8  = 16\n",
      "2 * 9  = 18\n",
      "2 * 10  = 20\n"
     ]
    }
   ],
   "source": [
    "#print table of a given number\n",
    "n=int(input(\"Enter a number for table\"))\n",
    "for i in range(1,11):\n",
    "    t=n*i\n",
    "    print(f'{n} * {i}  = {t}')"
   ]
  },
  {
   "cell_type": "code",
   "execution_count": 25,
   "metadata": {},
   "outputs": [
    {
     "name": "stdout",
     "output_type": "stream",
     "text": [
      "Hello C++\n",
      "Hello Java\n",
      "Hello Python\n",
      "Hello R\n"
     ]
    }
   ],
   "source": [
    "lst2=['C++','Java','Python','R']\n",
    "for i in range(len(lst2)):\n",
    "    print(\"Hello\",lst2[i])"
   ]
  },
  {
   "cell_type": "code",
   "execution_count": 27,
   "metadata": {},
   "outputs": [
    {
     "name": "stdout",
     "output_type": "stream",
     "text": [
      "We will display each letter of Google\n",
      "G\n",
      "o\n",
      "o\n",
      "g\n",
      "l\n",
      "e\n",
      "We will display each letter of Apple\n",
      "A\n",
      "p\n",
      "p\n",
      "l\n",
      "e\n",
      "We will display each letter of PWC\n",
      "P\n",
      "W\n",
      "C\n",
      "We will display each letter of Uber\n",
      "U\n",
      "b\n",
      "e\n",
      "r\n"
     ]
    }
   ],
   "source": [
    "#nested for loop \n",
    "comp_names=['Google','Apple','PWC','Uber']\n",
    "for i in comp_names:\n",
    "    print(\"We will display each letter of \"+i)\n",
    "    for letter in i:\n",
    "        print(letter)"
   ]
  },
  {
   "cell_type": "code",
   "execution_count": 29,
   "metadata": {},
   "outputs": [
    {
     "name": "stdout",
     "output_type": "stream",
     "text": [
      "0\n",
      "3\n",
      "6\n",
      "9\n",
      "The loop has completed execution\n"
     ]
    }
   ],
   "source": [
    "#for loop with else \n",
    "for i in range (0,10,3):\n",
    "    print(i) \n",
    "else:\n",
    "    print(\"The loop has completed execution\")"
   ]
  },
  {
   "cell_type": "code",
   "execution_count": 30,
   "metadata": {},
   "outputs": [
    {
     "name": "stdout",
     "output_type": "stream",
     "text": [
      "1\n",
      "2\n",
      "3\n",
      "4\n",
      "5\n"
     ]
    }
   ],
   "source": [
    "#break\n",
    "for i in range(1,10):\n",
    "    if i == 6:\n",
    "        break\n",
    "    print(i)"
   ]
  },
  {
   "cell_type": "code",
   "execution_count": 31,
   "metadata": {},
   "outputs": [
    {
     "name": "stdout",
     "output_type": "stream",
     "text": [
      "1\n",
      "2\n",
      "3\n",
      "4\n",
      "5\n",
      "7\n",
      "8\n",
      "9\n"
     ]
    }
   ],
   "source": [
    "#continue\n",
    "for i in range(1,10):\n",
    "    if i == 6:\n",
    "        continue\n",
    "    print(i)"
   ]
  },
  {
   "cell_type": "code",
   "execution_count": 1,
   "metadata": {},
   "outputs": [
    {
     "name": "stdout",
     "output_type": "stream",
     "text": [
      "3\n"
     ]
    }
   ],
   "source": [
    "# display total goals scored by a player\n",
    "ply_nm=\"Bernet\"\n",
    "goals={'Edison': 14, 'Bernet':3 , 'Carmelo':7}\n",
    "for ply in goals:\n",
    "    if ply == ply_nm:\n",
    "        print(goals[ply])\n",
    "        break\n",
    "else:\n",
    "    print(\"No player with that name found\")"
   ]
  },
  {
   "cell_type": "code",
   "execution_count": 36,
   "metadata": {},
   "outputs": [
    {
     "name": "stdout",
     "output_type": "stream",
     "text": [
      "[8, 125, 343, 64, 512, 216]\n"
     ]
    }
   ],
   "source": [
    " #cube of numbers using for loop \n",
    "a=[2,5,7,4,8,6]\n",
    "b=[]\n",
    "for i in a:\n",
    "    b.append(i**3)\n",
    "print(b)"
   ]
  },
  {
   "cell_type": "code",
   "execution_count": 47,
   "metadata": {},
   "outputs": [
    {
     "name": "stdout",
     "output_type": "stream",
     "text": [
      "*  \n",
      "*  *  \n",
      "*  *  *  \n",
      "*  *  *  *  \n"
     ]
    }
   ],
   "source": [
    "#pattern printing\n",
    "r=int(input(\"Enter number of rows\"))\n",
    "for i in range(0,r):\n",
    "    for j in range(0,i+1):\n",
    "        print(\"* \",end=\" \")\n",
    "    print()"
   ]
  },
  {
   "cell_type": "code",
   "execution_count": 51,
   "metadata": {},
   "outputs": [
    {
     "name": "stdout",
     "output_type": "stream",
     "text": [
      "4\n"
     ]
    }
   ],
   "source": [
    "#counting number of digits\n",
    "n=\"1234\" \n",
    "c=0\n",
    "for i in n:\n",
    "    c+=1\n",
    "print(c)"
   ]
  },
  {
   "cell_type": "code",
   "execution_count": 67,
   "metadata": {},
   "outputs": [
    {
     "name": "stdout",
     "output_type": "stream",
     "text": [
      "Not a pLINDROME\n",
      "Not a pLINDROME\n",
      "Not a pLINDROME\n",
      "The given atring is Palindrome\n"
     ]
    }
   ],
   "source": [
    "#palindrome string check\n",
    "str= \"moom\" \n",
    "s=\"\"\n",
    "for i in str:\n",
    "    s=i+s \n",
    "    if str==s:\n",
    "        print(\"The given atring is Palindrome\")\n",
    "    else:\n",
    "        print(\"Not a pLINDROME\")"
   ]
  },
  {
   "cell_type": "code",
   "execution_count": 6,
   "metadata": {},
   "outputs": [
    {
     "name": "stdout",
     "output_type": "stream",
     "text": [
      "mom\n"
     ]
    }
   ],
   "source": [
    "#palindrome string check\n",
    "st1=\"mom\"\n",
    "st2=\"\"\n",
    "st2=st2+st1[::-1]\n",
    "if st2==st1:\n",
    "    print(st2)\n",
    "else:\n",
    "    print(\"not a palindrome string\")"
   ]
  },
  {
   "cell_type": "code",
   "execution_count": 3,
   "metadata": {},
   "outputs": [
    {
     "name": "stdout",
     "output_type": "stream",
     "text": [
      "ycniaN si eman y"
     ]
    }
   ],
   "source": [
    "#reversing ecah letter of words along with words of a sentence\n",
    "st1=\"My name is Naincy\"\n",
    "for i in range(len(st1)-1,0,-1):\n",
    "    print(st1[i],end=\"\")"
   ]
  },
  {
   "cell_type": "code",
   "execution_count": 45,
   "metadata": {},
   "outputs": [
    {
     "name": "stdout",
     "output_type": "stream",
     "text": [
      "Naincy is name My\n"
     ]
    }
   ],
   "source": [
    "# reversing words of a sentence\n",
    "str1=\"My name is Naincy\"\n",
    "str2=str1.split()\n",
    "str2.reverse()\n",
    "string=\"\"\n",
    "for i in str2:\n",
    "    string=\" \".join(str2)\n",
    "print(string)\n"
   ]
  },
  {
   "cell_type": "code",
   "execution_count": 2,
   "metadata": {},
   "outputs": [
    {
     "name": "stdout",
     "output_type": "stream",
     "text": [
      "['My', 'name']\n"
     ]
    }
   ],
   "source": [
    "str1=\"My name\"\n",
    "str2=str1.split()\n",
    "st=\"\"\n",
    "print(str2)"
   ]
  },
  {
   "cell_type": "code",
   "execution_count": 4,
   "metadata": {},
   "outputs": [
    {
     "name": "stdout",
     "output_type": "stream",
     "text": [
      "yM eman "
     ]
    }
   ],
   "source": [
    "for i in str2:\n",
    "    print(i[::-1])"
   ]
  },
  {
   "cell_type": "code",
   "execution_count": 105,
   "metadata": {},
   "outputs": [
    {
     "name": "stdout",
     "output_type": "stream",
     "text": [
      "ycnian si eman ym\n"
     ]
    }
   ],
   "source": [
    "st=input(\"Enter a string to be reversed\")\n",
    "n=\"\"\n",
    "n=n+st[::-1]\n",
    "print(n)"
   ]
  },
  {
   "cell_type": "code",
   "execution_count": 7,
   "metadata": {},
   "outputs": [
    {
     "name": "stdout",
     "output_type": "stream",
     "text": [
      "Fibonacci series is:  0 1 1 2 3 "
     ]
    }
   ],
   "source": [
    "# fibonacci series using while loop \n",
    "n=int(input(\"enter a number\"))\n",
    "a = 0\n",
    "b = 1\n",
    "sum = a + b\n",
    "count = 1\n",
    "print(\"Fibonacci series is: \", end=\" \")\n",
    "while (count <= n):\n",
    "\tcount += 1\n",
    "\tprint(a, end=\" \")\n",
    "\ta = b\n",
    "\tb = sum\n",
    "\tsum = a + b\n",
    "\n"
   ]
  },
  {
   "cell_type": "code",
   "execution_count": 18,
   "metadata": {},
   "outputs": [
    {
     "name": "stdout",
     "output_type": "stream",
     "text": [
      "0 1 1 2 3 "
     ]
    }
   ],
   "source": [
    "# fibonacci series using while loop \n",
    "n=int(input(\"Enter a number\"))\n",
    "a=0\n",
    "b=1\n",
    "s=a+b\n",
    "i=1\n",
    "while i<=n:\n",
    "    print( a , end=' ')\n",
    "    a=b\n",
    "    b=s\n",
    "    s=a+b\n",
    "    i+=1"
   ]
  },
  {
   "cell_type": "code",
   "execution_count": 3,
   "metadata": {},
   "outputs": [
    {
     "name": "stdout",
     "output_type": "stream",
     "text": [
      "15\n"
     ]
    }
   ],
   "source": [
    "# find largest element using for loop in an array\n",
    "from array import *\n",
    "arr=[13,11,14,12,15]\n",
    "l=arr[0]\n",
    "for i in range(len(arr)):\n",
    "      \n",
    "      if arr[i]>l:\n",
    "          l=arr[i]\n",
    "print(l)"
   ]
  },
  {
   "cell_type": "code",
   "execution_count": 15,
   "metadata": {},
   "outputs": [
    {
     "name": "stdout",
     "output_type": "stream",
     "text": [
      "ycnian\n"
     ]
    }
   ],
   "source": [
    "#reverse a given string using a while loop\n",
    "n=\"naincy\"\n",
    "i=1\n",
    "r=\"\"\n",
    "while i<= len(n):\n",
    "    r=n[::-1]\n",
    "    i+=1\n",
    "print(r)"
   ]
  },
  {
   "cell_type": "code",
   "execution_count": 4,
   "metadata": {},
   "outputs": [
    {
     "name": "stdout",
     "output_type": "stream",
     "text": [
      "65 A\n",
      "66 B\n",
      "67 C\n",
      "68 D\n",
      "69 E\n",
      "70 F\n",
      "71 G\n",
      "72 H\n",
      "73 I\n",
      "74 J\n",
      "75 K\n",
      "76 L\n",
      "77 M\n",
      "78 N\n",
      "79 O\n",
      "80 P\n",
      "81 Q\n",
      "82 R\n",
      "83 S\n",
      "84 T\n",
      "85 U\n",
      "86 V\n",
      "87 W\n",
      "88 X\n",
      "89 Y\n",
      "90 Z\n"
     ]
    }
   ],
   "source": [
    "for ch in range(65,91):\n",
    "    print(ch , chr(ch))"
   ]
  },
  {
   "cell_type": "code",
   "execution_count": 12,
   "metadata": {},
   "outputs": [
    {
     "name": "stdout",
     "output_type": "stream",
     "text": [
      "madam\n",
      "madam is a palindrome string\n"
     ]
    }
   ],
   "source": [
    "# check if a given string is a palindrome using a while loop\n",
    "st=input(\"Enter a string\")\n",
    "i=1\n",
    "r=\"\"\n",
    "while i<=len(st):\n",
    "    r=st[::-1]\n",
    "    i+=1\n",
    "print(r)\n",
    "if r==st:\n",
    "    print(f'{st} is a palindrome string')\n",
    "else:\n",
    "    print(f'{st} is not a palindrome string')"
   ]
  },
  {
   "cell_type": "code",
   "execution_count": 2,
   "metadata": {},
   "outputs": [
    {
     "name": "stdout",
     "output_type": "stream",
     "text": [
      "Average of given numbers of list is 13.0\n"
     ]
    }
   ],
   "source": [
    "# calculate the average of a list of numbers using a for loop\n",
    "l=[11,12,13,14,15]\n",
    "s=0\n",
    "for i in l:\n",
    "    s=s+i\n",
    "avg=s/len(l)\n",
    "print(f'Average of given numbers of list is {avg}')"
   ]
  },
  {
   "cell_type": "code",
   "execution_count": null,
   "metadata": {},
   "outputs": [],
   "source": [
    "# find the smallest element in an array using a while loop\n",
    "ar=[8,4,6,3,5]\n",
    "sml=ar[0]\n",
    "i=1\n",
    "while i<=len(ar):\n",
    "    if ar[i]< sml:\n",
    "        sml=i\n",
    "    i+=1\n",
    "print(sml)"
   ]
  },
  {
   "cell_type": "code",
   "execution_count": 13,
   "metadata": {},
   "outputs": [
    {
     "ename": "TypeError",
     "evalue": "'int' object is not iterable",
     "output_type": "error",
     "traceback": [
      "\u001b[1;31m---------------------------------------------------------------------------\u001b[0m",
      "\u001b[1;31mTypeError\u001b[0m                                 Traceback (most recent call last)",
      "Cell \u001b[1;32mIn[13], line 4\u001b[0m\n\u001b[0;32m      2\u001b[0m n\u001b[39m=\u001b[39m\u001b[39mint\u001b[39m(\u001b[39minput\u001b[39m(\u001b[39m\"\u001b[39m\u001b[39mEnter a number\u001b[39m\u001b[39m\"\u001b[39m))\n\u001b[0;32m      3\u001b[0m s\u001b[39m=\u001b[39m\u001b[39m0\u001b[39m\n\u001b[1;32m----> 4\u001b[0m \u001b[39mfor\u001b[39;00m i \u001b[39min\u001b[39;00m n:\n\u001b[0;32m      5\u001b[0m     s\u001b[39m=\u001b[39ms\u001b[39m+\u001b[39m \u001b[39mint\u001b[39m(i)\n\u001b[0;32m      6\u001b[0m \u001b[39mprint\u001b[39m(s)\n",
      "\u001b[1;31mTypeError\u001b[0m: 'int' object is not iterable"
     ]
    }
   ],
   "source": [
    "#  calculate the sum of digits of a number using a for loop\n",
    "n=int(input(\"Enter a number\"))\n",
    "s=0\n",
    "for i in n:\n",
    "    s=s+ int(i)\n",
    "print(s)\n"
   ]
  },
  {
   "cell_type": "code",
   "execution_count": 7,
   "metadata": {},
   "outputs": [
    {
     "name": "stdout",
     "output_type": "stream",
     "text": [
      "given year is a leap year\n"
     ]
    }
   ],
   "source": [
    "#check if a given year is a leap year \n",
    "y=int(input(\"Enter a year:\"))\n",
    "if (y%400==0 and y%100==0) or (y%4==0):\n",
    "    print(\"given year is a leap year\")\n",
    "else:\n",
    "    print(\"given year is not a leap year\")"
   ]
  },
  {
   "cell_type": "code",
   "execution_count": null,
   "metadata": {},
   "outputs": [],
   "source": [
    "#check if a given year is a leap year using a while loop\n",
    "\n",
    "\n"
   ]
  },
  {
   "cell_type": "code",
   "execution_count": 15,
   "metadata": {},
   "outputs": [
    {
     "name": "stdout",
     "output_type": "stream",
     "text": [
      "1 * 1 =  1\n",
      "1 * 2 =  2\n",
      "1 * 3 =  3\n",
      "1 * 4 =  4\n",
      "1 * 5 =  5\n",
      "1 * 6 =  6\n",
      "1 * 7 =  7\n",
      "1 * 8 =  8\n",
      "1 * 9 =  9\n",
      "1 * 10 =  10\n",
      "\n",
      "2 * 1 =  2\n",
      "2 * 2 =  4\n",
      "2 * 3 =  6\n",
      "2 * 4 =  8\n",
      "2 * 5 =  10\n",
      "2 * 6 =  12\n",
      "2 * 7 =  14\n",
      "2 * 8 =  16\n",
      "2 * 9 =  18\n",
      "2 * 10 =  20\n",
      "\n",
      "3 * 1 =  3\n",
      "3 * 2 =  6\n",
      "3 * 3 =  9\n",
      "3 * 4 =  12\n",
      "3 * 5 =  15\n",
      "3 * 6 =  18\n",
      "3 * 7 =  21\n",
      "3 * 8 =  24\n",
      "3 * 9 =  27\n",
      "3 * 10 =  30\n",
      "\n",
      "4 * 1 =  4\n",
      "4 * 2 =  8\n",
      "4 * 3 =  12\n",
      "4 * 4 =  16\n",
      "4 * 5 =  20\n",
      "4 * 6 =  24\n",
      "4 * 7 =  28\n",
      "4 * 8 =  32\n",
      "4 * 9 =  36\n",
      "4 * 10 =  40\n",
      "\n",
      "5 * 1 =  5\n",
      "5 * 2 =  10\n",
      "5 * 3 =  15\n",
      "5 * 4 =  20\n",
      "5 * 5 =  25\n",
      "5 * 6 =  30\n",
      "5 * 7 =  35\n",
      "5 * 8 =  40\n",
      "5 * 9 =  45\n",
      "5 * 10 =  50\n",
      "\n"
     ]
    }
   ],
   "source": [
    "# print the multiplication table of numbers from 1 to 5 using a for loop\n",
    "for i in range (1,6):\n",
    "    for j in range(1,11):\n",
    "        t=i*j\n",
    "        print(f'{i} * {j} =  {t}')\n",
    "    print()"
   ]
  },
  {
   "cell_type": "code",
   "execution_count": 19,
   "metadata": {},
   "outputs": [
    {
     "name": "stdout",
     "output_type": "stream",
     "text": [
      "Factorial of 4 is 24\n"
     ]
    }
   ],
   "source": [
    "# find the factorial of a number using a while loop\n",
    "n=int(input(\"Enter a number\"))\n",
    "i=1\n",
    "f=1\n",
    "while i<=n:\n",
    "    f=f*i\n",
    "    i+=1\n",
    "print(f'Factorial of {n} is {f}')"
   ]
  },
  {
   "cell_type": "code",
   "execution_count": 1,
   "metadata": {},
   "outputs": [
    {
     "name": "stdout",
     "output_type": "stream",
     "text": [
      "4\n"
     ]
    }
   ],
   "source": [
    "# count the number of vowels in a given string using a for loop\n",
    "str=input(\"enter a string\") #my name is naincy\n",
    "c=0\n",
    "for i in str[1:]:\n",
    "    if i=='a' or i=='e' or i=='i' or i=='o' or i=='u':\n",
    "        c+=1\n",
    "print(c)"
   ]
  },
  {
   "cell_type": "code",
   "execution_count": 1,
   "metadata": {},
   "outputs": [
    {
     "name": "stdout",
     "output_type": "stream",
     "text": [
      "Yes\n"
     ]
    }
   ],
   "source": [
    "# check if a number is a perfect square using while loop \n",
    "n = 2500\n",
    "for i in range(n+1):\n",
    "    if i**2 == n:\n",
    "        print(\"Yes\")\n",
    "        break\n",
    "else:\n",
    "    print(\"No\")"
   ]
  },
  {
   "cell_type": "code",
   "execution_count": 4,
   "metadata": {},
   "outputs": [
    {
     "name": "stdout",
     "output_type": "stream",
     "text": [
      "15\n",
      "12\n"
     ]
    }
   ],
   "source": [
    "# find the largest and smallest elements in an array using a for loop\n",
    "from array import *\n",
    "arr=[13,11,14,12,15]\n",
    "l=arr[0]\n",
    "s=arr[0]\n",
    "for i in range(len(arr)):\n",
    "      \n",
    "      if arr[i]>l:\n",
    "          l=arr[i]\n",
    "      elif arr[i]<l:\n",
    "           s=arr[i]\n",
    "print(l)\n",
    "print(s)"
   ]
  },
  {
   "cell_type": "code",
   "execution_count": 8,
   "metadata": {},
   "outputs": [
    {
     "name": "stdout",
     "output_type": "stream",
     "text": [
      "acapalA"
     ]
    }
   ],
   "source": [
    "# reverse the order of words in a sentence using a while loop\n",
    "msg = \"Alapaca\"\n",
    "i = len(msg)-1\n",
    "while i >= 0:\n",
    "    print(msg[i],end = \"\")\n",
    "    i -= 1"
   ]
  }
 ],
 "metadata": {
  "kernelspec": {
   "display_name": "base",
   "language": "python",
   "name": "python3"
  },
  "language_info": {
   "codemirror_mode": {
    "name": "ipython",
    "version": 3
   },
   "file_extension": ".py",
   "mimetype": "text/x-python",
   "name": "python",
   "nbconvert_exporter": "python",
   "pygments_lexer": "ipython3",
   "version": "3.10.10"
  },
  "orig_nbformat": 4
 },
 "nbformat": 4,
 "nbformat_minor": 2
}
