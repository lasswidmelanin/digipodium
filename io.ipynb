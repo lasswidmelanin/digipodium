{
 "cells": [
  {
   "cell_type": "code",
   "execution_count": 3,
   "metadata": {},
   "outputs": [],
   "source": [
    "name=input(\"Enter your name:\")\n",
    "city=input(\"Enter your city:\")"
   ]
  },
  {
   "cell_type": "code",
   "execution_count": 4,
   "metadata": {},
   "outputs": [],
   "source": [
    "age=input(\"Enter your age:\")"
   ]
  },
  {
   "cell_type": "code",
   "execution_count": 5,
   "metadata": {},
   "outputs": [
    {
     "data": {
      "text/plain": [
       "5"
      ]
     },
     "execution_count": 5,
     "metadata": {},
     "output_type": "execute_result"
    }
   ],
   "source": [
    "x=int(input(\"Enter a number\"))\n",
    "y=int(input(\"Enter a number\"))\n",
    "x+y"
   ]
  },
  {
   "cell_type": "code",
   "execution_count": 7,
   "metadata": {},
   "outputs": [
    {
     "name": "stdout",
     "output_type": "stream",
     "text": [
      "400.0\n"
     ]
    }
   ],
   "source": [
    "p=int(input(\"Enter principle amount\"))\n",
    "r=int(input(\"Enter rate\"))\n",
    "t=int(input(\"Enter number of years\"))\n",
    "si=(p*r*t)/100\n",
    "print(si)"
   ]
  },
  {
   "cell_type": "code",
   "execution_count": 4,
   "metadata": {},
   "outputs": [
    {
     "name": "stdout",
     "output_type": "stream",
     "text": [
      "array('i', [11, 12, 13, 14])\n"
     ]
    }
   ],
   "source": [
    "from array import*\n",
    "arr=int(array('i',[]))\n",
    "n=int(input(\"Enter the length of the array\"))\n",
    "for i in range(n):\n",
    "    x=int(input(\"Enter the next number\"))\n",
    "    arr.append(x)\n",
    "print(arr)"
   ]
  },
  {
   "cell_type": "code",
   "execution_count": 6,
   "metadata": {},
   "outputs": [
    {
     "name": "stdout",
     "output_type": "stream",
     "text": [
      "array('i', [11, 12, 13, 14])\n",
      "2\n"
     ]
    }
   ],
   "source": [
    "from array import*\n",
    "arr=array('i',[])\n",
    "n=int(input(\"Enter the length of the array\"))\n",
    "for i in range(n):\n",
    "    x=int(input(\"Enter the next number\"))\n",
    "    arr.append(x)\n",
    "print(arr)\n",
    "val=int(input(\"Enter the value to be searched\"))\n",
    "for e in arr :\n",
    "    if val in arr:\n",
    "     break\n",
    "print(arr.index(val))"
   ]
  },
  {
   "cell_type": "code",
   "execution_count": 12,
   "metadata": {},
   "outputs": [
    {
     "ename": "TypeError",
     "evalue": "computer.config() takes 0 positional arguments but 1 was given",
     "output_type": "error",
     "traceback": [
      "\u001b[1;31m---------------------------------------------------------------------------\u001b[0m",
      "\u001b[1;31mTypeError\u001b[0m                                 Traceback (most recent call last)",
      "Cell \u001b[1;32mIn[12], line 7\u001b[0m\n\u001b[0;32m      3\u001b[0m         \u001b[39mprint\u001b[39m(\u001b[39m\"\u001b[39m\u001b[39mi5,16gb,1tb\u001b[39m\u001b[39m\"\u001b[39m)\n\u001b[0;32m      5\u001b[0m com\u001b[39m=\u001b[39mcomputer()\n\u001b[1;32m----> 7\u001b[0m com\u001b[39m.\u001b[39;49mconfig()\n",
      "\u001b[1;31mTypeError\u001b[0m: computer.config() takes 0 positional arguments but 1 was given"
     ]
    }
   ],
   "source": [
    "class computer():\n",
    "    def config():\n",
    "        print(\"i5,16gb,1tb\")  \n",
    "com=computer()\n",
    "com.config()"
   ]
  },
  {
   "cell_type": "code",
   "execution_count": null,
   "metadata": {},
   "outputs": [],
   "source": []
  },
  {
   "cell_type": "code",
   "execution_count": 3,
   "metadata": {},
   "outputs": [
    {
     "name": "stdout",
     "output_type": "stream",
     "text": [
      "Naincy\n",
      "Lucknow\n"
     ]
    }
   ],
   "source": [
    "x=input(\"Enter your name\")\n",
    "y=input(\"enter your city\")\n",
    "print(x)\n",
    "print(y)\n"
   ]
  },
  {
   "cell_type": "code",
   "execution_count": 5,
   "metadata": {},
   "outputs": [
    {
     "name": "stdout",
     "output_type": "stream",
     "text": [
      "hi,there\n"
     ]
    }
   ],
   "source": [
    "print('hi', end=',')\n",
    "print('there')"
   ]
  },
  {
   "cell_type": "code",
   "execution_count": 6,
   "metadata": {},
   "outputs": [
    {
     "name": "stdout",
     "output_type": "stream",
     "text": [
      "adding 200 with 500 will give 700\n"
     ]
    }
   ],
   "source": [
    "x=200\n",
    "y=500\n",
    "print(f'adding {x} with {y} will give {x+y}')"
   ]
  },
  {
   "cell_type": "code",
   "execution_count": 11,
   "metadata": {},
   "outputs": [
    {
     "name": "stdout",
     "output_type": "stream",
     "text": [
      " 10/3 =  3.33 \n"
     ]
    }
   ],
   "source": [
    "a=10\n",
    "b=3\n",
    "print(f\" {a}/{b} = {a/b : .2f} \")"
   ]
  },
  {
   "cell_type": "code",
   "execution_count": 22,
   "metadata": {},
   "outputs": [
    {
     "name": "stdout",
     "output_type": "stream",
     "text": [
      "name      Naincy\n",
      "age       23\n",
      "city      Lucknow\n",
      "address   E-4485 Rajajipuram\n"
     ]
    }
   ],
   "source": [
    "name = \"Naincy\"\n",
    "age= 23\n",
    "city= \"Lucknow\"\n",
    "address= \"E-4485 Rajajipuram\"\n",
    "print(f'{\"name\":10}{name}')\n",
    "print(f'{\"age\":10}{age}')\n",
    "print(f'{\"city\":10}{city}')\n",
    "print(f'{\"address\":10}{address}')"
   ]
  },
  {
   "cell_type": "code",
   "execution_count": 23,
   "metadata": {},
   "outputs": [
    {
     "name": "stdout",
     "output_type": "stream",
     "text": [
      "name                                   Naincy\n",
      "age                                        23\n",
      "city                                  Lucknow\n",
      "address                    E-4485 Rajajipuram\n"
     ]
    }
   ],
   "source": [
    "name = \"Naincy\"\n",
    "age= 23\n",
    "city= \"Lucknow\"\n",
    "address= \"E-4485 Rajajipuram\"\n",
    "print(f'{\"name\":10}{name:>35}')\n",
    "print(f'{\"age\":10}{age:>35}')\n",
    "print(f'{\"city\":10}{city:>35}')\n",
    "print(f'{\"address\":10}{address:>35}')"
   ]
  },
  {
   "cell_type": "code",
   "execution_count": 24,
   "metadata": {},
   "outputs": [
    {
     "name": "stdout",
     "output_type": "stream",
     "text": [
      "name                    Naincy               \n",
      "age                       23                 \n",
      "city                    Lucknow              \n",
      "address           E-4485 Rajajipuram         \n"
     ]
    }
   ],
   "source": [
    "name = \"Naincy\"\n",
    "age= 23\n",
    "city= \"Lucknow\"\n",
    "address= \"E-4485 Rajajipuram\"\n",
    "print(f'{\"name\":10}{name:^35}')\n",
    "print(f'{\"age\":10}{age:^35}')\n",
    "print(f'{\"city\":10}{city:^35}')\n",
    "print(f'{\"address\":10}{address:^35}')"
   ]
  },
  {
   "cell_type": "code",
   "execution_count": 25,
   "metadata": {},
   "outputs": [
    {
     "name": "stdout",
     "output_type": "stream",
     "text": [
      "18.027756377319946\n"
     ]
    }
   ],
   "source": [
    "import math\n",
    "\n",
    "\n",
    "b=int(input(\"Enter the base value\"))\n",
    "p=int(input(\"Enter the perpendicular value\"))\n",
    "h=math.sqrt((b*b)+(p*p))\n",
    "print(h)"
   ]
  }
 ],
 "metadata": {
  "kernelspec": {
   "display_name": "base",
   "language": "python",
   "name": "python3"
  },
  "language_info": {
   "codemirror_mode": {
    "name": "ipython",
    "version": 3
   },
   "file_extension": ".py",
   "mimetype": "text/x-python",
   "name": "python",
   "nbconvert_exporter": "python",
   "pygments_lexer": "ipython3",
   "version": "3.10.10"
  },
  "orig_nbformat": 4
 },
 "nbformat": 4,
 "nbformat_minor": 2
}
