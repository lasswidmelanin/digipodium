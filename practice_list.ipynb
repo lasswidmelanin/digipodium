{
 "cells": [
  {
   "cell_type": "code",
   "execution_count": 1,
   "metadata": {},
   "outputs": [
    {
     "name": "stdout",
     "output_type": "stream",
     "text": [
      "23 24 45 67 78\n"
     ]
    }
   ],
   "source": [
    "#create an empty list and then asks the user to input integers to add to the list. Print the final list\n",
    "emp_list=input([\"Enter integer items in list\"])\n",
    "print(emp_list)\n"
   ]
  },
  {
   "cell_type": "code",
   "execution_count": 9,
   "metadata": {},
   "outputs": [
    {
     "name": "stdout",
     "output_type": "stream",
     "text": [
      "number not found\n"
     ]
    }
   ],
   "source": [
    "# creates a list of integers and then asks the user to input an integer to check if it exists in the list. Print a message indicating whether the integer is in the list or not.\n",
    "lst=[11,12,13,14,15]\n",
    "j=input(\"enter an integer to be searched\")\n",
    "if int(j) in lst:\n",
    "    print(\"number found\")\n",
    "else:\n",
    "    print(\"number not found\")"
   ]
  },
  {
   "cell_type": "code",
   "execution_count": 6,
   "metadata": {},
   "outputs": [
    {
     "name": "stdout",
     "output_type": "stream",
     "text": [
      "['akanksha', 'little', 'molly', 'naincy', 'prashu']\n"
     ]
    }
   ],
   "source": [
    "#creates a list of strings and then sorts the list alphabetically. Print the sorted list\n",
    "strl=[\"naincy\",\"little\",\"molly\",'prashu',\"akanksha\"]\n",
    "strl.sort()\n",
    "print(strl)\n"
   ]
  },
  {
   "cell_type": "code",
   "execution_count": 81,
   "metadata": {},
   "outputs": [
    {
     "ename": "TypeError",
     "evalue": "'NoneType' object is not callable",
     "output_type": "error",
     "traceback": [
      "\u001b[1;31m---------------------------------------------------------------------------\u001b[0m",
      "\u001b[1;31mTypeError\u001b[0m                                 Traceback (most recent call last)",
      "Cell \u001b[1;32mIn[81], line 7\u001b[0m\n\u001b[0;32m      5\u001b[0m     \u001b[39mif\u001b[39;00m maximum[\u001b[39m0\u001b[39m] \u001b[39m<\u001b[39m \u001b[39mlist\u001b[39m[i]:\n\u001b[0;32m      6\u001b[0m         maximum[\u001b[39m0\u001b[39m]\u001b[39m=\u001b[39m\u001b[39mlist\u001b[39m[i]\n\u001b[1;32m----> 7\u001b[0m \u001b[39mprint\u001b[39;49m(maximum)\n",
      "\u001b[1;31mTypeError\u001b[0m: 'NoneType' object is not callable"
     ]
    }
   ],
   "source": [
    "# creates a list of integers and then finds the maximum value in the list. Print the maximum value.\n",
    "list=[22,94,13,56]\n",
    "maximum=[0]\n",
    "for i in range(len(list)):\n",
    "    if maximum[0] < list[i]:\n",
    "        maximum[0]=list[i]\n",
    "print(maximum)\n",
    "    "
   ]
  },
  {
   "cell_type": "code",
   "execution_count": 2,
   "metadata": {},
   "outputs": [
    {
     "name": "stdout",
     "output_type": "stream",
     "text": [
      "9\n",
      "12\n",
      "45\n"
     ]
    }
   ],
   "source": [
    "# creates two lists of integers and then finds the common elements between those two lists. Print the common elements\n",
    "l1=[9,4,12,45,99,56,76]\n",
    "l2=[11,12,13,45,14,56,9]\n",
    "for i in range(len(l1)):\n",
    "    for j in range(len(l2)):\n",
    "        if l1[i]==l2[j]:\n",
    "            print(l1[i])\n"
   ]
  },
  {
   "cell_type": "code",
   "execution_count": 4,
   "metadata": {},
   "outputs": [
    {
     "name": "stdout",
     "output_type": "stream",
     "text": [
      "['rain', 'train', 'pain', 'spain']\n",
      "['ra', 'tra', 'pa', 'spa']\n"
     ]
    }
   ],
   "source": [
    "# creates a list of strings and then removes all elements that contain a specific substring. Print the final list\n",
    "list_names=['rain','train','pain','spain']\n",
    "new_list=[]\n",
    "substr=input(\"Enter a substring to be removed\")\n",
    "for i in list_names:\n",
    "    new_list.append(i.replace(substr,\"\"))\n",
    "\n",
    "print(str(list_names))\n",
    "print(str(new_list))"
   ]
  },
  {
   "cell_type": "code",
   "execution_count": 4,
   "metadata": {},
   "outputs": [
    {
     "name": "stdout",
     "output_type": "stream",
     "text": [
      "garlic\n"
     ]
    }
   ],
   "source": [
    "#creates a nested list and then accesses a specific element in the list. Print the accessed element\n",
    "veggie=['potato','garlic']\n",
    "grocery=['soap','brush']+veggie\n",
    "for i in grocery:\n",
    "    if i==\"garlic\":\n",
    "        print(i)"
   ]
  },
  {
   "cell_type": "code",
   "execution_count": 28,
   "metadata": {},
   "outputs": [
    {
     "name": "stdout",
     "output_type": "stream",
     "text": [
      "item found: potato\n"
     ]
    }
   ],
   "source": [
    "grocer=[['soap','brush'],['potato','garlic']]\n",
    "n=input(\"Enter and item to be found\")\n",
    "for i in grocer:\n",
    "    for j in i:\n",
    "        if j==n:\n",
    "            print(f'item found: {j}')"
   ]
  },
  {
   "cell_type": "code",
   "execution_count": 1,
   "metadata": {},
   "outputs": [
    {
     "name": "stdout",
     "output_type": "stream",
     "text": [
      "[11, 12, 13, 14, 15, 16]\n"
     ]
    }
   ],
   "source": [
    "#creates a list of integers and then removes all duplicates from the list. Print the final list.\n",
    "l=[11,12,11,13,14,15,14,16,16]\n",
    "rmv_dup=[]\n",
    "for i in l:\n",
    "    if i not in rmv_dup:\n",
    "        rmv_dup.append(i)\n",
    "print(rmv_dup)"
   ]
  },
  {
   "cell_type": "code",
   "execution_count": 82,
   "metadata": {},
   "outputs": [
    {
     "ename": "TypeError",
     "evalue": "'NoneType' object is not callable",
     "output_type": "error",
     "traceback": [
      "\u001b[1;31m---------------------------------------------------------------------------\u001b[0m",
      "\u001b[1;31mTypeError\u001b[0m                                 Traceback (most recent call last)",
      "Cell \u001b[1;32mIn[82], line 8\u001b[0m\n\u001b[0;32m      6\u001b[0m     \u001b[39mif\u001b[39;00m max_len \u001b[39m<\u001b[39m l:\n\u001b[0;32m      7\u001b[0m         max_len\u001b[39m=\u001b[39ml\n\u001b[1;32m----> 8\u001b[0m \u001b[39mprint\u001b[39;49m(max_len)\n",
      "\u001b[1;31mTypeError\u001b[0m: 'NoneType' object is not callable"
     ]
    }
   ],
   "source": [
    "# creates a list of strings and then finds the longest string in the list. Print the longest string\n",
    "strl=[\"naincy\",\"vaibhav\",\"molly\",\"shashi pushpad\"]\n",
    "max_len=0\n",
    "for i in strl:\n",
    "    l=len(i)\n",
    "    if max_len < l:\n",
    "        max_len=l\n",
    "print(max_len)\n"
   ]
  },
  {
   "cell_type": "code",
   "execution_count": 14,
   "metadata": {},
   "outputs": [
    {
     "name": "stdout",
     "output_type": "stream",
     "text": [
      "24 54 22 78 \n",
      "Sum of integers: 178\n"
     ]
    }
   ],
   "source": [
    "# creates a list of integers and then finds the sum of all the even numbers in the list. Print the sum\n",
    "int_lst=[13,24,54,67,43,89,22,78]\n",
    "s=0\n",
    "for i in int_lst:\n",
    "    if i%2==0:\n",
    "        print(i,end=\" \")\n",
    "        s=s+i\n",
    "print()\n",
    "print(f'Sum of integers: {s}')"
   ]
  },
  {
   "cell_type": "code",
   "execution_count": 10,
   "metadata": {},
   "outputs": [
    {
     "name": "stdout",
     "output_type": "stream",
     "text": [
      "[13, 54, 67, 43, 89, 22, 78]\n"
     ]
    }
   ],
   "source": [
    "#creates a list of integers and then asks the user to input a position to remove an element from the list. Print the final list\n",
    "#lst=[13,24,54,67,43,89,22,78]\n",
    "#index=lst[2]\n",
    "#for i in range(len(lst)):\n",
    "#    if lst[i] == index:\n",
    "#        lst.pop(i)\n",
    "#       print(lst)\n",
    "\n",
    "\n",
    "lst=[13,24,54,67,43,89,22,78]\n",
    "usr_inp=int(input([]))\n",
    "if usr_inp < len(lst):\n",
    "    lst.pop(usr_inp -1)\n",
    "    print(lst)\n",
    "\n",
    "    "
   ]
  },
  {
   "cell_type": "code",
   "execution_count": 12,
   "metadata": {},
   "outputs": [
    {
     "name": "stdout",
     "output_type": "stream",
     "text": [
      "[1, 3]\n"
     ]
    }
   ],
   "source": [
    "a=[1,2,3,4]\n",
    "for i in range(2):\n",
    "    idx=int(input())\n",
    "    if 0<=idx<len(a):\n",
    "        a.pop(idx)\n",
    "    else:\n",
    "        print(\"Give correct index\")\n",
    "\n",
    "print(a)"
   ]
  },
  {
   "cell_type": "code",
   "execution_count": 33,
   "metadata": {},
   "outputs": [
    {
     "name": "stdout",
     "output_type": "stream",
     "text": [
      " my name is naincy\n"
     ]
    }
   ],
   "source": [
    "#creates a list of strings and then concatenates all the strings into a single string. Print the final string.\n",
    "strlst=['my', 'name', 'is', 'naincy']\n",
    "str=\"\"\n",
    "for i in strlst:\n",
    "    str=str+\" \"+i\n",
    "print(str)\n"
   ]
  },
  {
   "cell_type": "code",
   "execution_count": 3,
   "metadata": {},
   "outputs": [
    {
     "name": "stdout",
     "output_type": "stream",
     "text": [
      "5\n"
     ]
    }
   ],
   "source": [
    "# creates a list of integers and then finds the median value of the list. Print the median\n",
    "import math \n",
    "med_list=[2,4,1,5,6,7,9] #1,2,4,5,6,7,9 list of odd number of numbers\n",
    "med_list.sort()\n",
    "l=math.floor(len(med_list)/2)\n",
    "median=med_list[l]\n",
    "print(median)"
   ]
  },
  {
   "cell_type": "code",
   "execution_count": 4,
   "metadata": {},
   "outputs": [
    {
     "name": "stdout",
     "output_type": "stream",
     "text": [
      "4.5\n"
     ]
    }
   ],
   "source": [
    "import math\n",
    "m_list=[2,4,1,5,7,6] # 1,2,4,5,6,7 list of even number of numbers\n",
    "m_list.sort()\n",
    "l1=math.floor(len(m_list)/2)\n",
    "l2=math.floor(len(m_list)/2-1)\n",
    "med=(m_list[l1]+m_list[l2])/2\n",
    "print(med)\n"
   ]
  },
  {
   "cell_type": "code",
   "execution_count": 10,
   "metadata": {},
   "outputs": [
    {
     "name": "stdout",
     "output_type": "stream",
     "text": [
      "['naincy', 'is', 'name', 'my']\n"
     ]
    }
   ],
   "source": [
    "#creates a list of strings and then reverses the order of the strings in the list. Print the reversed list\n",
    "stlst=['my', 'name', 'is', 'naincy']\n",
    "new_list=[]\n",
    "for i in stlst[::-1]:\n",
    "    new_list.append(i) \n",
    "print(new_list)"
   ]
  },
  {
   "cell_type": "code",
   "execution_count": 6,
   "metadata": {},
   "outputs": [
    {
     "name": "stdout",
     "output_type": "stream",
     "text": [
      "65\n",
      "Average:13.0\n"
     ]
    }
   ],
   "source": [
    "#creates a list of integers and then calculates the average of all the numbers in the list. Print the average.\n",
    "lt=[11,12,13,14,15]\n",
    "s=0\n",
    "for i in lt:\n",
    "    s=s+int(i)\n",
    "print(s)\n",
    "print(f'Average:{s/len(lt)}')"
   ]
  },
  {
   "cell_type": "code",
   "execution_count": 34,
   "metadata": {},
   "outputs": [
    {
     "name": "stdout",
     "output_type": "stream",
     "text": [
      "3\n"
     ]
    }
   ],
   "source": [
    "# creates a list of integers and then finds the index of a specific element in the list. Print the index.\n",
    "lstin=[11,12,13,14,15]\n",
    "ele=int(input(\"enter a number\"))\n",
    "for i in lstin:\n",
    "    if i==ele:\n",
    "        print(lstin.index(i))\n",
    "\n",
    "\n"
   ]
  },
  {
   "cell_type": "code",
   "execution_count": 55,
   "metadata": {},
   "outputs": [
    {
     "name": "stdout",
     "output_type": "stream",
     "text": [
      "3\n"
     ]
    }
   ],
   "source": [
    "#creates a list of strings and then removes all whitespace characters from each string in the list. Print the final list.\n",
    "\n",
    "c=0\n",
    "strl=['Hello','World\\n\\n','Python','Programming\\t']\n",
    "for i in strl:\n",
    "    for j in i:\n",
    "        if j.isspace()== True:\n",
    "            c+=1\n",
    "print(c)\n"
   ]
  },
  {
   "cell_type": "code",
   "execution_count": 75,
   "metadata": {},
   "outputs": [
    {
     "ename": "TypeError",
     "evalue": "'NoneType' object is not callable",
     "output_type": "error",
     "traceback": [
      "\u001b[1;31m---------------------------------------------------------------------------\u001b[0m",
      "\u001b[1;31mTypeError\u001b[0m                                 Traceback (most recent call last)",
      "Cell \u001b[1;32mIn[75], line 7\u001b[0m\n\u001b[0;32m      5\u001b[0m     \u001b[39mif\u001b[39;00m maxi[\u001b[39m0\u001b[39m] \u001b[39m<\u001b[39m intlst[i]:\n\u001b[0;32m      6\u001b[0m         maxi[\u001b[39m0\u001b[39m] \u001b[39m=\u001b[39m intlst[i]\n\u001b[1;32m----> 7\u001b[0m \u001b[39mprint\u001b[39;49m(maxi)\n",
      "\u001b[1;31mTypeError\u001b[0m: 'NoneType' object is not callable"
     ]
    }
   ],
   "source": [
    "#creates a list of integers and then sorts the list in descending order. Print the sorted list.\n",
    "intlst=[13,15,12,16,14]\n",
    "maxi=[0]\n",
    "for i in range(len(intlst)):\n",
    "    if maxi[0] < intlst[i]:\n",
    "        maxi[0] = intlst[i]\n",
    "print(maxi)\n"
   ]
  }
 ],
 "metadata": {
  "kernelspec": {
   "display_name": "base",
   "language": "python",
   "name": "python3"
  },
  "language_info": {
   "codemirror_mode": {
    "name": "ipython",
    "version": 3
   },
   "file_extension": ".py",
   "mimetype": "text/x-python",
   "name": "python",
   "nbconvert_exporter": "python",
   "pygments_lexer": "ipython3",
   "version": "3.10.10"
  },
  "orig_nbformat": 4
 },
 "nbformat": 4,
 "nbformat_minor": 2
}
