{
 "cells": [
  {
   "cell_type": "code",
   "execution_count": 19,
   "metadata": {},
   "outputs": [
    {
     "name": "stdout",
     "output_type": "stream",
     "text": [
      "10\n"
     ]
    }
   ],
   "source": [
    "movies=[\n",
    "    'hungama',\n",
    "    'dhoom',\n",
    "    'honey bunny',\n",
    "    'farzi',\n",
    "    'raazi',\n",
    "    'aspirants',\n",
    "    'sandeep bhaiya',\n",
    "    'the devil wears prada',\n",
    "    'karma',\n",
    "    'hera pheri']\n",
    "print(len(movies))"
   ]
  },
  {
   "cell_type": "code",
   "execution_count": 8,
   "metadata": {},
   "outputs": [
    {
     "name": "stdout",
     "output_type": "stream",
     "text": [
      "hungama                        7\n",
      "dhoom                          5\n",
      "honey bunny                    11\n",
      "farzi                          5\n",
      "raazi                          5\n",
      "aspirants                      9\n",
      "sandeep bhaiya                 14\n",
      "gravitus                       8\n",
      "karma                          5\n",
      "hera pheri                     10\n"
     ]
    }
   ],
   "source": [
    "for title in movies:\n",
    "    print (f'{title:30} {len(title)}')"
   ]
  },
  {
   "cell_type": "code",
   "execution_count": 20,
   "metadata": {},
   "outputs": [
    {
     "name": "stdout",
     "output_type": "stream",
     "text": [
      "dhoom\n",
      "sandeep bhaiya\n",
      "the devil wears prada\n"
     ]
    }
   ],
   "source": [
    "for title in movies:\n",
    "    if 'd' in title:\n",
    "        print(title)"
   ]
  },
  {
   "cell_type": "code",
   "execution_count": 28,
   "metadata": {},
   "outputs": [
    {
     "name": "stdout",
     "output_type": "stream",
     "text": [
      "10\n"
     ]
    }
   ],
   "source": [
    "# nested loops\n",
    "books=[\n",
    "    ['OLiver Twist','Charles Dickens',8],\n",
    "['Emma','Jane Austen',9],\n",
    "['Hamlet','William Shakespeare',7],\n",
    "['Amadeus','Petter Shaffer',8],\n",
    "['Volpone','Ben Jonson',9],\n",
    "['Staying On','Paul Scott',6],\n",
    "['Arms and the Man','Bernard Show',8],\n",
    "['Tom Jones','Henry Fielding',9],\n",
    "['Indulekha','chandu Menon',8],\n",
    "['Indu','Menon',8]\n",
    "]\n",
    "\n",
    "print(len(books))"
   ]
  },
  {
   "cell_type": "code",
   "execution_count": 30,
   "metadata": {},
   "outputs": [
    {
     "name": "stdout",
     "output_type": "stream",
     "text": [
      "OLiver Twist\n",
      "Charles Dickens\n",
      "8\n",
      "\n",
      "Emma\n",
      "Jane Austen\n",
      "9\n",
      "\n",
      "Hamlet\n",
      "William Shakespeare\n",
      "7\n",
      "\n",
      "Amadeus\n",
      "Petter Shaffer\n",
      "8\n",
      "\n",
      "Volpone\n",
      "Ben Jonson\n",
      "9\n",
      "\n",
      "Staying On\n",
      "Paul Scott\n",
      "6\n",
      "\n",
      "Arms and the Man\n",
      "Bernard Show\n",
      "8\n",
      "\n",
      "Tom Jones\n",
      "Henry Fielding\n",
      "9\n",
      "\n",
      "Indulekha\n",
      "chandu Menon\n",
      "8\n",
      "\n",
      "Indu\n",
      "Menon\n",
      "8\n",
      "\n"
     ]
    }
   ],
   "source": [
    "for book in books:\n",
    "    for field in book:\n",
    "        print(field)\n",
    "    print()"
   ]
  },
  {
   "cell_type": "code",
   "execution_count": 33,
   "metadata": {},
   "outputs": [
    {
     "name": "stdout",
     "output_type": "stream",
     "text": [
      "tiltle: OLiver Twist\n",
      "author: Charles Dickens\n",
      "rating: 8\n",
      "\n",
      "tiltle: Emma\n",
      "author: Jane Austen\n",
      "rating: 9\n",
      "\n",
      "tiltle: Hamlet\n",
      "author: William Shakespeare\n",
      "rating: 7\n",
      "\n",
      "tiltle: Amadeus\n",
      "author: Petter Shaffer\n",
      "rating: 8\n",
      "\n",
      "tiltle: Volpone\n",
      "author: Ben Jonson\n",
      "rating: 9\n",
      "\n",
      "tiltle: Staying On\n",
      "author: Paul Scott\n",
      "rating: 6\n",
      "\n",
      "tiltle: Arms and the Man\n",
      "author: Bernard Show\n",
      "rating: 8\n",
      "\n",
      "tiltle: Tom Jones\n",
      "author: Henry Fielding\n",
      "rating: 9\n",
      "\n",
      "tiltle: Indulekha\n",
      "author: chandu Menon\n",
      "rating: 8\n",
      "\n",
      "tiltle: Indu\n",
      "author: Menon\n",
      "rating: 8\n",
      "\n"
     ]
    }
   ],
   "source": [
    "for book in books:\n",
    "    print(f'tiltle: {book[0]}')\n",
    "    print(f'author: {book[1]}')\n",
    "    print(f'rating: {book[2]}')\n",
    "    print()"
   ]
  },
  {
   "cell_type": "code",
   "execution_count": 2,
   "metadata": {},
   "outputs": [
    {
     "name": "stdout",
     "output_type": "stream",
     "text": [
      "bread        20    2   40\n",
      "milk         60    1   60\n",
      "butter      100    2  200\n",
      "cheese      260    2  520\n"
     ]
    }
   ],
   "source": [
    "grocery=['bread','milk','butter','cheese']\n",
    "prices=[20,60,100,260]\n",
    "qtys=[2,1,2,2]\n",
    "\n",
    "for g,p,q in zip(grocery,prices,qtys):\n",
    "    print(f'{g:10}{p:5}{q:5}{p*q:5}')"
   ]
  },
  {
   "cell_type": "code",
   "execution_count": 6,
   "metadata": {},
   "outputs": [
    {
     "name": "stdout",
     "output_type": "stream",
     "text": [
      "12 => not a prime\n"
     ]
    }
   ],
   "source": [
    "# prime number\n",
    "num=12\n",
    "for i in range(2,num):\n",
    "    if num%i==0:\n",
    "        print(f'{num} => not a prime')\n",
    "        break;\n",
    "else:\n",
    "    print(f'{num} => prime')"
   ]
  },
  {
   "cell_type": "code",
   "execution_count": 7,
   "metadata": {},
   "outputs": [
    {
     "name": "stdout",
     "output_type": "stream",
     "text": [
      "['Naincy', 'Molly', 'Little', 'Kshitiz']\n"
     ]
    }
   ],
   "source": [
    "names=['Naincy','Molly','Little','Kshitiz']\n",
    "print(names)"
   ]
  },
  {
   "cell_type": "code",
   "execution_count": 8,
   "metadata": {},
   "outputs": [
    {
     "name": "stdout",
     "output_type": "stream",
     "text": [
      "Naincy\n",
      "Molly\n",
      "Little\n",
      "Kshitiz\n"
     ]
    }
   ],
   "source": [
    "for name in names:\n",
    "    print(name)"
   ]
  },
  {
   "cell_type": "code",
   "execution_count": 10,
   "metadata": {},
   "outputs": [
    {
     "name": "stdout",
     "output_type": "stream",
     "text": [
      "(0, 'Naincy')\n",
      "(1, 'Molly')\n",
      "(2, 'Little')\n",
      "(3, 'Kshitiz')\n"
     ]
    }
   ],
   "source": [
    "for name in enumerate(names):\n",
    "    print(name)\n"
   ]
  },
  {
   "cell_type": "code",
   "execution_count": 11,
   "metadata": {},
   "outputs": [
    {
     "name": "stdout",
     "output_type": "stream",
     "text": [
      "0 Naincy\n",
      "1 Molly\n",
      "2 Little\n",
      "3 Kshitiz\n"
     ]
    }
   ],
   "source": [
    "for id,name in enumerate(names):\n",
    "    print(id,name)"
   ]
  },
  {
   "cell_type": "code",
   "execution_count": 12,
   "metadata": {},
   "outputs": [
    {
     "name": "stdout",
     "output_type": "stream",
     "text": [
      "654321\n"
     ]
    }
   ],
   "source": [
    "num=123456\n",
    "rev=0\n",
    "while num>0:\n",
    "    lastdig=num%10\n",
    "    rev=rev*10+lastdig\n",
    "    num=num//10\n",
    "print(rev)"
   ]
  },
  {
   "cell_type": "code",
   "execution_count": 15,
   "metadata": {},
   "outputs": [
    {
     "name": "stdout",
     "output_type": "stream",
     "text": [
      "invalid username or password\n",
      "logged in\n"
     ]
    }
   ],
   "source": [
    "username=\"Naincy\"\n",
    "password=\"naincy123\"\n",
    "while True:\n",
    "    u=input(\"username\")\n",
    "    p=input(\"password\")\n",
    "    if u==username and p==password:\n",
    "        print(\"logged in\")\n",
    "        break\n",
    "    else:\n",
    "        print(\"invalid username or password\")\n",
    "        continue"
   ]
  },
  {
   "cell_type": "code",
   "execution_count": null,
   "metadata": {},
   "outputs": [],
   "source": [
    "#"
   ]
  }
 ],
 "metadata": {
  "kernelspec": {
   "display_name": "base",
   "language": "python",
   "name": "python3"
  },
  "language_info": {
   "codemirror_mode": {
    "name": "ipython",
    "version": 3
   },
   "file_extension": ".py",
   "mimetype": "text/x-python",
   "name": "python",
   "nbconvert_exporter": "python",
   "pygments_lexer": "ipython3",
   "version": "3.10.10"
  },
  "orig_nbformat": 4
 },
 "nbformat": 4,
 "nbformat_minor": 2
}
