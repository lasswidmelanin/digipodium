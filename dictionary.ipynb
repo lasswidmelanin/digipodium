{
 "cells": [
  {
   "cell_type": "code",
   "execution_count": 23,
   "metadata": {},
   "outputs": [
    {
     "name": "stdout",
     "output_type": "stream",
     "text": [
      "{'first name': 'Rajesh', 'last name': 'Kumar', 'age': 25, 'address': {'house no': '123', 'street': 'MG Road', 'city': 'Bangalore', 'state': 'Karnataka'}}\n"
     ]
    }
   ],
   "source": [
    "raju={\n",
    "    'first name': 'Rajesh',\n",
    "    'last name': 'Kumar',\n",
    "    'age': 25,\n",
    "    'address': {\n",
    "        'house no':'123',\n",
    "        'street' : 'MG Road',\n",
    "        'city': 'Bangalore',\n",
    "        'state': 'Karnataka',\n",
    "    }\n",
    "}\n",
    "print(raju)"
   ]
  },
  {
   "cell_type": "code",
   "execution_count": 24,
   "metadata": {},
   "outputs": [
    {
     "name": "stdout",
     "output_type": "stream",
     "text": [
      "Rajesh\n",
      "Kumar\n",
      "25\n",
      "{'house no': '123', 'street': 'MG Road', 'city': 'Bangalore', 'state': 'Karnataka'}\n",
      "Bangalore\n"
     ]
    }
   ],
   "source": [
    "print(raju['first name'])\n",
    "print(raju['last name'])\n",
    "print(raju['age'])\n",
    "print(raju['address'])\n",
    "print(raju['address']['city'])"
   ]
  },
  {
   "cell_type": "code",
   "execution_count": 25,
   "metadata": {},
   "outputs": [
    {
     "name": "stdout",
     "output_type": "stream",
     "text": [
      "Rajesh\n",
      "None\n",
      "not found\n"
     ]
    }
   ],
   "source": [
    "print(raju.get('first name'))\n",
    "print(raju.get('middle name'))\n",
    "print(raju.get('middle name','not found')) # default value \"not found\" optional"
   ]
  },
  {
   "cell_type": "code",
   "execution_count": 26,
   "metadata": {},
   "outputs": [
    {
     "name": "stdout",
     "output_type": "stream",
     "text": [
      "{'first name': 'Rajesh', 'last name': 'Kumar', 'age': 24, 'address': {'house no': '123', 'street': 'MG Road', 'city': 'Bangalore', 'state': 'Karnataka'}}\n"
     ]
    }
   ],
   "source": [
    "# update value of a key\n",
    "raju['age']=24\n",
    "print(raju)"
   ]
  },
  {
   "cell_type": "code",
   "execution_count": 27,
   "metadata": {},
   "outputs": [
    {
     "name": "stdout",
     "output_type": "stream",
     "text": [
      "{'first name': 'Rajesh', 'last name': 'Kumar', 'age': 24, 'address': {'house no': '123', 'street': 'MG Road', 'city': 'Bangalore', 'state': 'Karnataka', 'country': 'India'}, 'middle name': 'Arun', 'phone': '1234567'}\n"
     ]
    }
   ],
   "source": [
    "# adding an entry\n",
    "raju['middle name']='Arun'\n",
    "raju['address']['country']='India'\n",
    "raju['phone']='1234567'\n",
    "print(raju)"
   ]
  },
  {
   "cell_type": "code",
   "execution_count": 28,
   "metadata": {},
   "outputs": [
    {
     "data": {
      "text/plain": [
       "'Arun'"
      ]
     },
     "execution_count": 28,
     "metadata": {},
     "output_type": "execute_result"
    }
   ],
   "source": [
    "# remove an entry\n",
    "raju.pop('middle name')"
   ]
  },
  {
   "cell_type": "code",
   "execution_count": 29,
   "metadata": {},
   "outputs": [
    {
     "name": "stdout",
     "output_type": "stream",
     "text": [
      "{'first name': 'Rajesh', 'last name': 'Kumar', 'age': 24, 'address': {'house no': '123', 'street': 'MG Road', 'city': 'Bangalore', 'state': 'Karnataka', 'country': 'India'}, 'phone': '1234567'}\n"
     ]
    }
   ],
   "source": [
    "print(raju)"
   ]
  },
  {
   "cell_type": "code",
   "execution_count": 30,
   "metadata": {},
   "outputs": [],
   "source": [
    "# raju.clear()"
   ]
  },
  {
   "cell_type": "code",
   "execution_count": 31,
   "metadata": {},
   "outputs": [
    {
     "name": "stdout",
     "output_type": "stream",
     "text": [
      "dict_keys(['first name', 'last name', 'age', 'address', 'phone'])\n",
      "dict_values(['Rajesh', 'Kumar', 24, {'house no': '123', 'street': 'MG Road', 'city': 'Bangalore', 'state': 'Karnataka', 'country': 'India'}, '1234567'])\n",
      "dict_items([('first name', 'Rajesh'), ('last name', 'Kumar'), ('age', 24), ('address', {'house no': '123', 'street': 'MG Road', 'city': 'Bangalore', 'state': 'Karnataka', 'country': 'India'}), ('phone', '1234567')])\n"
     ]
    }
   ],
   "source": [
    "# list all keys\n",
    "print(raju.keys())\n",
    "# list all values\n",
    "print(raju.values()) \n",
    "# list all key values items\n",
    "print(raju.items())"
   ]
  },
  {
   "cell_type": "code",
   "execution_count": 32,
   "metadata": {},
   "outputs": [
    {
     "name": "stdout",
     "output_type": "stream",
     "text": [
      "Rajesh\n",
      "Kumar\n",
      "24\n",
      "{'house no': '123', 'street': 'MG Road', 'city': 'Bangalore', 'state': 'Karnataka', 'country': 'India'}\n",
      "1234567\n"
     ]
    }
   ],
   "source": [
    "for key in raju:\n",
    "    print(raju[key])"
   ]
  },
  {
   "cell_type": "code",
   "execution_count": 33,
   "metadata": {},
   "outputs": [
    {
     "name": "stdout",
     "output_type": "stream",
     "text": [
      "first name Rajesh\n",
      "last name Kumar\n",
      "age 24\n",
      "address {'house no': '123', 'street': 'MG Road', 'city': 'Bangalore', 'state': 'Karnataka', 'country': 'India'}\n",
      "phone 1234567\n"
     ]
    }
   ],
   "source": [
    "for k,v in raju.items():\n",
    "    print(k,v)"
   ]
  },
  {
   "cell_type": "code",
   "execution_count": 34,
   "metadata": {},
   "outputs": [
    {
     "name": "stdout",
     "output_type": "stream",
     "text": [
      "Rajesh\n",
      "Kumar\n",
      "24\n",
      "{'house no': '123', 'street': 'MG Road', 'city': 'Bangalore', 'state': 'Karnataka', 'country': 'India'}\n",
      "1234567\n"
     ]
    }
   ],
   "source": [
    "for v in raju.values():\n",
    "    print(v)"
   ]
  },
  {
   "cell_type": "code",
   "execution_count": 35,
   "metadata": {},
   "outputs": [
    {
     "data": {
      "text/plain": [
       "'India'"
      ]
     },
     "execution_count": 35,
     "metadata": {},
     "output_type": "execute_result"
    }
   ],
   "source": [
    "raju['address'].pop('country')"
   ]
  },
  {
   "cell_type": "code",
   "execution_count": 39,
   "metadata": {},
   "outputs": [],
   "source": [
    "# create a dictionary of 5 employees of accounts department in ACME company\n",
    "acme={\n",
    "    'accounts':{}}\n",
    "\n",
    "for i in range(5):\n",
    "    name=input(\"Enter name: \")\n",
    "    desig=input(\"Enter designation:\")\n",
    "    sal=int(input(\"Enter salary:\"))\n",
    "    acme['accounts'][f'emp{i}']={\n",
    "        'name': name,\n",
    "        'designation': desig,\n",
    "        'salary':sal\n",
    "    }"
   ]
  },
  {
   "cell_type": "code",
   "execution_count": 40,
   "metadata": {},
   "outputs": [
    {
     "name": "stdout",
     "output_type": "stream",
     "text": [
      "{'accounts': {'emp0': {'name': 'naincy',\n",
      "                       'designation': 'manager',\n",
      "                       'salary': 50000},\n",
      "              'emp1': {'name': 'molly',\n",
      "                       'designation': 'assistant manager',\n",
      "                       'salary': 30000},\n",
      "              'emp2': {'name': 'little',\n",
      "                       'designation': 'engineer',\n",
      "                       'salary': 70000},\n",
      "              'emp3': {'name': 'raju', 'designation': 'clerk', 'salary': 20000},\n",
      "              'emp4': {'name': 'laxmi',\n",
      "                       'designation': 'registrar',\n",
      "                       'salary': 35000}}}\n"
     ]
    }
   ],
   "source": [
    "from pprint import pp\n",
    "pp(acme)"
   ]
  },
  {
   "cell_type": "code",
   "execution_count": 41,
   "metadata": {},
   "outputs": [
    {
     "name": "stdout",
     "output_type": "stream",
     "text": [
      "205000\n"
     ]
    }
   ],
   "source": [
    "# calculate total salary of all the employess\n",
    "tsal=0\n",
    "for emp in acme['accounts']:\n",
    "    tsal+=acme['accounts'][emp]['salary']\n",
    "print(tsal)"
   ]
  },
  {
   "cell_type": "code",
   "execution_count": 42,
   "metadata": {},
   "outputs": [
    {
     "name": "stdout",
     "output_type": "stream",
     "text": [
      "found contact\n",
      "name Police\n",
      "number 112\n",
      "contact not found\n",
      "add contact\n",
      "contact added\n",
      "contact not found\n",
      "add contact\n",
      "contact added\n",
      "found contact\n",
      "name ravi\n",
      "number 123\n"
     ]
    }
   ],
   "source": [
    "# create a contact dictionary and \n",
    "# let user check if a contact exists\n",
    "# if yes, print the contact details\n",
    "# if no, ask user to add the contact\n",
    "\n",
    "contacts= {'Police': 112}\n",
    "while True:\n",
    "    contact_name = input(\"Enter contact name:\")\n",
    "    if contact_name in contacts:\n",
    "        print(\"found contact\")\n",
    "        print('name',contact_name)\n",
    "        print('number',contacts[contact_name])\n",
    "    elif contact_name=='exit':\n",
    "        break\n",
    "    else:\n",
    "        print('contact not found')\n",
    "        print('add contact')\n",
    "        contact_number=input(\"Enter contact number\")\n",
    "        contacts[contact_name]=contact_number\n",
    "        print('contact added')"
   ]
  }
 ],
 "metadata": {
  "kernelspec": {
   "display_name": "base",
   "language": "python",
   "name": "python3"
  },
  "language_info": {
   "codemirror_mode": {
    "name": "ipython",
    "version": 3
   },
   "file_extension": ".py",
   "mimetype": "text/x-python",
   "name": "python",
   "nbconvert_exporter": "python",
   "pygments_lexer": "ipython3",
   "version": "3.10.10"
  },
  "orig_nbformat": 4
 },
 "nbformat": 4,
 "nbformat_minor": 2
}
