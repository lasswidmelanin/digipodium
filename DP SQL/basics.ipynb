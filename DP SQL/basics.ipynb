{
    "metadata": {
        "kernelspec": {
            "name": "SQL",
            "display_name": "SQL",
            "language": "sql"
        },
        "language_info": {
            "name": "sql",
            "version": ""
        }
    },
    "nbformat_minor": 2,
    "nbformat": 4,
    "cells": [
        {
            "cell_type": "code",
            "source": [
                "select database();"
            ],
            "metadata": {
                "azdata_cell_guid": "8113d47e-6415-4af7-aed9-1c5abf66b966",
                "language": "sql"
            },
            "outputs": [
                {
                    "output_type": "display_data",
                    "data": {
                        "text/html": "(1 row(s) affected)"
                    },
                    "metadata": {}
                },
                {
                    "output_type": "display_data",
                    "data": {
                        "text/html": "Total execution time: 00:00:01.009"
                    },
                    "metadata": {}
                },
                {
                    "output_type": "execute_result",
                    "execution_count": 2,
                    "data": {
                        "application/vnd.dataresource+json": {
                            "schema": {
                                "fields": [
                                    {
                                        "name": "database()"
                                    }
                                ]
                            },
                            "data": [
                                {
                                    "database()": "NULL"
                                }
                            ]
                        },
                        "text/html": "<table><tr><th>database()</th></tr><tr><td>NULL</td></tr></table>"
                    },
                    "metadata": {}
                }
            ],
            "execution_count": 2
        },
        {
            "cell_type": "code",
            "source": [
                "use sakila; -- database changed"
            ],
            "metadata": {
                "azdata_cell_guid": "e56990a4-7fd6-4d4f-8770-ed21b1e1cbe1",
                "language": "sql"
            },
            "outputs": [
                {
                    "output_type": "display_data",
                    "data": {
                        "text/html": "Commands completed successfully"
                    },
                    "metadata": {}
                },
                {
                    "output_type": "display_data",
                    "data": {
                        "text/html": "Total execution time: 00:00:00.002"
                    },
                    "metadata": {}
                }
            ],
            "execution_count": 3
        },
        {
            "cell_type": "code",
            "source": [
                "show databases;"
            ],
            "metadata": {
                "language": "sql",
                "azdata_cell_guid": "494738e9-1c62-4ef1-bb59-c27210165d89"
            },
            "outputs": [
                {
                    "output_type": "display_data",
                    "data": {
                        "text/html": "(6 row(s) affected)"
                    },
                    "metadata": {}
                },
                {
                    "output_type": "display_data",
                    "data": {
                        "text/html": "Total execution time: 00:00:01.008"
                    },
                    "metadata": {}
                },
                {
                    "output_type": "execute_result",
                    "execution_count": 5,
                    "data": {
                        "application/vnd.dataresource+json": {
                            "schema": {
                                "fields": [
                                    {
                                        "name": "Database"
                                    }
                                ]
                            },
                            "data": [
                                {
                                    "Database": "information_schema"
                                },
                                {
                                    "Database": "mysql"
                                },
                                {
                                    "Database": "performance_schema"
                                },
                                {
                                    "Database": "sakila"
                                },
                                {
                                    "Database": "sys"
                                },
                                {
                                    "Database": "world"
                                }
                            ]
                        },
                        "text/html": "<table><tr><th>Database</th></tr><tr><td>information_schema</td></tr><tr><td>mysql</td></tr><tr><td>performance_schema</td></tr><tr><td>sakila</td></tr><tr><td>sys</td></tr><tr><td>world</td></tr></table>"
                    },
                    "metadata": {}
                }
            ],
            "execution_count": 5
        },
        {
            "cell_type": "code",
            "source": [
                "create DATABASE school;"
            ],
            "metadata": {
                "language": "sql",
                "azdata_cell_guid": "8b8f9cd3-e0fa-4188-975d-f55ef7a1f56a"
            },
            "outputs": [
                {
                    "output_type": "display_data",
                    "data": {
                        "text/html": "Total execution time: 00:00:00"
                    },
                    "metadata": {}
                },
                {
                    "output_type": "error",
                    "ename": "",
                    "evalue": "1007 (HY000): Can't create database 'school'; database exists",
                    "traceback": []
                }
            ],
            "execution_count": 7
        },
        {
            "cell_type": "code",
            "source": [
                "show databases;"
            ],
            "metadata": {
                "language": "sql",
                "azdata_cell_guid": "63601439-96f6-41bb-8fe7-5fd7ed03f346"
            },
            "outputs": [
                {
                    "output_type": "display_data",
                    "data": {
                        "text/html": "(7 row(s) affected)"
                    },
                    "metadata": {}
                },
                {
                    "output_type": "display_data",
                    "data": {
                        "text/html": "Total execution time: 00:00:01.011"
                    },
                    "metadata": {}
                },
                {
                    "output_type": "execute_result",
                    "execution_count": 9,
                    "data": {
                        "application/vnd.dataresource+json": {
                            "schema": {
                                "fields": [
                                    {
                                        "name": "Database"
                                    }
                                ]
                            },
                            "data": [
                                {
                                    "Database": "information_schema"
                                },
                                {
                                    "Database": "mysql"
                                },
                                {
                                    "Database": "performance_schema"
                                },
                                {
                                    "Database": "sakila"
                                },
                                {
                                    "Database": "school"
                                },
                                {
                                    "Database": "sys"
                                },
                                {
                                    "Database": "world"
                                }
                            ]
                        },
                        "text/html": "<table><tr><th>Database</th></tr><tr><td>information_schema</td></tr><tr><td>mysql</td></tr><tr><td>performance_schema</td></tr><tr><td>sakila</td></tr><tr><td>school</td></tr><tr><td>sys</td></tr><tr><td>world</td></tr></table>"
                    },
                    "metadata": {}
                }
            ],
            "execution_count": 9
        },
        {
            "cell_type": "code",
            "source": [
                "create DATABASE if not exists school ;"
            ],
            "metadata": {
                "language": "sql",
                "azdata_cell_guid": "9d497920-5396-479e-90d9-8c15a7619acd"
            },
            "outputs": [
                {
                    "output_type": "display_data",
                    "data": {
                        "text/html": "Commands completed successfully"
                    },
                    "metadata": {}
                },
                {
                    "output_type": "display_data",
                    "data": {
                        "text/html": "Total execution time: 00:00:00.012"
                    },
                    "metadata": {}
                }
            ],
            "execution_count": 13
        },
        {
            "cell_type": "code",
            "source": [
                "use school ;"
            ],
            "metadata": {
                "language": "sql",
                "azdata_cell_guid": "0c35de13-3134-43f1-90a6-518c05df94b0"
            },
            "outputs": [
                {
                    "output_type": "display_data",
                    "data": {
                        "text/html": "Commands completed successfully"
                    },
                    "metadata": {}
                },
                {
                    "output_type": "display_data",
                    "data": {
                        "text/html": "Total execution time: 00:00:00.001"
                    },
                    "metadata": {}
                }
            ],
            "execution_count": 14
        },
        {
            "cell_type": "code",
            "source": [
                "create table if not exists tasks(\r\n",
                "task_id int auto_increment primary key,\r\n",
                "title varchar(255) not null,\r\n",
                "start_date date,\r\n",
                "due_date date,\r\n",
                "status tinyint not null,\r\n",
                "priority tinyint not null,\r\n",
                "description text,\r\n",
                "created_at TIMESTAMP default CURRENT_TIMESTAMP\r\n",
                ");"
            ],
            "metadata": {
                "language": "sql",
                "azdata_cell_guid": "65e176cd-e139-488c-9621-a18022e02d84"
            },
            "outputs": [
                {
                    "output_type": "display_data",
                    "data": {
                        "text/html": "Commands completed successfully"
                    },
                    "metadata": {}
                },
                {
                    "output_type": "display_data",
                    "data": {
                        "text/html": "Total execution time: 00:00:00.029"
                    },
                    "metadata": {}
                }
            ],
            "execution_count": 15
        },
        {
            "cell_type": "code",
            "source": [
                "show tables;"
            ],
            "metadata": {
                "language": "sql",
                "azdata_cell_guid": "633ef0fc-bf97-4e32-822e-856ee2508741"
            },
            "outputs": [
                {
                    "output_type": "display_data",
                    "data": {
                        "text/html": "(1 row(s) affected)"
                    },
                    "metadata": {}
                },
                {
                    "output_type": "display_data",
                    "data": {
                        "text/html": "Total execution time: 00:00:01.029"
                    },
                    "metadata": {}
                },
                {
                    "output_type": "execute_result",
                    "execution_count": 17,
                    "data": {
                        "application/vnd.dataresource+json": {
                            "schema": {
                                "fields": [
                                    {
                                        "name": "Tables_in_school"
                                    }
                                ]
                            },
                            "data": [
                                {
                                    "Tables_in_school": "tasks"
                                }
                            ]
                        },
                        "text/html": "<table><tr><th>Tables_in_school</th></tr><tr><td>tasks</td></tr></table>"
                    },
                    "metadata": {}
                }
            ],
            "execution_count": 17
        },
        {
            "cell_type": "code",
            "source": [
                "describe tasks;"
            ],
            "metadata": {
                "language": "sql",
                "azdata_cell_guid": "a8a0290f-783d-4db8-bce6-547ef5b736a2"
            },
            "outputs": [
                {
                    "output_type": "display_data",
                    "data": {
                        "text/html": "(8 row(s) affected)"
                    },
                    "metadata": {}
                },
                {
                    "output_type": "display_data",
                    "data": {
                        "text/html": "Total execution time: 00:00:01.018"
                    },
                    "metadata": {}
                },
                {
                    "output_type": "execute_result",
                    "execution_count": 18,
                    "data": {
                        "application/vnd.dataresource+json": {
                            "schema": {
                                "fields": [
                                    {
                                        "name": "Field"
                                    },
                                    {
                                        "name": "Type"
                                    },
                                    {
                                        "name": "Null"
                                    },
                                    {
                                        "name": "Key"
                                    },
                                    {
                                        "name": "Default"
                                    },
                                    {
                                        "name": "Extra"
                                    }
                                ]
                            },
                            "data": [
                                {
                                    "Field": "task_id",
                                    "Type": "b'int'",
                                    "Null": "NO",
                                    "Key": "PRI",
                                    "Default": "NULL",
                                    "Extra": "auto_increment"
                                },
                                {
                                    "Field": "title",
                                    "Type": "b'varchar(255)'",
                                    "Null": "NO",
                                    "Key": "",
                                    "Default": "NULL",
                                    "Extra": ""
                                },
                                {
                                    "Field": "start_date",
                                    "Type": "b'date'",
                                    "Null": "YES",
                                    "Key": "",
                                    "Default": "NULL",
                                    "Extra": ""
                                },
                                {
                                    "Field": "due_date",
                                    "Type": "b'date'",
                                    "Null": "YES",
                                    "Key": "",
                                    "Default": "NULL",
                                    "Extra": ""
                                },
                                {
                                    "Field": "status",
                                    "Type": "b'tinyint'",
                                    "Null": "NO",
                                    "Key": "",
                                    "Default": "NULL",
                                    "Extra": ""
                                },
                                {
                                    "Field": "priority",
                                    "Type": "b'tinyint'",
                                    "Null": "NO",
                                    "Key": "",
                                    "Default": "NULL",
                                    "Extra": ""
                                },
                                {
                                    "Field": "description",
                                    "Type": "b'text'",
                                    "Null": "YES",
                                    "Key": "",
                                    "Default": "NULL",
                                    "Extra": ""
                                },
                                {
                                    "Field": "created_at",
                                    "Type": "b'timestamp'",
                                    "Null": "YES",
                                    "Key": "",
                                    "Default": "b'CURRENT_TIMESTAMP'",
                                    "Extra": "DEFAULT_GENERATED"
                                }
                            ]
                        },
                        "text/html": "<table><tr><th>Field</th><th>Type</th><th>Null</th><th>Key</th><th>Default</th><th>Extra</th></tr><tr><td>task_id</td><td>b&#39;int&#39;</td><td>NO</td><td>PRI</td><td>NULL</td><td>auto_increment</td></tr><tr><td>title</td><td>b&#39;varchar(255)&#39;</td><td>NO</td><td></td><td>NULL</td><td></td></tr><tr><td>start_date</td><td>b&#39;date&#39;</td><td>YES</td><td></td><td>NULL</td><td></td></tr><tr><td>due_date</td><td>b&#39;date&#39;</td><td>YES</td><td></td><td>NULL</td><td></td></tr><tr><td>status</td><td>b&#39;tinyint&#39;</td><td>NO</td><td></td><td>NULL</td><td></td></tr><tr><td>priority</td><td>b&#39;tinyint&#39;</td><td>NO</td><td></td><td>NULL</td><td></td></tr><tr><td>description</td><td>b&#39;text&#39;</td><td>YES</td><td></td><td>NULL</td><td></td></tr><tr><td>created_at</td><td>b&#39;timestamp&#39;</td><td>YES</td><td></td><td>b&#39;CURRENT_TIMESTAMP&#39;</td><td>DEFAULT_GENERATED</td></tr></table>"
                    },
                    "metadata": {}
                }
            ],
            "execution_count": 18
        },
        {
            "cell_type": "code",
            "source": [
                "create table if not exists checklists(\r\n",
                "todo_id int auto_increment,\r\n",
                "task_id int,\r\n",
                "todo varchar(255) not null,\r\n",
                "is_completed boolean not null default false,\r\n",
                "primary key (todo_id , task_id),\r\n",
                "foreign key (task_id)\r\n",
                "REFERENCES tasks (task_id)\r\n",
                "on update restrict on delete cascade\r\n",
                ");"
            ],
            "metadata": {
                "language": "sql",
                "azdata_cell_guid": "a7d123d1-1365-4ad7-8161-e5dfd173b89e"
            },
            "outputs": [
                {
                    "output_type": "display_data",
                    "data": {
                        "text/html": "Commands completed successfully"
                    },
                    "metadata": {}
                },
                {
                    "output_type": "display_data",
                    "data": {
                        "text/html": "Total execution time: 00:00:00.027"
                    },
                    "metadata": {}
                }
            ],
            "execution_count": 19
        },
        {
            "cell_type": "code",
            "source": [
                "describe checklists;"
            ],
            "metadata": {
                "language": "sql",
                "azdata_cell_guid": "9119180c-40a4-4f48-8947-50d3e0a7814c"
            },
            "outputs": [
                {
                    "output_type": "display_data",
                    "data": {
                        "text/html": "(4 row(s) affected)"
                    },
                    "metadata": {}
                },
                {
                    "output_type": "display_data",
                    "data": {
                        "text/html": "Total execution time: 00:00:01.010"
                    },
                    "metadata": {}
                },
                {
                    "output_type": "execute_result",
                    "execution_count": 20,
                    "data": {
                        "application/vnd.dataresource+json": {
                            "schema": {
                                "fields": [
                                    {
                                        "name": "Field"
                                    },
                                    {
                                        "name": "Type"
                                    },
                                    {
                                        "name": "Null"
                                    },
                                    {
                                        "name": "Key"
                                    },
                                    {
                                        "name": "Default"
                                    },
                                    {
                                        "name": "Extra"
                                    }
                                ]
                            },
                            "data": [
                                {
                                    "Field": "todo_id",
                                    "Type": "b'int'",
                                    "Null": "NO",
                                    "Key": "PRI",
                                    "Default": "NULL",
                                    "Extra": "auto_increment"
                                },
                                {
                                    "Field": "task_id",
                                    "Type": "b'int'",
                                    "Null": "NO",
                                    "Key": "PRI",
                                    "Default": "NULL",
                                    "Extra": ""
                                },
                                {
                                    "Field": "todo",
                                    "Type": "b'varchar(255)'",
                                    "Null": "NO",
                                    "Key": "",
                                    "Default": "NULL",
                                    "Extra": ""
                                },
                                {
                                    "Field": "is_completed",
                                    "Type": "b'tinyint(1)'",
                                    "Null": "NO",
                                    "Key": "",
                                    "Default": "b'0'",
                                    "Extra": ""
                                }
                            ]
                        },
                        "text/html": "<table><tr><th>Field</th><th>Type</th><th>Null</th><th>Key</th><th>Default</th><th>Extra</th></tr><tr><td>todo_id</td><td>b&#39;int&#39;</td><td>NO</td><td>PRI</td><td>NULL</td><td>auto_increment</td></tr><tr><td>task_id</td><td>b&#39;int&#39;</td><td>NO</td><td>PRI</td><td>NULL</td><td></td></tr><tr><td>todo</td><td>b&#39;varchar(255)&#39;</td><td>NO</td><td></td><td>NULL</td><td></td></tr><tr><td>is_completed</td><td>b&#39;tinyint(1)&#39;</td><td>NO</td><td></td><td>b&#39;0&#39;</td><td></td></tr></table>"
                    },
                    "metadata": {}
                }
            ],
            "execution_count": 20
        },
        {
            "cell_type": "code",
            "source": [
                ""
            ],
            "metadata": {
                "language": "sql",
                "azdata_cell_guid": "cee86849-d636-412d-95e9-9987c07d18ea"
            },
            "outputs": [],
            "execution_count": null
        }
    ]
}