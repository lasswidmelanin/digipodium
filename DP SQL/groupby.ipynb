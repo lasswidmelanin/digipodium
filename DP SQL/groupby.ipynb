{
    "metadata": {
        "kernelspec": {
            "name": "SQL",
            "display_name": "SQL",
            "language": "sql"
        },
        "language_info": {
            "name": "sql",
            "version": ""
        }
    },
    "nbformat_minor": 2,
    "nbformat": 4,
    "cells": [
        {
            "cell_type": "code",
            "source": [
                "use sakila;"
            ],
            "metadata": {
                "azdata_cell_guid": "9fbec07b-a588-401f-9c3a-9f18eaa69717",
                "language": "sql"
            },
            "outputs": [
                {
                    "output_type": "display_data",
                    "data": {
                        "text/html": "Commands completed successfully"
                    },
                    "metadata": {}
                },
                {
                    "output_type": "display_data",
                    "data": {
                        "text/html": "Total execution time: 00:00:00"
                    },
                    "metadata": {}
                }
            ],
            "execution_count": 1
        },
        {
            "cell_type": "code",
            "source": [
                "select * from customer limit 2;"
            ],
            "metadata": {
                "language": "sql",
                "azdata_cell_guid": "68c28118-537f-42f0-9735-73c0eee4af7d"
            },
            "outputs": [
                {
                    "output_type": "display_data",
                    "data": {
                        "text/html": "(2 row(s) affected)"
                    },
                    "metadata": {}
                },
                {
                    "output_type": "display_data",
                    "data": {
                        "text/html": "Total execution time: 00:00:01.057"
                    },
                    "metadata": {}
                },
                {
                    "output_type": "execute_result",
                    "metadata": {},
                    "execution_count": 2,
                    "data": {
                        "application/vnd.dataresource+json": {
                            "schema": {
                                "fields": [
                                    {
                                        "name": "customer_id"
                                    },
                                    {
                                        "name": "store_id"
                                    },
                                    {
                                        "name": "first_name"
                                    },
                                    {
                                        "name": "last_name"
                                    },
                                    {
                                        "name": "email"
                                    },
                                    {
                                        "name": "address_id"
                                    },
                                    {
                                        "name": "active"
                                    },
                                    {
                                        "name": "create_date"
                                    },
                                    {
                                        "name": "last_update"
                                    }
                                ]
                            },
                            "data": [
                                {
                                    "customer_id": "1",
                                    "store_id": "1",
                                    "first_name": "MARY",
                                    "last_name": "SMITH",
                                    "email": "MARY.SMITH@sakilacustomer.org",
                                    "address_id": "5",
                                    "active": "1",
                                    "create_date": "2006-02-14 22:04:36",
                                    "last_update": "2006-02-15 04:57:20"
                                },
                                {
                                    "customer_id": "2",
                                    "store_id": "1",
                                    "first_name": "PATRICIA",
                                    "last_name": "JOHNSON",
                                    "email": "PATRICIA.JOHNSON@sakilacustomer.org",
                                    "address_id": "6",
                                    "active": "1",
                                    "create_date": "2006-02-14 22:04:36",
                                    "last_update": "2006-02-15 04:57:20"
                                }
                            ]
                        },
                        "text/html": [
                            "<table>",
                            "<tr><th>customer_id</th><th>store_id</th><th>first_name</th><th>last_name</th><th>email</th><th>address_id</th><th>active</th><th>create_date</th><th>last_update</th></tr>",
                            "<tr><td>1</td><td>1</td><td>MARY</td><td>SMITH</td><td>MARY.SMITH@sakilacustomer.org</td><td>5</td><td>1</td><td>2006-02-14 22:04:36</td><td>2006-02-15 04:57:20</td></tr>",
                            "<tr><td>2</td><td>1</td><td>PATRICIA</td><td>JOHNSON</td><td>PATRICIA.JOHNSON@sakilacustomer.org</td><td>6</td><td>1</td><td>2006-02-14 22:04:36</td><td>2006-02-15 04:57:20</td></tr>",
                            "</table>"
                        ]
                    }
                }
            ],
            "execution_count": 2
        },
        {
            "cell_type": "code",
            "source": [
                "select active, count(customer_id) from customer group by active;"
            ],
            "metadata": {
                "language": "sql",
                "azdata_cell_guid": "bb9f429b-ee4f-4f1d-9dd7-0cc9b3d7436c"
            },
            "outputs": [
                {
                    "output_type": "display_data",
                    "data": {
                        "text/html": "(2 row(s) affected)"
                    },
                    "metadata": {}
                },
                {
                    "output_type": "display_data",
                    "data": {
                        "text/html": "Total execution time: 00:00:01.046"
                    },
                    "metadata": {}
                },
                {
                    "output_type": "execute_result",
                    "metadata": {},
                    "execution_count": 3,
                    "data": {
                        "application/vnd.dataresource+json": {
                            "schema": {
                                "fields": [
                                    {
                                        "name": "active"
                                    },
                                    {
                                        "name": "count(customer_id)"
                                    }
                                ]
                            },
                            "data": [
                                {
                                    "active": "1",
                                    "count(customer_id)": "584"
                                },
                                {
                                    "active": "0",
                                    "count(customer_id)": "15"
                                }
                            ]
                        },
                        "text/html": [
                            "<table>",
                            "<tr><th>active</th><th>count(customer_id)</th></tr>",
                            "<tr><td>1</td><td>584</td></tr>",
                            "<tr><td>0</td><td>15</td></tr>",
                            "</table>"
                        ]
                    }
                }
            ],
            "execution_count": 3
        },
        {
            "cell_type": "code",
            "source": [
                "select store_id,count(customer_id)from customer group by store_id;"
            ],
            "metadata": {
                "language": "sql",
                "azdata_cell_guid": "4e861dd8-cc74-4e70-864e-51d2e6169428"
            },
            "outputs": [
                {
                    "output_type": "display_data",
                    "data": {
                        "text/html": "(2 row(s) affected)"
                    },
                    "metadata": {}
                },
                {
                    "output_type": "display_data",
                    "data": {
                        "text/html": "Total execution time: 00:00:01.044"
                    },
                    "metadata": {}
                },
                {
                    "output_type": "execute_result",
                    "metadata": {},
                    "execution_count": 4,
                    "data": {
                        "application/vnd.dataresource+json": {
                            "schema": {
                                "fields": [
                                    {
                                        "name": "store_id"
                                    },
                                    {
                                        "name": "count(customer_id)"
                                    }
                                ]
                            },
                            "data": [
                                {
                                    "store_id": "1",
                                    "count(customer_id)": "326"
                                },
                                {
                                    "store_id": "2",
                                    "count(customer_id)": "273"
                                }
                            ]
                        },
                        "text/html": [
                            "<table>",
                            "<tr><th>store_id</th><th>count(customer_id)</th></tr>",
                            "<tr><td>1</td><td>326</td></tr>",
                            "<tr><td>2</td><td>273</td></tr>",
                            "</table>"
                        ]
                    }
                }
            ],
            "execution_count": 4
        },
        {
            "cell_type": "code",
            "source": [
                "select * from film limit 2;"
            ],
            "metadata": {
                "language": "sql",
                "azdata_cell_guid": "7da4d366-7762-4832-a738-0ba3c93c1c86"
            },
            "outputs": [
                {
                    "output_type": "display_data",
                    "data": {
                        "text/html": "(2 row(s) affected)"
                    },
                    "metadata": {}
                },
                {
                    "output_type": "display_data",
                    "data": {
                        "text/html": "Total execution time: 00:00:01.018"
                    },
                    "metadata": {}
                },
                {
                    "output_type": "execute_result",
                    "metadata": {},
                    "execution_count": 5,
                    "data": {
                        "application/vnd.dataresource+json": {
                            "schema": {
                                "fields": [
                                    {
                                        "name": "film_id"
                                    },
                                    {
                                        "name": "title"
                                    },
                                    {
                                        "name": "description"
                                    },
                                    {
                                        "name": "release_year"
                                    },
                                    {
                                        "name": "language_id"
                                    },
                                    {
                                        "name": "original_language_id"
                                    },
                                    {
                                        "name": "rental_duration"
                                    },
                                    {
                                        "name": "rental_rate"
                                    },
                                    {
                                        "name": "length"
                                    },
                                    {
                                        "name": "replacement_cost"
                                    },
                                    {
                                        "name": "rating"
                                    },
                                    {
                                        "name": "special_features"
                                    },
                                    {
                                        "name": "last_update"
                                    }
                                ]
                            },
                            "data": [
                                {
                                    "film_id": "1",
                                    "title": "ACADEMY DINOSAUR",
                                    "description": "A Epic Drama of a Feminist And a Mad Scientist who must Battle a Teacher in The Canadian Rockies",
                                    "release_year": "2006",
                                    "language_id": "1",
                                    "original_language_id": "NULL",
                                    "rental_duration": "6",
                                    "rental_rate": "0.99",
                                    "length": "86",
                                    "replacement_cost": "20.99",
                                    "rating": "PG",
                                    "special_features": "{'Behind the Scenes', 'Deleted Scenes'}",
                                    "last_update": "2006-02-15 05:03:42"
                                },
                                {
                                    "film_id": "2",
                                    "title": "ACE GOLDFINGER",
                                    "description": "A Astounding Epistle of a Database Administrator And a Explorer who must Find a Car in Ancient China",
                                    "release_year": "2006",
                                    "language_id": "1",
                                    "original_language_id": "NULL",
                                    "rental_duration": "3",
                                    "rental_rate": "4.99",
                                    "length": "48",
                                    "replacement_cost": "12.99",
                                    "rating": "G",
                                    "special_features": "{'Trailers', 'Deleted Scenes'}",
                                    "last_update": "2006-02-15 05:03:42"
                                }
                            ]
                        },
                        "text/html": [
                            "<table>",
                            "<tr><th>film_id</th><th>title</th><th>description</th><th>release_year</th><th>language_id</th><th>original_language_id</th><th>rental_duration</th><th>rental_rate</th><th>length</th><th>replacement_cost</th><th>rating</th><th>special_features</th><th>last_update</th></tr>",
                            "<tr><td>1</td><td>ACADEMY DINOSAUR</td><td>A Epic Drama of a Feminist And a Mad Scientist who must Battle a Teacher in The Canadian Rockies</td><td>2006</td><td>1</td><td>NULL</td><td>6</td><td>0.99</td><td>86</td><td>20.99</td><td>PG</td><td>{&#39;Behind the Scenes&#39;, &#39;Deleted Scenes&#39;}</td><td>2006-02-15 05:03:42</td></tr>",
                            "<tr><td>2</td><td>ACE GOLDFINGER</td><td>A Astounding Epistle of a Database Administrator And a Explorer who must Find a Car in Ancient China</td><td>2006</td><td>1</td><td>NULL</td><td>3</td><td>4.99</td><td>48</td><td>12.99</td><td>G</td><td>{&#39;Trailers&#39;, &#39;Deleted Scenes&#39;}</td><td>2006-02-15 05:03:42</td></tr>",
                            "</table>"
                        ]
                    }
                }
            ],
            "execution_count": 5
        },
        {
            "cell_type": "code",
            "source": [
                "select rating,count(film_id) \r\n",
                "from film \r\n",
                "group by rating;"
            ],
            "metadata": {
                "language": "sql",
                "azdata_cell_guid": "396cb208-e7b7-45e8-b835-3fe330fe832e"
            },
            "outputs": [
                {
                    "output_type": "display_data",
                    "data": {
                        "text/html": "(5 row(s) affected)"
                    },
                    "metadata": {}
                },
                {
                    "output_type": "display_data",
                    "data": {
                        "text/html": "Total execution time: 00:00:01.008"
                    },
                    "metadata": {}
                },
                {
                    "output_type": "execute_result",
                    "metadata": {},
                    "execution_count": 7,
                    "data": {
                        "application/vnd.dataresource+json": {
                            "schema": {
                                "fields": [
                                    {
                                        "name": "rating"
                                    },
                                    {
                                        "name": "count(film_id)"
                                    }
                                ]
                            },
                            "data": [
                                {
                                    "rating": "PG",
                                    "count(film_id)": "194"
                                },
                                {
                                    "rating": "G",
                                    "count(film_id)": "178"
                                },
                                {
                                    "rating": "NC-17",
                                    "count(film_id)": "210"
                                },
                                {
                                    "rating": "PG-13",
                                    "count(film_id)": "223"
                                },
                                {
                                    "rating": "R",
                                    "count(film_id)": "195"
                                }
                            ]
                        },
                        "text/html": [
                            "<table>",
                            "<tr><th>rating</th><th>count(film_id)</th></tr>",
                            "<tr><td>PG</td><td>194</td></tr>",
                            "<tr><td>G</td><td>178</td></tr>",
                            "<tr><td>NC-17</td><td>210</td></tr>",
                            "<tr><td>PG-13</td><td>223</td></tr>",
                            "<tr><td>R</td><td>195</td></tr>",
                            "</table>"
                        ]
                    }
                }
            ],
            "execution_count": 7
        },
        {
            "cell_type": "markdown",
            "source": [
                "\\# count the number of movies on the basis of rental\\_duration and rating"
            ],
            "metadata": {
                "language": "sql",
                "azdata_cell_guid": "5f6c1c4c-b928-4dd9-9de5-96ac89a96cec"
            },
            "attachments": {}
        },
        {
            "cell_type": "code",
            "source": [
                "select \r\n",
                "    count(film_id) as number_of_films,\r\n",
                "    rating,\r\n",
                "    rental_duration\r\n",
                "from\r\n",
                "    film  \r\n",
                "group by\r\n",
                "    rating,\r\n",
                "    rental_duration\r\n",
                "order by \r\n",
                "    rating,\r\n",
                "    rental_duration;"
            ],
            "metadata": {
                "language": "sql",
                "azdata_cell_guid": "a444a45d-8b59-4961-b161-c6112a09cbcc"
            },
            "outputs": [
                {
                    "output_type": "display_data",
                    "data": {
                        "text/html": "(25 row(s) affected)"
                    },
                    "metadata": {}
                },
                {
                    "output_type": "display_data",
                    "data": {
                        "text/html": "Total execution time: 00:00:01.018"
                    },
                    "metadata": {}
                },
                {
                    "output_type": "execute_result",
                    "metadata": {},
                    "execution_count": 12,
                    "data": {
                        "application/vnd.dataresource+json": {
                            "schema": {
                                "fields": [
                                    {
                                        "name": "number_of_films"
                                    },
                                    {
                                        "name": "rating"
                                    },
                                    {
                                        "name": "rental_duration"
                                    }
                                ]
                            },
                            "data": [
                                {
                                    "number_of_films": "49",
                                    "rating": "G",
                                    "rental_duration": "3"
                                },
                                {
                                    "number_of_films": "28",
                                    "rating": "G",
                                    "rental_duration": "4"
                                },
                                {
                                    "number_of_films": "33",
                                    "rating": "G",
                                    "rental_duration": "5"
                                },
                                {
                                    "number_of_films": "39",
                                    "rating": "G",
                                    "rental_duration": "6"
                                },
                                {
                                    "number_of_films": "29",
                                    "rating": "G",
                                    "rental_duration": "7"
                                },
                                {
                                    "number_of_films": "36",
                                    "rating": "PG",
                                    "rental_duration": "3"
                                },
                                {
                                    "number_of_films": "41",
                                    "rating": "PG",
                                    "rental_duration": "4"
                                },
                                {
                                    "number_of_films": "33",
                                    "rating": "PG",
                                    "rental_duration": "5"
                                },
                                {
                                    "number_of_films": "39",
                                    "rating": "PG",
                                    "rental_duration": "6"
                                },
                                {
                                    "number_of_films": "45",
                                    "rating": "PG",
                                    "rental_duration": "7"
                                },
                                {
                                    "number_of_films": "39",
                                    "rating": "PG-13",
                                    "rental_duration": "3"
                                },
                                {
                                    "number_of_films": "48",
                                    "rating": "PG-13",
                                    "rental_duration": "4"
                                },
                                {
                                    "number_of_films": "42",
                                    "rating": "PG-13",
                                    "rental_duration": "5"
                                },
                                {
                                    "number_of_films": "50",
                                    "rating": "PG-13",
                                    "rental_duration": "6"
                                },
                                {
                                    "number_of_films": "44",
                                    "rating": "PG-13",
                                    "rental_duration": "7"
                                },
                                {
                                    "number_of_films": "42",
                                    "rating": "R",
                                    "rental_duration": "3"
                                },
                                {
                                    "number_of_films": "53",
                                    "rating": "R",
                                    "rental_duration": "4"
                                },
                                {
                                    "number_of_films": "40",
                                    "rating": "R",
                                    "rental_duration": "5"
                                },
                                {
                                    "number_of_films": "27",
                                    "rating": "R",
                                    "rental_duration": "6"
                                },
                                {
                                    "number_of_films": "33",
                                    "rating": "R",
                                    "rental_duration": "7"
                                },
                                {
                                    "number_of_films": "37",
                                    "rating": "NC-17",
                                    "rental_duration": "3"
                                },
                                {
                                    "number_of_films": "33",
                                    "rating": "NC-17",
                                    "rental_duration": "4"
                                },
                                {
                                    "number_of_films": "43",
                                    "rating": "NC-17",
                                    "rental_duration": "5"
                                },
                                {
                                    "number_of_films": "57",
                                    "rating": "NC-17",
                                    "rental_duration": "6"
                                },
                                {
                                    "number_of_films": "40",
                                    "rating": "NC-17",
                                    "rental_duration": "7"
                                }
                            ]
                        },
                        "text/html": [
                            "<table>",
                            "<tr><th>number_of_films</th><th>rating</th><th>rental_duration</th></tr>",
                            "<tr><td>49</td><td>G</td><td>3</td></tr>",
                            "<tr><td>28</td><td>G</td><td>4</td></tr>",
                            "<tr><td>33</td><td>G</td><td>5</td></tr>",
                            "<tr><td>39</td><td>G</td><td>6</td></tr>",
                            "<tr><td>29</td><td>G</td><td>7</td></tr>",
                            "<tr><td>36</td><td>PG</td><td>3</td></tr>",
                            "<tr><td>41</td><td>PG</td><td>4</td></tr>",
                            "<tr><td>33</td><td>PG</td><td>5</td></tr>",
                            "<tr><td>39</td><td>PG</td><td>6</td></tr>",
                            "<tr><td>45</td><td>PG</td><td>7</td></tr>",
                            "<tr><td>39</td><td>PG-13</td><td>3</td></tr>",
                            "<tr><td>48</td><td>PG-13</td><td>4</td></tr>",
                            "<tr><td>42</td><td>PG-13</td><td>5</td></tr>",
                            "<tr><td>50</td><td>PG-13</td><td>6</td></tr>",
                            "<tr><td>44</td><td>PG-13</td><td>7</td></tr>",
                            "<tr><td>42</td><td>R</td><td>3</td></tr>",
                            "<tr><td>53</td><td>R</td><td>4</td></tr>",
                            "<tr><td>40</td><td>R</td><td>5</td></tr>",
                            "<tr><td>27</td><td>R</td><td>6</td></tr>",
                            "<tr><td>33</td><td>R</td><td>7</td></tr>",
                            "<tr><td>37</td><td>NC-17</td><td>3</td></tr>",
                            "<tr><td>33</td><td>NC-17</td><td>4</td></tr>",
                            "<tr><td>43</td><td>NC-17</td><td>5</td></tr>",
                            "<tr><td>57</td><td>NC-17</td><td>6</td></tr>",
                            "<tr><td>40</td><td>NC-17</td><td>7</td></tr>",
                            "</table>"
                        ]
                    }
                }
            ],
            "execution_count": 12
        },
        {
            "cell_type": "code",
            "source": [
                "select \r\n",
                "      max(replacement_cost),\r\n",
                "      min(replacement_cost),\r\n",
                "      avg(replacement_cost),\r\n",
                "      rating\r\n",
                "from \r\n",
                "      film \r\n",
                "group by \r\n",
                "      rating;"
            ],
            "metadata": {
                "language": "sql",
                "azdata_cell_guid": "af6abe2c-585c-4c38-b3cb-f66e3655df51"
            },
            "outputs": [
                {
                    "output_type": "display_data",
                    "data": {
                        "text/html": "(5 row(s) affected)"
                    },
                    "metadata": {}
                },
                {
                    "output_type": "display_data",
                    "data": {
                        "text/html": "Total execution time: 00:00:01.052"
                    },
                    "metadata": {}
                },
                {
                    "output_type": "execute_result",
                    "metadata": {},
                    "execution_count": 15,
                    "data": {
                        "application/vnd.dataresource+json": {
                            "schema": {
                                "fields": [
                                    {
                                        "name": "max(replacement_cost)"
                                    },
                                    {
                                        "name": "min(replacement_cost)"
                                    },
                                    {
                                        "name": "avg(replacement_cost)"
                                    },
                                    {
                                        "name": "rating"
                                    }
                                ]
                            },
                            "data": [
                                {
                                    "max(replacement_cost)": "29.99",
                                    "min(replacement_cost)": "9.99",
                                    "avg(replacement_cost)": "18.959072",
                                    "rating": "PG"
                                },
                                {
                                    "max(replacement_cost)": "29.99",
                                    "min(replacement_cost)": "9.99",
                                    "avg(replacement_cost)": "20.124831",
                                    "rating": "G"
                                },
                                {
                                    "max(replacement_cost)": "29.99",
                                    "min(replacement_cost)": "9.99",
                                    "avg(replacement_cost)": "20.137619",
                                    "rating": "NC-17"
                                },
                                {
                                    "max(replacement_cost)": "29.99",
                                    "min(replacement_cost)": "9.99",
                                    "avg(replacement_cost)": "20.402556",
                                    "rating": "PG-13"
                                },
                                {
                                    "max(replacement_cost)": "29.99",
                                    "min(replacement_cost)": "9.99",
                                    "avg(replacement_cost)": "20.231026",
                                    "rating": "R"
                                }
                            ]
                        },
                        "text/html": [
                            "<table>",
                            "<tr><th>max(replacement_cost)</th><th>min(replacement_cost)</th><th>avg(replacement_cost)</th><th>rating</th></tr>",
                            "<tr><td>29.99</td><td>9.99</td><td>18.959072</td><td>PG</td></tr>",
                            "<tr><td>29.99</td><td>9.99</td><td>20.124831</td><td>G</td></tr>",
                            "<tr><td>29.99</td><td>9.99</td><td>20.137619</td><td>NC-17</td></tr>",
                            "<tr><td>29.99</td><td>9.99</td><td>20.402556</td><td>PG-13</td></tr>",
                            "<tr><td>29.99</td><td>9.99</td><td>20.231026</td><td>R</td></tr>",
                            "</table>"
                        ]
                    }
                }
            ],
            "execution_count": 15
        },
        {
            "cell_type": "code",
            "source": [
                "select \r\n",
                "      rental_duration,\r\n",
                "      avg(rental_rate),\r\n",
                "      avg(length)\r\n",
                "from\r\n",
                "    film \r\n",
                "group by \r\n",
                "     rental_duration;"
            ],
            "metadata": {
                "language": "sql",
                "azdata_cell_guid": "eac50f1d-3660-4f7c-a8fd-42dc829f2a36"
            },
            "outputs": [
                {
                    "output_type": "display_data",
                    "data": {
                        "text/html": "(5 row(s) affected)"
                    },
                    "metadata": {}
                },
                {
                    "output_type": "display_data",
                    "data": {
                        "text/html": "Total execution time: 00:00:01.015"
                    },
                    "metadata": {}
                },
                {
                    "output_type": "execute_result",
                    "metadata": {},
                    "execution_count": 18,
                    "data": {
                        "application/vnd.dataresource+json": {
                            "schema": {
                                "fields": [
                                    {
                                        "name": "rental_duration"
                                    },
                                    {
                                        "name": "avg(rental_rate)"
                                    },
                                    {
                                        "name": "avg(length)"
                                    }
                                ]
                            },
                            "data": [
                                {
                                    "rental_duration": "6",
                                    "avg(rental_rate)": "2.895660",
                                    "avg(length)": "117.0377"
                                },
                                {
                                    "rental_duration": "3",
                                    "avg(rental_rate)": "2.832365",
                                    "avg(length)": "112.9113"
                                },
                                {
                                    "rental_duration": "7",
                                    "avg(rental_rate)": "3.021414",
                                    "avg(length)": "118.8272"
                                },
                                {
                                    "rental_duration": "5",
                                    "avg(rental_rate)": "3.199424",
                                    "avg(length)": "116.5602"
                                },
                                {
                                    "rental_duration": "4",
                                    "avg(rental_rate)": "2.970296",
                                    "avg(length)": "111.2315"
                                }
                            ]
                        },
                        "text/html": [
                            "<table>",
                            "<tr><th>rental_duration</th><th>avg(rental_rate)</th><th>avg(length)</th></tr>",
                            "<tr><td>6</td><td>2.895660</td><td>117.0377</td></tr>",
                            "<tr><td>3</td><td>2.832365</td><td>112.9113</td></tr>",
                            "<tr><td>7</td><td>3.021414</td><td>118.8272</td></tr>",
                            "<tr><td>5</td><td>3.199424</td><td>116.5602</td></tr>",
                            "<tr><td>4</td><td>2.970296</td><td>111.2315</td></tr>",
                            "</table>"
                        ]
                    }
                }
            ],
            "execution_count": 18
        },
        {
            "cell_type": "code",
            "source": [
                "select \r\n",
                "    count(film_id) as number_of_films,\r\n",
                "    rating,\r\n",
                "    rental_duration\r\n",
                "from\r\n",
                "    film  \r\n",
                "group by\r\n",
                "    rating,\r\n",
                "    rental_duration\r\n",
                "having \r\n",
                "    number_of_films >30\r\n",
                "order by \r\n",
                "    rating,\r\n",
                "    rental_duration;"
            ],
            "metadata": {
                "language": "sql",
                "azdata_cell_guid": "718ab475-d8c7-401d-a3ea-9a9e3d540382"
            },
            "outputs": [
                {
                    "output_type": "display_data",
                    "data": {
                        "text/html": "(22 row(s) affected)"
                    },
                    "metadata": {}
                },
                {
                    "output_type": "display_data",
                    "data": {
                        "text/html": "Total execution time: 00:00:01.046"
                    },
                    "metadata": {}
                },
                {
                    "output_type": "execute_result",
                    "metadata": {},
                    "execution_count": 24,
                    "data": {
                        "application/vnd.dataresource+json": {
                            "schema": {
                                "fields": [
                                    {
                                        "name": "number_of_films"
                                    },
                                    {
                                        "name": "rating"
                                    },
                                    {
                                        "name": "rental_duration"
                                    }
                                ]
                            },
                            "data": [
                                {
                                    "number_of_films": "49",
                                    "rating": "G",
                                    "rental_duration": "3"
                                },
                                {
                                    "number_of_films": "33",
                                    "rating": "G",
                                    "rental_duration": "5"
                                },
                                {
                                    "number_of_films": "39",
                                    "rating": "G",
                                    "rental_duration": "6"
                                },
                                {
                                    "number_of_films": "36",
                                    "rating": "PG",
                                    "rental_duration": "3"
                                },
                                {
                                    "number_of_films": "41",
                                    "rating": "PG",
                                    "rental_duration": "4"
                                },
                                {
                                    "number_of_films": "33",
                                    "rating": "PG",
                                    "rental_duration": "5"
                                },
                                {
                                    "number_of_films": "39",
                                    "rating": "PG",
                                    "rental_duration": "6"
                                },
                                {
                                    "number_of_films": "45",
                                    "rating": "PG",
                                    "rental_duration": "7"
                                },
                                {
                                    "number_of_films": "39",
                                    "rating": "PG-13",
                                    "rental_duration": "3"
                                },
                                {
                                    "number_of_films": "48",
                                    "rating": "PG-13",
                                    "rental_duration": "4"
                                },
                                {
                                    "number_of_films": "42",
                                    "rating": "PG-13",
                                    "rental_duration": "5"
                                },
                                {
                                    "number_of_films": "50",
                                    "rating": "PG-13",
                                    "rental_duration": "6"
                                },
                                {
                                    "number_of_films": "44",
                                    "rating": "PG-13",
                                    "rental_duration": "7"
                                },
                                {
                                    "number_of_films": "42",
                                    "rating": "R",
                                    "rental_duration": "3"
                                },
                                {
                                    "number_of_films": "53",
                                    "rating": "R",
                                    "rental_duration": "4"
                                },
                                {
                                    "number_of_films": "40",
                                    "rating": "R",
                                    "rental_duration": "5"
                                },
                                {
                                    "number_of_films": "33",
                                    "rating": "R",
                                    "rental_duration": "7"
                                },
                                {
                                    "number_of_films": "37",
                                    "rating": "NC-17",
                                    "rental_duration": "3"
                                },
                                {
                                    "number_of_films": "33",
                                    "rating": "NC-17",
                                    "rental_duration": "4"
                                },
                                {
                                    "number_of_films": "43",
                                    "rating": "NC-17",
                                    "rental_duration": "5"
                                },
                                {
                                    "number_of_films": "57",
                                    "rating": "NC-17",
                                    "rental_duration": "6"
                                },
                                {
                                    "number_of_films": "40",
                                    "rating": "NC-17",
                                    "rental_duration": "7"
                                }
                            ]
                        },
                        "text/html": [
                            "<table>",
                            "<tr><th>number_of_films</th><th>rating</th><th>rental_duration</th></tr>",
                            "<tr><td>49</td><td>G</td><td>3</td></tr>",
                            "<tr><td>33</td><td>G</td><td>5</td></tr>",
                            "<tr><td>39</td><td>G</td><td>6</td></tr>",
                            "<tr><td>36</td><td>PG</td><td>3</td></tr>",
                            "<tr><td>41</td><td>PG</td><td>4</td></tr>",
                            "<tr><td>33</td><td>PG</td><td>5</td></tr>",
                            "<tr><td>39</td><td>PG</td><td>6</td></tr>",
                            "<tr><td>45</td><td>PG</td><td>7</td></tr>",
                            "<tr><td>39</td><td>PG-13</td><td>3</td></tr>",
                            "<tr><td>48</td><td>PG-13</td><td>4</td></tr>",
                            "<tr><td>42</td><td>PG-13</td><td>5</td></tr>",
                            "<tr><td>50</td><td>PG-13</td><td>6</td></tr>",
                            "<tr><td>44</td><td>PG-13</td><td>7</td></tr>",
                            "<tr><td>42</td><td>R</td><td>3</td></tr>",
                            "<tr><td>53</td><td>R</td><td>4</td></tr>",
                            "<tr><td>40</td><td>R</td><td>5</td></tr>",
                            "<tr><td>33</td><td>R</td><td>7</td></tr>",
                            "<tr><td>37</td><td>NC-17</td><td>3</td></tr>",
                            "<tr><td>33</td><td>NC-17</td><td>4</td></tr>",
                            "<tr><td>43</td><td>NC-17</td><td>5</td></tr>",
                            "<tr><td>57</td><td>NC-17</td><td>6</td></tr>",
                            "<tr><td>40</td><td>NC-17</td><td>7</td></tr>",
                            "</table>"
                        ]
                    }
                }
            ],
            "execution_count": 24
        },
        {
            "cell_type": "markdown",
            "source": [
                "create new database company \n",
                "1   create table products with columns-\n",
                "     a  id\n",
                "     b  title of pro\n",
                "     c   price\n",
                "     d  disc brand category quantity\n",
                "2  insert 25 records into the table"
            ],
            "metadata": {
                "azdata_cell_guid": "bd45f49d-cab1-4b9f-8db8-2c279f435df5"
            }
        }
    ]
}