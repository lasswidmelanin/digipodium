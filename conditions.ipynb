{
 "cells": [
  {
   "cell_type": "code",
   "execution_count": null,
   "metadata": {},
   "outputs": [],
   "source": [
    "## true values\n",
    "- True \n",
    "- any non zero number\n",
    "- any non empty string\n",
    "- any non empty data Structure "
   ]
  },
  {
   "cell_type": "code",
   "execution_count": null,
   "metadata": {},
   "outputs": [],
   "source": [
    "## false values\n",
    "- False\n",
    "- 0\n",
    "- empty string\n",
    "- empty data structure"
   ]
  },
  {
   "cell_type": "code",
   "execution_count": 1,
   "metadata": {},
   "outputs": [
    {
     "data": {
      "text/plain": [
       "True"
      ]
     },
     "execution_count": 1,
     "metadata": {},
     "output_type": "execute_result"
    }
   ],
   "source": [
    "bool(23)"
   ]
  },
  {
   "cell_type": "code",
   "execution_count": 2,
   "metadata": {},
   "outputs": [
    {
     "data": {
      "text/plain": [
       "False"
      ]
     },
     "execution_count": 2,
     "metadata": {},
     "output_type": "execute_result"
    }
   ],
   "source": [
    "bool(0)"
   ]
  },
  {
   "cell_type": "code",
   "execution_count": 3,
   "metadata": {},
   "outputs": [
    {
     "data": {
      "text/plain": [
       "True"
      ]
     },
     "execution_count": 3,
     "metadata": {},
     "output_type": "execute_result"
    }
   ],
   "source": [
    "bool(-34)"
   ]
  },
  {
   "cell_type": "code",
   "execution_count": 4,
   "metadata": {},
   "outputs": [
    {
     "data": {
      "text/plain": [
       "False"
      ]
     },
     "execution_count": 4,
     "metadata": {},
     "output_type": "execute_result"
    }
   ],
   "source": [
    "bool('')"
   ]
  },
  {
   "cell_type": "code",
   "execution_count": 5,
   "metadata": {},
   "outputs": [
    {
     "data": {
      "text/plain": [
       "True"
      ]
     },
     "execution_count": 5,
     "metadata": {},
     "output_type": "execute_result"
    }
   ],
   "source": [
    "bool(\"hello\")"
   ]
  },
  {
   "cell_type": "code",
   "execution_count": null,
   "metadata": {},
   "outputs": [],
   "source": [
    "#### a python block of code\n",
    " keyword expression:\n",
    "   statement 1\n",
    "   statement 2\n",
    "   statement n\n",
    "\n",
    "4 spaces or 1 tab= 1 indentation "
   ]
  },
  {
   "cell_type": "code",
   "execution_count": 7,
   "metadata": {},
   "outputs": [
    {
     "name": "stdout",
     "output_type": "stream",
     "text": [
      "x is greater than 25\n"
     ]
    }
   ],
   "source": [
    "x=30\n",
    "if x>25:\n",
    "    print(\"x is greater than 25\")"
   ]
  },
  {
   "cell_type": "code",
   "execution_count": 12,
   "metadata": {},
   "outputs": [
    {
     "name": "stdout",
     "output_type": "stream",
     "text": [
      "X is smaller than or equal to 10\n"
     ]
    }
   ],
   "source": [
    "x=int(input(\"enter a number\"))\n",
    "if x>10:\n",
    "    print(\"X is greater than 10\")\n",
    "if x>50:\n",
    "    print(\"X is greater than 50\")\n",
    "if x>100 :\n",
    "    print(\"X is greater than 100\")\n",
    "if x<=10:\n",
    "    print(\"X is smaller than or equal to 10\")"
   ]
  },
  {
   "cell_type": "code",
   "execution_count": 21,
   "metadata": {},
   "outputs": [
    {
     "name": "stdout",
     "output_type": "stream",
     "text": [
      "3 is an odd number\n"
     ]
    }
   ],
   "source": [
    "n=int(input(\"Enter a number\"))\n",
    "if n%2==0:\n",
    "    print(f'{n} is an even number')\n",
    "if n%2!=0:\n",
    "    print(f'{n} is an odd number')"
   ]
  },
  {
   "cell_type": "code",
   "execution_count": 22,
   "metadata": {},
   "outputs": [
    {
     "name": "stdout",
     "output_type": "stream",
     "text": [
      "c is the greatest\n"
     ]
    }
   ],
   "source": [
    "a,b,c=10,20,30\n",
    "if a>b and a>c :\n",
    "    print(\"a is greatest\")\n",
    "elif b>a and b>c:\n",
    "    print(\"b is the greatest\")\n",
    "else:\n",
    "    print(\"c is the greatest\")"
   ]
  },
  {
   "cell_type": "code",
   "execution_count": 28,
   "metadata": {},
   "outputs": [
    {
     "name": "stdout",
     "output_type": "stream",
     "text": [
      "username cannot be less than 3 character\n",
      "password cannot be less than 8 character\n",
      "username and password are valid\n"
     ]
    }
   ],
   "source": [
    "usrn= input(\"enyter your username\")\n",
    "pwd= input(\"enter your password\")\n",
    "if len(usrn)<3:\n",
    "    print(\"username cannot be less than 3 character\")\n",
    "if len(pwd)<8:\n",
    "    print(\"password cannot be less than 8 character\")\n",
    "if not usrn.isalpha():\n",
    "    print(\"username should contain only alphabets\")\n",
    "else:\n",
    "    print(\"username and password are valid\")"
   ]
  },
  {
   "cell_type": "code",
   "execution_count": 29,
   "metadata": {},
   "outputs": [
    {
     "name": "stdout",
     "output_type": "stream",
     "text": [
      "username and password are valid\n"
     ]
    }
   ],
   "source": [
    "usrn= input(\"enyter your username\")\n",
    "pwd= input(\"enter your password\")\n",
    "if len(usrn)<3:\n",
    "    print(\"username cannot be less than 3 character\")\n",
    "if len(pwd)<8:\n",
    "    print(\"password cannot be less than 8 character\")\n",
    "if not usrn.isalpha():\n",
    "    print(\"username should contain only alphabets\")\n",
    "if len(usrn)>=3 and len(pwd) and usrn.isalpha():\n",
    "    print(\"username and password are valid\")"
   ]
  },
  {
   "cell_type": "code",
   "execution_count": null,
   "metadata": {},
   "outputs": [],
   "source": [
    "### match case (python 3.10)\n",
    "it is used for checking **multiple conditions** for a single variable \n",
    "\n",
    "''' shell \n",
    "\n",
    "match variable:\n",
    "      stmt 1\n",
    "      stmt 2\n",
    "      stmt n\n"
   ]
  },
  {
   "cell_type": "code",
   "execution_count": 35,
   "metadata": {},
   "outputs": [
    {
     "name": "stdout",
     "output_type": "stream",
     "text": [
      "Today is tuesday\n"
     ]
    }
   ],
   "source": [
    "day= input(\"Enter a day\")\n",
    "match day:\n",
    "    case 'Sunday':\n",
    "        print('Today is sunday')\n",
    "    case 'Monday':\n",
    "        print('Today is monday')\n",
    "    case 'Tuesday':\n",
    "        print(\"Today is tuesday\")\n",
    "    case 'Thursday'|'Holiday':\n",
    "        print(\"Today is Holiday\")\n",
    "    case _ : ## use underscore for default cases\n",
    "        print(\"Invalid day\")"
   ]
  },
  {
   "cell_type": "code",
   "execution_count": null,
   "metadata": {},
   "outputs": [],
   "source": []
  }
 ],
 "metadata": {
  "kernelspec": {
   "display_name": "base",
   "language": "python",
   "name": "python3"
  },
  "language_info": {
   "codemirror_mode": {
    "name": "ipython",
    "version": 3
   },
   "file_extension": ".py",
   "mimetype": "text/x-python",
   "name": "python",
   "nbconvert_exporter": "python",
   "pygments_lexer": "ipython3",
   "version": "3.10.10"
  },
  "orig_nbformat": 4
 },
 "nbformat": 4,
 "nbformat_minor": 2
}
