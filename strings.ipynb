{
 "cells": [
  {
   "cell_type": "code",
   "execution_count": null,
   "metadata": {},
   "outputs": [],
   "source": []
  },
  {
   "cell_type": "code",
   "execution_count": 1,
   "metadata": {},
   "outputs": [],
   "source": [
    "a='apple'\n",
    "name=\"Alcazar\"\n",
    "address= '''20/12, somewhere\n",
    "nowhere to be found,\n",
    "India\n",
    "'''\n",
    "add=r'C:\\Users\\Naincy\\OneDrive\\Desktop\\python' # r means raw string"
   ]
  },
  {
   "cell_type": "code",
   "execution_count": null,
   "metadata": {},
   "outputs": [],
   "source": [
    "a[0]= 'b' # will not assign as string is immutable"
   ]
  },
  {
   "cell_type": "code",
   "execution_count": 2,
   "metadata": {},
   "outputs": [
    {
     "name": "stdout",
     "output_type": "stream",
     "text": [
      "0 a\n",
      "1 p\n",
      "2 p\n",
      "3 l\n",
      "4 e\n"
     ]
    }
   ],
   "source": [
    "#indexing\n",
    "for i,c in enumerate(a):\n",
    "    print(i,c)"
   ]
  },
  {
   "cell_type": "code",
   "execution_count": 4,
   "metadata": {},
   "outputs": [
    {
     "name": "stdout",
     "output_type": "stream",
     "text": [
      "e p\n"
     ]
    }
   ],
   "source": [
    "print(a[-1],a[-3])"
   ]
  },
  {
   "cell_type": "code",
   "execution_count": 5,
   "metadata": {},
   "outputs": [
    {
     "name": "stdout",
     "output_type": "stream",
     "text": [
      "e l p p a\n"
     ]
    }
   ],
   "source": [
    "print(a[-1],a[-2],a[-3],a[-4],a[-5])"
   ]
  },
  {
   "cell_type": "code",
   "execution_count": 6,
   "metadata": {},
   "outputs": [
    {
     "name": "stdout",
     "output_type": "stream",
     "text": [
      "William Shakespeare\n"
     ]
    }
   ],
   "source": [
    "name= 'William Shakespeare'\n",
    "print(name)"
   ]
  },
  {
   "cell_type": "code",
   "execution_count": 11,
   "metadata": {},
   "outputs": [
    {
     "name": "stdout",
     "output_type": "stream",
     "text": [
      "Shake\n",
      "pear\n",
      "peare\n",
      "Will\n"
     ]
    }
   ],
   "source": [
    "#Slicing\n",
    "print(name[8:13])\n",
    "print(name[-5:-1])\n",
    "print(name[-5:])\n",
    "print(name[:4])"
   ]
  },
  {
   "cell_type": "code",
   "execution_count": 13,
   "metadata": {},
   "outputs": [
    {
     "name": "stdout",
     "output_type": "stream",
     "text": [
      "William\n",
      "Shakespeare\n"
     ]
    }
   ],
   "source": [
    "fname=name[:7]\n",
    "lname=name[8:]\n",
    "print(fname)\n",
    "print(lname)"
   ]
  },
  {
   "attachments": {},
   "cell_type": "markdown",
   "metadata": {},
   "source": [
    "SYNTAX\n",
    "var[start: stop : steps]"
   ]
  },
  {
   "cell_type": "code",
   "execution_count": 2,
   "metadata": {},
   "outputs": [
    {
     "data": {
      "text/plain": [
       "'WlimSaepae'"
      ]
     },
     "execution_count": 2,
     "metadata": {},
     "output_type": "execute_result"
    }
   ],
   "source": [
    "name=\"William Shakespeare\"\n",
    "name[::2]"
   ]
  },
  {
   "cell_type": "code",
   "execution_count": 17,
   "metadata": {},
   "outputs": [
    {
     "data": {
      "text/plain": [
       "'eraepsekahS mailliW'"
      ]
     },
     "execution_count": 17,
     "metadata": {},
     "output_type": "execute_result"
    }
   ],
   "source": [
    "name[::-1]"
   ]
  },
  {
   "cell_type": "code",
   "execution_count": 19,
   "metadata": {},
   "outputs": [],
   "source": [
    "msg=\"You should study and play👍\""
   ]
  },
  {
   "cell_type": "code",
   "execution_count": 20,
   "metadata": {},
   "outputs": [
    {
     "name": "stdout",
     "output_type": "stream",
     "text": [
      "YOU SHOULD STUDY AND PLAY👍\n",
      "you should study and play👍\n",
      "You Should Study And Play👍\n",
      "You should study and play👍\n",
      "yOU SHOULD STUDY AND PLAY👍\n"
     ]
    }
   ],
   "source": [
    "print(msg.upper())\n",
    "print(msg.lower())\n",
    "print(msg.title())\n",
    "print(msg.capitalize())\n",
    "print(msg.swapcase())"
   ]
  },
  {
   "cell_type": "code",
   "execution_count": 24,
   "metadata": {},
   "outputs": [
    {
     "name": "stdout",
     "output_type": "stream",
     "text": [
      "False\n",
      "False\n",
      "True\n",
      "True\n",
      "True\n",
      "True\n",
      "False\n"
     ]
    }
   ],
   "source": [
    "# validation function\n",
    "print(msg.isupper())\n",
    "print(msg.islower())\n",
    "print('hello'.isalpha())\n",
    "print('123'.isnumeric())\n",
    "print('123a'.isalnum())\n",
    "print('Mr.Raja'.startswith('Mr'))\n",
    "print('Raja'.startswith('Mr'))"
   ]
  },
  {
   "cell_type": "code",
   "execution_count": 27,
   "metadata": {},
   "outputs": [
    {
     "name": "stdout",
     "output_type": "stream",
     "text": [
      "You have given a python file\n",
      "i=1\n",
      "while i<=4:\n",
      "     j=1\n",
      "     while j<=4:\n",
      "      print(\"# \",end=\"\")\n",
      "      print()\n",
      "      j=\n",
      "      i=i+1 \n",
      "      print()\n",
      "     \n",
      "\n"
     ]
    }
   ],
   "source": [
    "file=input(\"Enter a file path\")\n",
    "if file.endswith('.py'):\n",
    "    print(\"You have given a python file\")\n",
    "    content=open(file).read()\n",
    "    print(content)\n",
    "else:\n",
    "    print(\"You have given me something else\")\n",
    "    print(\"shame on you🫤\")"
   ]
  },
  {
   "attachments": {},
   "cell_type": "markdown",
   "metadata": {},
   "source": [
    "Utility\n",
    "   -find()\n",
    "   -replace()\n",
    "   -split()\n",
    "   -"
   ]
  },
  {
   "cell_type": "code",
   "execution_count": 28,
   "metadata": {},
   "outputs": [
    {
     "data": {
      "text/plain": [
       "8"
      ]
     },
     "execution_count": 28,
     "metadata": {},
     "output_type": "execute_result"
    }
   ],
   "source": [
    "quote= 'Journey Before Destination'\n",
    "quote.find('Before')\n"
   ]
  },
  {
   "cell_type": "code",
   "execution_count": 29,
   "metadata": {},
   "outputs": [
    {
     "data": {
      "text/plain": [
       "1"
      ]
     },
     "execution_count": 29,
     "metadata": {},
     "output_type": "execute_result"
    }
   ],
   "source": [
    "quote.find('our')"
   ]
  },
  {
   "cell_type": "code",
   "execution_count": 30,
   "metadata": {},
   "outputs": [
    {
     "data": {
      "text/plain": [
       "-1"
      ]
     },
     "execution_count": 30,
     "metadata": {},
     "output_type": "execute_result"
    }
   ],
   "source": [
    "quote.find('x',10)"
   ]
  },
  {
   "cell_type": "code",
   "execution_count": 32,
   "metadata": {},
   "outputs": [
    {
     "data": {
      "text/plain": [
       "13"
      ]
     },
     "execution_count": 32,
     "metadata": {},
     "output_type": "execute_result"
    }
   ],
   "source": [
    "quote.find('e',10)"
   ]
  },
  {
   "cell_type": "code",
   "execution_count": 34,
   "metadata": {},
   "outputs": [
    {
     "data": {
      "text/plain": [
       "'Journay Bafora Dastination'"
      ]
     },
     "execution_count": 34,
     "metadata": {},
     "output_type": "execute_result"
    }
   ],
   "source": [
    "#replace()\n",
    "quote.replace('e','a')"
   ]
  },
  {
   "cell_type": "code",
   "execution_count": 35,
   "metadata": {},
   "outputs": [
    {
     "data": {
      "text/plain": [
       "'Travelling to Destination'"
      ]
     },
     "execution_count": 35,
     "metadata": {},
     "output_type": "execute_result"
    }
   ],
   "source": [
    "quote.replace('Journey','Travelling').replace('Before','to')"
   ]
  },
  {
   "cell_type": "code",
   "execution_count": 37,
   "metadata": {},
   "outputs": [
    {
     "data": {
      "text/plain": [
       "'299999'"
      ]
     },
     "execution_count": 37,
     "metadata": {},
     "output_type": "execute_result"
    }
   ],
   "source": [
    "amt='$299,999 dollars'\n",
    "amt.replace('$','').replace(',','').replace('dollars','').replace(' ','')"
   ]
  },
  {
   "cell_type": "code",
   "execution_count": 38,
   "metadata": {},
   "outputs": [
    {
     "name": "stdout",
     "output_type": "stream",
     "text": [
      "299999\n"
     ]
    }
   ],
   "source": [
    "chars=['$',',','dollars',\" \"]\n",
    "for crap in chars:\n",
    "    amt=amt.replace(crap,'')\n",
    "print(amt)"
   ]
  },
  {
   "cell_type": "code",
   "execution_count": 39,
   "metadata": {},
   "outputs": [
    {
     "name": "stdout",
     "output_type": "stream",
     "text": [
      "['You', 'should', 'study', 'and', 'play👍']\n"
     ]
    }
   ],
   "source": [
    "# split()\n",
    "print(msg.split()) #spaces are used as delimiter"
   ]
  },
  {
   "cell_type": "code",
   "execution_count": 42,
   "metadata": {},
   "outputs": [
    {
     "name": "stdout",
     "output_type": "stream",
     "text": [
      "['we are here', ' we are there', ' we are everywhere']\n"
     ]
    }
   ],
   "source": [
    "msg2='we are here, we are there, we are everywhere'\n",
    "print(msg2.split(\",\"))"
   ]
  },
  {
   "cell_type": "code",
   "execution_count": 46,
   "metadata": {},
   "outputs": [
    {
     "data": {
      "text/plain": [
       "['Johnny',\n",
       " 'Johnny,',\n",
       " 'yes',\n",
       " 'papa',\n",
       " 'eating',\n",
       " 'sugar,',\n",
       " 'no',\n",
       " 'papa',\n",
       " 'telling',\n",
       " 'a',\n",
       " 'lie,',\n",
       " 'no',\n",
       " 'papa',\n",
       " 'open',\n",
       " 'your',\n",
       " 'mouth,',\n",
       " 'hahaha']"
      ]
     },
     "execution_count": 46,
     "metadata": {},
     "output_type": "execute_result"
    }
   ],
   "source": [
    "poem= '''Johnny Johnny, yes papa\n",
    "eating sugar, no papa\n",
    "telling a lie, no papa\n",
    "open your mouth, hahaha\n",
    "'''\n",
    "poem.split()"
   ]
  },
  {
   "cell_type": "code",
   "execution_count": 45,
   "metadata": {},
   "outputs": [
    {
     "data": {
      "text/plain": [
       "['Johnny Johnny, yes papa',\n",
       " 'eating sugar, no papa',\n",
       " 'telling a lie, no papa',\n",
       " 'open your mouth, hahaha']"
      ]
     },
     "execution_count": 45,
     "metadata": {},
     "output_type": "execute_result"
    }
   ],
   "source": [
    "poem.splitlines()"
   ]
  },
  {
   "cell_type": "markdown",
   "metadata": {},
   "source": [
    "Join\n"
   ]
  },
  {
   "cell_type": "code",
   "execution_count": 2,
   "metadata": {},
   "outputs": [
    {
     "name": "stdout",
     "output_type": "stream",
     "text": [
      "['Hi', 'There', 'How', 'are', 'you']\n"
     ]
    }
   ],
   "source": [
    "x=['Hi','There','How','are','you']\n",
    "print(x)"
   ]
  },
  {
   "cell_type": "code",
   "execution_count": 5,
   "metadata": {},
   "outputs": [
    {
     "data": {
      "text/plain": [
       "'Hi There How are you'"
      ]
     },
     "execution_count": 5,
     "metadata": {},
     "output_type": "execute_result"
    }
   ],
   "source": [
    "' '.join(x)"
   ]
  },
  {
   "cell_type": "code",
   "execution_count": 6,
   "metadata": {},
   "outputs": [
    {
     "name": "stdout",
     "output_type": "stream",
     "text": [
      "Hi There How are you\n"
     ]
    }
   ],
   "source": [
    "msg=' '.join(x)\n",
    "print(msg)"
   ]
  },
  {
   "cell_type": "code",
   "execution_count": 7,
   "metadata": {},
   "outputs": [
    {
     "name": "stdout",
     "output_type": "stream",
     "text": [
      "Hi😒There😒How😒are😒you\n"
     ]
    }
   ],
   "source": [
    "print(\"😒\".join(x))"
   ]
  },
  {
   "cell_type": "markdown",
   "metadata": {},
   "source": [
    "# Count"
   ]
  },
  {
   "cell_type": "code",
   "execution_count": 14,
   "metadata": {},
   "outputs": [
    {
     "data": {
      "text/plain": [
       "12"
      ]
     },
     "execution_count": 14,
     "metadata": {},
     "output_type": "execute_result"
    }
   ],
   "source": [
    "poem= '''Johnny johnny, yes papa\n",
    "eating sugar, no papa\n",
    "telling a lie, no papa\n",
    "open your mouth, hahaha\n",
    "'''\n",
    "poem.count(\"a\")"
   ]
  },
  {
   "cell_type": "code",
   "execution_count": 15,
   "metadata": {},
   "outputs": [
    {
     "name": "stdout",
     "output_type": "stream",
     "text": [
      "1\n",
      "1\n"
     ]
    }
   ],
   "source": [
    "print(poem.count(\"Johnny\"))\n",
    "print(poem.count(\"John\")) #counts sequence"
   ]
  },
  {
   "cell_type": "code",
   "execution_count": 16,
   "metadata": {},
   "outputs": [
    {
     "name": "stdout",
     "output_type": "stream",
     "text": [
      "Johnny johnny, yes papa\n",
      "eating sugar, no papa\n",
      "telling a lie, no papa\n",
      "open your mouth, hahaha\n",
      "\n",
      "johnny johnny, yes papa\n",
      "eating sugar, no papa\n",
      "telling a lie, no papa\n",
      "open your mouth, hahaha\n",
      "\n"
     ]
    }
   ],
   "source": [
    "\n",
    "poem= '''Johnny johnny, yes papa\n",
    "eating sugar, no papa\n",
    "telling a lie, no papa\n",
    "open your mouth, hahaha\n",
    "'''\n",
    "print(poem)\n",
    "print(poem.casefold())"
   ]
  },
  {
   "cell_type": "code",
   "execution_count": 18,
   "metadata": {},
   "outputs": [
    {
     "name": "stdout",
     "output_type": "stream",
     "text": [
      "johnny johnny, yes papa\n",
      "eating sugar, no papa\n",
      "telling a lie, no papa\n",
      "open your mouth, hahaha\n",
      " 1\n"
     ]
    }
   ],
   "source": [
    "print(poem.lower(),poem.count(\"john\"))"
   ]
  },
  {
   "cell_type": "markdown",
   "metadata": {},
   "source": [
    "sptrip"
   ]
  },
  {
   "cell_type": "code",
   "execution_count": 20,
   "metadata": {},
   "outputs": [
    {
     "name": "stdout",
     "output_type": "stream",
     "text": [
      "valid username\n"
     ]
    }
   ],
   "source": [
    "username= input(\"Enter username\")\n",
    "if username.strip() == \"naincy\":\n",
    "    print(\"valid username\")"
   ]
  },
  {
   "cell_type": "code",
   "execution_count": 21,
   "metadata": {},
   "outputs": [
    {
     "data": {
      "text/plain": [
       "'this\\nis an \\nexample'"
      ]
     },
     "execution_count": 21,
     "metadata": {},
     "output_type": "execute_result"
    }
   ],
   "source": [
    "nn='''this\n",
    "is an \n",
    "example'''\n",
    "nn"
   ]
  },
  {
   "cell_type": "code",
   "execution_count": 22,
   "metadata": {},
   "outputs": [
    {
     "name": "stdout",
     "output_type": "stream",
     "text": [
      "this\n",
      "is an \n",
      "example\n"
     ]
    }
   ],
   "source": [
    "print(nn.strip())"
   ]
  }
 ],
 "metadata": {
  "kernelspec": {
   "display_name": "base",
   "language": "python",
   "name": "python3"
  },
  "language_info": {
   "codemirror_mode": {
    "name": "ipython",
    "version": 3
   },
   "file_extension": ".py",
   "mimetype": "text/x-python",
   "name": "python",
   "nbconvert_exporter": "python",
   "pygments_lexer": "ipython3",
   "version": "3.10.10"
  },
  "orig_nbformat": 4
 },
 "nbformat": 4,
 "nbformat_minor": 2
}
