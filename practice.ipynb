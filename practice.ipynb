{
 "cells": [
  {
   "cell_type": "code",
   "execution_count": 1,
   "metadata": {},
   "outputs": [
    {
     "name": "stdout",
     "output_type": "stream",
     "text": [
      "1\n",
      "2\n",
      "3\n",
      "4\n",
      "5\n",
      "6\n",
      "7\n",
      "8\n",
      "9\n",
      "10\n"
     ]
    }
   ],
   "source": [
    "# wap to print numbers from 1 to 10 using a for loop\n",
    "for i in range(1,11):\n",
    "    print(i)"
   ]
  },
  {
   "cell_type": "code",
   "execution_count": 7,
   "metadata": {},
   "outputs": [
    {
     "name": "stdout",
     "output_type": "stream",
     "text": [
      "6*1=6\n",
      "6*2=12\n",
      "6*3=18\n",
      "6*4=24\n",
      "6*5=30\n",
      "6*6=36\n",
      "6*7=42\n",
      "6*8=48\n",
      "6*9=54\n",
      "6*10=60\n"
     ]
    }
   ],
   "source": [
    "# wap to primt a multiplication table of a given number using while loop\n",
    "n=int(input(\"Enter a number\"))\n",
    "r=1\n",
    "while r<=10:\n",
    "    print(f'{n}*{r}={n*r}')\n",
    "    r+=1\n"
   ]
  },
  {
   "cell_type": "code",
   "execution_count": 26,
   "metadata": {},
   "outputs": [
    {
     "name": "stdout",
     "output_type": "stream",
     "text": [
      "0\n",
      "2\n",
      "6\n",
      "12\n",
      "20\n",
      "30\n",
      "42\n",
      "56\n",
      "72\n",
      "90\n",
      "110\n",
      "132\n",
      "156\n",
      "182\n",
      "210\n",
      "240\n",
      "272\n",
      "306\n",
      "342\n",
      "380\n",
      "420\n",
      "462\n",
      "506\n",
      "552\n",
      "600\n",
      "650\n",
      "702\n",
      "756\n",
      "812\n",
      "870\n",
      "930\n",
      "992\n",
      "1056\n",
      "1122\n",
      "1190\n",
      "1260\n",
      "1332\n",
      "1406\n",
      "1482\n",
      "1560\n",
      "1640\n",
      "1722\n",
      "1806\n",
      "1892\n",
      "1980\n",
      "2070\n",
      "2162\n",
      "2256\n",
      "2352\n",
      "2450\n",
      "2550\n"
     ]
    }
   ],
   "source": [
    "# wap to print sum of all even numbers between 1 to 100 using a for loop\n",
    "s=0\n",
    "even=101\n",
    "for i in range(even):\n",
    "    if i%2==0:\n",
    "        s=s+i\n",
    "        print(s)"
   ]
  },
  {
   "cell_type": "code",
   "execution_count": 46,
   "metadata": {},
   "outputs": [
    {
     "name": "stdout",
     "output_type": "stream",
     "text": [
      "13 is a prime number\n"
     ]
    }
   ],
   "source": [
    "# check if a given number is a prime or not using a while loop \n",
    "n=int(input(\"Enter a number\"))\n",
    "i=1\n",
    "while i<=n:\n",
    "    if n%i==0:\n",
    "        print(f'{n} is a prime number')\n",
    "        i+=1\n",
    "        break\n",
    "else:\n",
    "    print(f'{n} is not a prime number')"
   ]
  },
  {
   "cell_type": "code",
   "execution_count": 55,
   "metadata": {},
   "outputs": [
    {
     "name": "stdout",
     "output_type": "stream",
     "text": [
      "1\n",
      "2\n",
      "6\n",
      "24\n",
      "120\n",
      "720\n"
     ]
    }
   ],
   "source": [
    "#factorial of a number using a for loop\n",
    "n=int(input(\"Enter a number\"))\n",
    "f=1\n",
    "for i in range(1,n+1):\n",
    "    f=f*i\n",
    "    print(f)"
   ]
  },
  {
   "cell_type": "code",
   "execution_count": 56,
   "metadata": {},
   "outputs": [
    {
     "name": "stdout",
     "output_type": "stream",
     "text": [
      "0 0\n",
      "1 1\n",
      "2 3\n",
      "3 6\n",
      "4 10\n",
      "5 15\n",
      "6 21\n",
      "7 28\n",
      "8 36\n",
      "9 45\n",
      "10 55\n"
     ]
    }
   ],
   "source": [
    "# fibbonacci series using while loop \n",
    "\n"
   ]
  },
  {
   "cell_type": "code",
   "execution_count": 1,
   "metadata": {},
   "outputs": [
    {
     "name": "stdout",
     "output_type": "stream",
     "text": [
      "hello\n",
      "good morning\n"
     ]
    }
   ],
   "source": [
    "# functions\n",
    "def greet():\n",
    "    print(\"hello\")\n",
    "    print(\"good morning\")\n",
    "greet()"
   ]
  },
  {
   "cell_type": "code",
   "execution_count": 3,
   "metadata": {},
   "outputs": [
    {
     "name": "stdout",
     "output_type": "stream",
     "text": [
      "9\n",
      "hello\n",
      "good morning\n"
     ]
    }
   ],
   "source": [
    "def add(x,y):\n",
    "    c=x+y\n",
    "    print(c)\n",
    "add(5,4)\n",
    "greet()\n"
   ]
  },
  {
   "cell_type": "code",
   "execution_count": 7,
   "metadata": {},
   "outputs": [
    {
     "name": "stdout",
     "output_type": "stream",
     "text": [
      "9\n"
     ]
    }
   ],
   "source": [
    "def add(x,y):\n",
    "    c=x+y\n",
    "    return c\n",
    "result= add(4,5)\n",
    "print(result)\n"
   ]
  },
  {
   "cell_type": "code",
   "execution_count": 9,
   "metadata": {},
   "outputs": [
    {
     "name": "stdout",
     "output_type": "stream",
     "text": [
      "9 1\n"
     ]
    }
   ],
   "source": [
    "def add_sub(x,y):\n",
    "    c=x+y\n",
    "    d=x-y\n",
    "    return c,d\n",
    "result1,result2=add_sub(5,4)\n",
    "print(result1,result2)"
   ]
  },
  {
   "cell_type": "code",
   "execution_count": 14,
   "metadata": {},
   "outputs": [
    {
     "name": "stdout",
     "output_type": "stream",
     "text": [
      "Naincy\n",
      "23\n"
     ]
    }
   ],
   "source": [
    "#position arguments\n",
    "def person(name,age):\n",
    "    print(name)\n",
    "    print(age)\n",
    "\n",
    "person(age=23,name=\"Naincy\")\n"
   ]
  },
  {
   "cell_type": "code",
   "execution_count": 17,
   "metadata": {},
   "outputs": [
    {
     "name": "stdout",
     "output_type": "stream",
     "text": [
      "Naincy\n",
      "23\n"
     ]
    }
   ],
   "source": [
    "#default arguments\n",
    "def person(name,age=18):\n",
    "    print(name)\n",
    "    print(age)\n",
    "person('Naincy',23)   #if value of age is passed it will overwrite default vlaue"
   ]
  },
  {
   "cell_type": "code",
   "execution_count": 19,
   "metadata": {},
   "outputs": [
    {
     "ename": "TypeError",
     "evalue": "unsupported operand type(s) for +: 'int' and 'tuple'",
     "output_type": "error",
     "traceback": [
      "\u001b[1;31m---------------------------------------------------------------------------\u001b[0m",
      "\u001b[1;31mTypeError\u001b[0m                                 Traceback (most recent call last)",
      "Cell \u001b[1;32mIn[19], line 7\u001b[0m\n\u001b[0;32m      3\u001b[0m     c\u001b[39m=\u001b[39ma\u001b[39m+\u001b[39mb       \u001b[39m#addition of int and tupke is not possible \u001b[39;00m\n\u001b[0;32m      4\u001b[0m     \u001b[39mprint\u001b[39m(c)\n\u001b[1;32m----> 7\u001b[0m \u001b[39msum\u001b[39;49m(\u001b[39m5\u001b[39;49m,\u001b[39m6\u001b[39;49m,\u001b[39m34\u001b[39;49m,\u001b[39m78\u001b[39;49m)\n",
      "Cell \u001b[1;32mIn[19], line 3\u001b[0m, in \u001b[0;36msum\u001b[1;34m(a, *b)\u001b[0m\n\u001b[0;32m      2\u001b[0m \u001b[39mdef\u001b[39;00m \u001b[39msum\u001b[39m(a,\u001b[39m*\u001b[39mb):  \u001b[39m#a=5 and using (*) will assign b with 6,34,78\u001b[39;00m\n\u001b[1;32m----> 3\u001b[0m     c\u001b[39m=\u001b[39ma\u001b[39m+\u001b[39;49mb       \u001b[39m#addition of int and tupke is not possible \u001b[39;00m\n\u001b[0;32m      4\u001b[0m     \u001b[39mprint\u001b[39m(c)\n",
      "\u001b[1;31mTypeError\u001b[0m: unsupported operand type(s) for +: 'int' and 'tuple'"
     ]
    }
   ],
   "source": [
    "#Variable length argument\n",
    "def sum(a,*b):  #a=5 and using (*) will assign b with 6,34,78\n",
    "    c=a+b       #addition of int and tupke is not possible \n",
    "    print(c)\n",
    "\n",
    "\n",
    "sum(5,6,34,78)  # a is now int and b will be tuple b=(6,34,78)"
   ]
  },
  {
   "cell_type": "code",
   "execution_count": 29,
   "metadata": {},
   "outputs": [
    {
     "name": "stdout",
     "output_type": "stream",
     "text": [
      "5\n",
      "(6, 34, 78)\n",
      "123\n"
     ]
    }
   ],
   "source": [
    "def sum(a,*b):     # its not necessary to pass a as using * will assign all the values to b with*\n",
    "    print(a)\n",
    "    print(b)  \n",
    "    c=a+0\n",
    "    for i in b:\n",
    "        c=c+i\n",
    "    print(c)\n",
    "sum(5,6,34,78)"
   ]
  },
  {
   "cell_type": "code",
   "execution_count": 30,
   "metadata": {},
   "outputs": [
    {
     "name": "stdout",
     "output_type": "stream",
     "text": [
      "(5, 6, 34, 78)\n",
      "123\n"
     ]
    }
   ],
   "source": [
    "# variable length arguments\n",
    "def sum(*b):     # its not necessary to pass a as using * will assign all the values to b with*\n",
    "    print(b)  \n",
    "    c=0\n",
    "    for i in b:\n",
    "        c=c+i\n",
    "    print(c)\n",
    "sum(5,6,34,78)"
   ]
  },
  {
   "cell_type": "code",
   "execution_count": 35,
   "metadata": {},
   "outputs": [
    {
     "name": "stdout",
     "output_type": "stream",
     "text": [
      "Naincy\n",
      "{'age': 28, 'city': 'Lucknow', 'phno': 7991437}\n"
     ]
    }
   ],
   "source": [
    "#  **kwargs  key word variable length argument\n",
    "def person(name,**data):   # using ** means passing multiple arguments with the help of keywords\n",
    "    print(name)\n",
    "    print(data)\n",
    "person('Naincy', age=28, city='Lucknow', phno=7991437)"
   ]
  },
  {
   "cell_type": "code",
   "execution_count": 37,
   "metadata": {},
   "outputs": [
    {
     "name": "stdout",
     "output_type": "stream",
     "text": [
      "Naincy\n",
      "age 28\n",
      "city Lucknow\n",
      "phno 7991437\n"
     ]
    }
   ],
   "source": [
    "def person(name,**data):   # using ** means passing multiple arguments with the help of keywords\n",
    "    print(name)\n",
    "    for i,j in data.items():\n",
    "        print(i,j)\n",
    "person('Naincy', age=28, city='Lucknow', phno=7991437)"
   ]
  },
  {
   "cell_type": "code",
   "execution_count": null,
   "metadata": {},
   "outputs": [],
   "source": []
  }
 ],
 "metadata": {
  "kernelspec": {
   "display_name": "base",
   "language": "python",
   "name": "python3"
  },
  "language_info": {
   "codemirror_mode": {
    "name": "ipython",
    "version": 3
   },
   "file_extension": ".py",
   "mimetype": "text/x-python",
   "name": "python",
   "nbconvert_exporter": "python",
   "pygments_lexer": "ipython3",
   "version": "3.10.10"
  },
  "orig_nbformat": 4
 },
 "nbformat": 4,
 "nbformat_minor": 2
}
