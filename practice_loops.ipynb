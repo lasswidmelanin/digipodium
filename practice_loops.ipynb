{
 "cells": [
  {
   "cell_type": "code",
   "execution_count": 1,
   "metadata": {},
   "outputs": [
    {
     "name": "stdout",
     "output_type": "stream",
     "text": [
      "23 24 45 67 78\n"
     ]
    }
   ],
   "source": [
    "#create an empty list and then asks the user to input integers to add to the list. Print the final list\n",
    "emp_list=input([\"Enter integer items in list\"])\n",
    "print(emp_list)\n"
   ]
  },
  {
   "cell_type": "code",
   "execution_count": 19,
   "metadata": {},
   "outputs": [],
   "source": [
    "# creates a list of integers and then asks the user to input an integer to check if it exists in the list. Print a message indicating whether the integer is in the list or not.\n",
    "lst=[11,12,13,14,15]\n",
    "j=input(\"enter an integer to be searched\")\n",
    "for i in range(len(lst)):\n",
    "    if j==list[i]:\n",
    "        print(\"integer found in list\")"
   ]
  },
  {
   "cell_type": "code",
   "execution_count": 6,
   "metadata": {},
   "outputs": [
    {
     "name": "stdout",
     "output_type": "stream",
     "text": [
      "['akanksha', 'little', 'molly', 'naincy', 'prashu']\n"
     ]
    }
   ],
   "source": [
    "#creates a list of strings and then sorts the list alphabetically. Print the sorted list\n",
    "strl=[\"naincy\",\"little\",\"molly\",'prashu',\"akanksha\"]\n",
    "strl.sort()\n",
    "print(strl)\n"
   ]
  },
  {
   "cell_type": "code",
   "execution_count": 21,
   "metadata": {},
   "outputs": [
    {
     "name": "stdout",
     "output_type": "stream",
     "text": [
      "[94]\n"
     ]
    }
   ],
   "source": [
    "# creates a list of integers and then finds the maximum value in the list. Print the maximum value.\n",
    "list=[22,94,13,56]\n",
    "max=[0]\n",
    "for i in range(len(list)):\n",
    "    if max[0] < list[i]:\n",
    "        max[0]=list[i]\n",
    "print(max)\n",
    "    "
   ]
  },
  {
   "cell_type": "code",
   "execution_count": 22,
   "metadata": {},
   "outputs": [
    {
     "name": "stdout",
     "output_type": "stream",
     "text": [
      "9\n",
      "12\n",
      "45\n",
      "56\n"
     ]
    }
   ],
   "source": [
    "# creates two lists of integers and then finds the common elements between those two lists. Print the common elements\n",
    "l1=[9,4,12,45,99,56,76]\n",
    "l2=[11,12,13,45,14,56,9]\n",
    "for i in range(len(l1)):\n",
    "    for j in range(len(l2)):\n",
    "        if l1[i]==l2[j]:\n",
    "            print(l1[i])\n"
   ]
  }
 ],
 "metadata": {
  "kernelspec": {
   "display_name": "base",
   "language": "python",
   "name": "python3"
  },
  "language_info": {
   "codemirror_mode": {
    "name": "ipython",
    "version": 3
   },
   "file_extension": ".py",
   "mimetype": "text/x-python",
   "name": "python",
   "nbconvert_exporter": "python",
   "pygments_lexer": "ipython3",
   "version": "3.10.10"
  },
  "orig_nbformat": 4
 },
 "nbformat": 4,
 "nbformat_minor": 2
}
