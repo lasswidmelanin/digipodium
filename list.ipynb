{
 "cells": [
  {
   "cell_type": "markdown",
   "metadata": {},
   "source": [
    "## data-structure\n",
    "    - list\n",
    "          -  indexed, ordered, mutable, []\n",
    "    - tuple   \n",
    "         - indexed, ordered, immutable ()\n",
    "    - set\n",
    "         - unindexed, unordered, mutable, no duplication , {}\n",
    "    - dictionary\n",
    "         - unindexed, key-value pairs, mutable, {}"
   ]
  },
  {
   "cell_type": "code",
   "execution_count": 13,
   "metadata": {},
   "outputs": [
    {
     "name": "stdout",
     "output_type": "stream",
     "text": [
      "[10, 10, 10, 10, 10]\n"
     ]
    }
   ],
   "source": [
    "# creating a list\n",
    "x=[] # empty list \n",
    "y=[1,2,3,4,5]# list of integers\n",
    "z=['sunday','monday','holiday']\n",
    "grocery=['milk',55,'bread',20,'butter',49]\n",
    "info=[[1,2,3],[4,5,6],[7,8],[9,10,11,12]]#nested list\n",
    "a=[10]*5 #list of 5 element with value 10\n",
    "print(a)\n"
   ]
  },
  {
   "cell_type": "code",
   "execution_count": 14,
   "metadata": {},
   "outputs": [],
   "source": [
    "x.append(10)\n",
    "x.append(input(\"Eneter a number in list:\"))"
   ]
  },
  {
   "cell_type": "code",
   "execution_count": 15,
   "metadata": {},
   "outputs": [
    {
     "name": "stdout",
     "output_type": "stream",
     "text": [
      "[10, '12', 13, 14, 15]\n"
     ]
    }
   ],
   "source": [
    "for i in range(3):\n",
    "    val=int(input(\"Enter a number:\"))\n",
    "    x.append(val)\n",
    "print(x)"
   ]
  },
  {
   "cell_type": "code",
   "execution_count": 16,
   "metadata": {},
   "outputs": [],
   "source": [
    "del info #deleting list info"
   ]
  },
  {
   "cell_type": "code",
   "execution_count": 17,
   "metadata": {},
   "outputs": [
    {
     "ename": "NameError",
     "evalue": "name 'info' is not defined",
     "output_type": "error",
     "traceback": [
      "\u001b[1;31m---------------------------------------------------------------------------\u001b[0m",
      "\u001b[1;31mNameError\u001b[0m                                 Traceback (most recent call last)",
      "Cell \u001b[1;32mIn[17], line 1\u001b[0m\n\u001b[1;32m----> 1\u001b[0m \u001b[39mprint\u001b[39m(info)\n",
      "\u001b[1;31mNameError\u001b[0m: name 'info' is not defined"
     ]
    }
   ],
   "source": [
    "print(info)# showing error as it has been deleted"
   ]
  },
  {
   "cell_type": "code",
   "execution_count": 19,
   "metadata": {},
   "outputs": [
    {
     "name": "stdout",
     "output_type": "stream",
     "text": [
      "10 15 12\n",
      "[10, '12']\n",
      "[13, 14, 15]\n",
      "[15, 14, 13, '12', 10]\n"
     ]
    }
   ],
   "source": [
    "#slicing list\n",
    "print(x[0],x[-1],x[1])\n",
    "print(x[:2])\n",
    "print(x[-3:])\n",
    "print(x[::-1])"
   ]
  },
  {
   "cell_type": "markdown",
   "metadata": {},
   "source": [
    "- list function\n",
    "   - adding\n",
    "     - append() -add single item to the end\n",
    "     - insert() -insert single item at given index\n",
    "     - extend() - merging a list to an existing list\n",
    "   - remove\n",
    "     - remove() - remove single itnem by value\n",
    "     - pop()    - remove single item by index\n",
    "     - clear()  - remove all items\n",
    "   - utility\n",
    "     - index()  - find index of item by value\n",
    "     - count()  - count repeated items\n",
    "     - sort()   - sort items  \n",
    "     - reverse()- reverse items\n",
    "     - copy()   - copy list"
   ]
  },
  {
   "cell_type": "markdown",
   "metadata": {},
   "source": [
    "# APPEND()"
   ]
  },
  {
   "cell_type": "markdown",
   "metadata": {},
   "source": []
  },
  {
   "cell_type": "code",
   "execution_count": 1,
   "metadata": {},
   "outputs": [
    {
     "data": {
      "text/plain": [
       "['The Final Empire', 'Psychology of money', 'well of ascension']"
      ]
     },
     "execution_count": 1,
     "metadata": {},
     "output_type": "execute_result"
    }
   ],
   "source": [
    "books=[] # books list empty\n",
    "books.append('The Final Empire') #a string is added to the end of list\n",
    "books.append(\"Psychology of money\")\n",
    "books.append(\"well of ascension\")\n",
    "books"
   ]
  },
  {
   "cell_type": "markdown",
   "metadata": {},
   "source": [
    "# Insert()"
   ]
  },
  {
   "cell_type": "markdown",
   "metadata": {},
   "source": []
  },
  {
   "cell_type": "code",
   "execution_count": 2,
   "metadata": {},
   "outputs": [
    {
     "data": {
      "text/plain": [
       "['The Final Empire',\n",
       " 'Harry Potter',\n",
       " 'Psychology of money',\n",
       " 'well of ascension']"
      ]
     },
     "execution_count": 2,
     "metadata": {},
     "output_type": "execute_result"
    }
   ],
   "source": [
    "books.insert(1, \"Harry Potter\")\n",
    "books"
   ]
  },
  {
   "cell_type": "code",
   "execution_count": 3,
   "metadata": {},
   "outputs": [
    {
     "data": {
      "text/plain": [
       "['The Final Empire', 'Harry Potter', 'The hero of ages', 'well of ascension']"
      ]
     },
     "execution_count": 3,
     "metadata": {},
     "output_type": "execute_result"
    }
   ],
   "source": [
    "books[2]=\"The hero of ages\"\n",
    "books"
   ]
  },
  {
   "cell_type": "markdown",
   "metadata": {},
   "source": [
    "# EXTEND()"
   ]
  },
  {
   "cell_type": "code",
   "execution_count": 6,
   "metadata": {},
   "outputs": [
    {
     "data": {
      "text/plain": [
       "['The Final Empire',\n",
       " 'Harry Potter',\n",
       " 'The hero of ages',\n",
       " 'well of ascension',\n",
       " 'a song of fire',\n",
       " 'umbrella',\n",
       " 'the jungle book',\n",
       " 'pride and prejudice',\n",
       " 'a song of fire',\n",
       " 'umbrella',\n",
       " 'the jungle book',\n",
       " 'pride and prejudice',\n",
       " 'a song of fire',\n",
       " 'umbrella',\n",
       " 'the jungle book',\n",
       " 'pride and prejudice']"
      ]
     },
     "execution_count": 6,
     "metadata": {},
     "output_type": "execute_result"
    }
   ],
   "source": [
    "old_books=[\"a song of fire\",\"umbrella\",\"the jungle book\",\"pride and prejudice\"]\n",
    "books.extend(old_books)\n",
    "books"
   ]
  },
  {
   "cell_type": "markdown",
   "metadata": {},
   "source": [
    "# remove()"
   ]
  },
  {
   "cell_type": "code",
   "execution_count": 8,
   "metadata": {},
   "outputs": [
    {
     "data": {
      "text/plain": [
       "['The Final Empire',\n",
       " 'Harry Potter',\n",
       " 'The hero of ages',\n",
       " 'well of ascension',\n",
       " 'a song of fire',\n",
       " 'umbrella',\n",
       " 'pride and prejudice',\n",
       " 'a song of fire',\n",
       " 'umbrella',\n",
       " 'pride and prejudice',\n",
       " 'a song of fire',\n",
       " 'umbrella',\n",
       " 'the jungle book',\n",
       " 'pride and prejudice']"
      ]
     },
     "execution_count": 8,
     "metadata": {},
     "output_type": "execute_result"
    }
   ],
   "source": [
    "books.remove(\"the jungle book\") # removes only first occurence\n",
    "books"
   ]
  },
  {
   "cell_type": "code",
   "execution_count": 9,
   "metadata": {},
   "outputs": [
    {
     "data": {
      "text/plain": [
       "['The Final Empire',\n",
       " 'Harry Potter',\n",
       " 'The hero of ages',\n",
       " 'well of ascension',\n",
       " 'a song of fire',\n",
       " 'umbrella',\n",
       " 'pride and prejudice',\n",
       " 'a song of fire',\n",
       " 'umbrella',\n",
       " 'pride and prejudice',\n",
       " 'a song of fire',\n",
       " 'umbrella',\n",
       " 'pride and prejudice']"
      ]
     },
     "execution_count": 9,
     "metadata": {},
     "output_type": "execute_result"
    }
   ],
   "source": [
    "if \"the jungle book\" in books:\n",
    "    books.remove(\"the jungle book\") \n",
    "books"
   ]
  },
  {
   "cell_type": "markdown",
   "metadata": {},
   "source": [
    "# pop()"
   ]
  },
  {
   "cell_type": "code",
   "execution_count": 10,
   "metadata": {},
   "outputs": [
    {
     "data": {
      "text/plain": [
       "['The Final Empire',\n",
       " 'Harry Potter',\n",
       " 'The hero of ages',\n",
       " 'well of ascension',\n",
       " 'umbrella',\n",
       " 'pride and prejudice',\n",
       " 'a song of fire',\n",
       " 'umbrella',\n",
       " 'pride and prejudice',\n",
       " 'a song of fire',\n",
       " 'umbrella',\n",
       " 'pride and prejudice']"
      ]
     },
     "execution_count": 10,
     "metadata": {},
     "output_type": "execute_result"
    }
   ],
   "source": [
    "books.pop(4)\n",
    "books"
   ]
  },
  {
   "cell_type": "code",
   "execution_count": 11,
   "metadata": {},
   "outputs": [
    {
     "data": {
      "text/plain": [
       "['The Final Empire',\n",
       " 'Harry Potter',\n",
       " 'The hero of ages',\n",
       " 'well of ascension',\n",
       " 'umbrella',\n",
       " 'pride and prejudice',\n",
       " 'a song of fire',\n",
       " 'umbrella',\n",
       " 'pride and prejudice',\n",
       " 'a song of fire',\n",
       " 'umbrella']"
      ]
     },
     "execution_count": 11,
     "metadata": {},
     "output_type": "execute_result"
    }
   ],
   "source": [
    "books.pop() # removes the last item\n",
    "books"
   ]
  },
  {
   "cell_type": "markdown",
   "metadata": {},
   "source": [
    "# clear()"
   ]
  },
  {
   "cell_type": "code",
   "execution_count": 12,
   "metadata": {},
   "outputs": [
    {
     "data": {
      "text/plain": [
       "[]"
      ]
     },
     "execution_count": 12,
     "metadata": {},
     "output_type": "execute_result"
    }
   ],
   "source": [
    "books.clear()\n",
    "books"
   ]
  },
  {
   "cell_type": "code",
   "execution_count": 15,
   "metadata": {},
   "outputs": [
    {
     "data": {
      "text/plain": [
       "['The Shawshank Redemption',\n",
       " 'The Godfather',\n",
       " 'Pulp Fiction',\n",
       " 'The Dark Knight',\n",
       " 'Fight Club',\n",
       " 'The Matrix',\n",
       " 'Goodfellas',\n",
       " 'Forrest Gump',\n",
       " 'Inception',\n",
       " 'The Lord of the Rings: The Fellowship of the Ring',\n",
       " 'Star Wars: Episode IV - A New Hope',\n",
       " 'The Avengers',\n",
       " 'Titanic',\n",
       " 'Gladiator',\n",
       " 'The Lion King',\n",
       " 'The Departed',\n",
       " 'Braveheart',\n",
       " \"Schindler's List\",\n",
       " 'The Silence of the Lambs',\n",
       " 'Casablanca',\n",
       " 'The Terminator',\n",
       " 'Saving Private Ryan',\n",
       " 'The Prestige',\n",
       " 'The Shawshank Redemption',\n",
       " 'The Green Mile',\n",
       " 'The Godfather: Part II',\n",
       " 'The Empire Strikes Back',\n",
       " 'The Dark Knight Rises',\n",
       " 'Interstellar',\n",
       " 'The Sixth Sense',\n",
       " 'The Social Network',\n",
       " 'The Incredibles',\n",
       " 'Jurassic Park',\n",
       " 'Back to the Future',\n",
       " 'Raiders of the Lost Ark',\n",
       " 'The Shining',\n",
       " 'The Breakfast Club',\n",
       " 'The Princess Bride',\n",
       " 'The Grand Budapest Hotel',\n",
       " 'Blade Runner',\n",
       " 'The Big Lebowski',\n",
       " 'The Usual Suspects',\n",
       " 'A Clockwork Orange',\n",
       " 'Eternal Sunshine of the Spotless Mind',\n",
       " 'The Great Gatsby',\n",
       " 'Gone with the Wind',\n",
       " 'The Sound of Music',\n",
       " 'Seven',\n",
       " 'The Godfather: Part III',\n",
       " 'The Wizard of Oz',\n",
       " 'The Exorcist',\n",
       " 'Django Unchained',\n",
       " 'The Truman Show',\n",
       " 'Reservoir Dogs',\n",
       " 'The Avengers: Endgame',\n",
       " 'Jaws',\n",
       " 'The Iron Giant',\n",
       " 'Amélie',\n",
       " 'The Good, the Bad and the Ugly',\n",
       " 'The Hunt for Red October',\n",
       " 'The Bourne Identity',\n",
       " 'The Departed',\n",
       " 'The Pianist',\n",
       " 'The Social Network',\n",
       " 'No Country for Old Men',\n",
       " 'The Wolf of Wall Street',\n",
       " '12 Angry Men',\n",
       " 'A Beautiful Mind',\n",
       " 'The Revenant',\n",
       " 'The Hateful Eight',\n",
       " 'The Notebook',\n",
       " 'Avatar',\n",
       " \"The King's Speech\",\n",
       " 'The Hurt Locker',\n",
       " 'The Big Short',\n",
       " 'The Martian',\n",
       " 'Spotlight',\n",
       " 'La La Land',\n",
       " 'Moonlight',\n",
       " 'Manchester by the Sea',\n",
       " 'Get Out',\n",
       " 'Black Panther',\n",
       " 'Spider-Man: Into the Spider-Verse',\n",
       " 'Bohemian Rhapsody',\n",
       " 'Parasite',\n",
       " 'Joker',\n",
       " 'Knives Out',\n",
       " 'Marriage Story',\n",
       " 'Once Upon a Time in Hollywood',\n",
       " '1917',\n",
       " 'Tenet',\n",
       " 'Soul',\n",
       " 'Nomadland',\n",
       " 'Promising Young Woman',\n",
       " 'Sound of Metal',\n",
       " 'Judas and the Black Messiah',\n",
       " 'Minari',\n",
       " 'The Trial of the Chicago 7',\n",
       " 'Black Widow',\n",
       " 'Dune']"
      ]
     },
     "execution_count": 15,
     "metadata": {},
     "output_type": "execute_result"
    }
   ],
   "source": [
    "kachra='''The Shawshank Redemption\n",
    "The Godfather\n",
    "Pulp Fiction\n",
    "The Dark Knight\n",
    "Fight Club\n",
    "The Matrix\n",
    "Goodfellas\n",
    "Forrest Gump\n",
    "Inception\n",
    "The Lord of the Rings: The Fellowship of the Ring\n",
    "Star Wars: Episode IV - A New Hope\n",
    "The Avengers\n",
    "Titanic\n",
    "Gladiator\n",
    "The Lion King\n",
    "The Departed\n",
    "Braveheart\n",
    "Schindler's List\n",
    "The Silence of the Lambs\n",
    "Casablanca\n",
    "The Terminator\n",
    "Saving Private Ryan\n",
    "The Prestige\n",
    "The Shawshank Redemption\n",
    "The Green Mile\n",
    "The Godfather: Part II\n",
    "The Empire Strikes Back\n",
    "The Dark Knight Rises\n",
    "Interstellar\n",
    "The Sixth Sense\n",
    "The Social Network\n",
    "The Incredibles\n",
    "Jurassic Park\n",
    "Back to the Future\n",
    "Raiders of the Lost Ark\n",
    "The Shining\n",
    "The Breakfast Club\n",
    "The Princess Bride\n",
    "The Grand Budapest Hotel\n",
    "Blade Runner\n",
    "The Big Lebowski\n",
    "The Usual Suspects\n",
    "A Clockwork Orange\n",
    "Eternal Sunshine of the Spotless Mind\n",
    "The Great Gatsby\n",
    "Gone with the Wind\n",
    "The Sound of Music\n",
    "Seven\n",
    "The Godfather: Part III\n",
    "The Wizard of Oz\n",
    "The Exorcist\n",
    "Django Unchained\n",
    "The Truman Show\n",
    "Reservoir Dogs\n",
    "The Avengers: Endgame\n",
    "Jaws\n",
    "The Iron Giant\n",
    "Amélie\n",
    "The Good, the Bad and the Ugly\n",
    "The Hunt for Red October\n",
    "The Bourne Identity\n",
    "The Departed\n",
    "The Pianist\n",
    "The Social Network\n",
    "No Country for Old Men\n",
    "The Wolf of Wall Street\n",
    "12 Angry Men\n",
    "A Beautiful Mind\n",
    "The Revenant\n",
    "The Hateful Eight\n",
    "The Notebook\n",
    "Avatar\n",
    "The King's Speech\n",
    "The Hurt Locker\n",
    "The Big Short\n",
    "The Martian\n",
    "Spotlight\n",
    "La La Land\n",
    "Moonlight\n",
    "Manchester by the Sea\n",
    "Get Out\n",
    "Black Panther\n",
    "Spider-Man: Into the Spider-Verse\n",
    "Bohemian Rhapsody\n",
    "Parasite\n",
    "Joker\n",
    "Knives Out\n",
    "Marriage Story\n",
    "Once Upon a Time in Hollywood\n",
    "1917\n",
    "Tenet\n",
    "Soul\n",
    "Nomadland\n",
    "Promising Young Woman\n",
    "Sound of Metal\n",
    "Judas and the Black Messiah\n",
    "Minari\n",
    "The Trial of the Chicago 7\n",
    "Black Widow\n",
    "Dune\n",
    "'''\n",
    "movies=kachra.splitlines()\n",
    "movies"
   ]
  },
  {
   "cell_type": "code",
   "execution_count": 16,
   "metadata": {},
   "outputs": [
    {
     "name": "stdout",
     "output_type": "stream",
     "text": [
      "100\n"
     ]
    }
   ],
   "source": [
    "print(len(movies))"
   ]
  },
  {
   "cell_type": "code",
   "execution_count": 17,
   "metadata": {},
   "outputs": [
    {
     "data": {
      "text/plain": [
       "['Dune',\n",
       " 'Black Widow',\n",
       " 'The Trial of the Chicago 7',\n",
       " 'Minari',\n",
       " 'Judas and the Black Messiah',\n",
       " 'Sound of Metal',\n",
       " 'Promising Young Woman',\n",
       " 'Nomadland',\n",
       " 'Soul',\n",
       " 'Tenet',\n",
       " '1917',\n",
       " 'Once Upon a Time in Hollywood',\n",
       " 'Marriage Story',\n",
       " 'Knives Out',\n",
       " 'Joker',\n",
       " 'Parasite',\n",
       " 'Bohemian Rhapsody',\n",
       " 'Spider-Man: Into the Spider-Verse',\n",
       " 'Black Panther',\n",
       " 'Get Out',\n",
       " 'Manchester by the Sea',\n",
       " 'Moonlight',\n",
       " 'La La Land',\n",
       " 'Spotlight',\n",
       " 'The Martian',\n",
       " 'The Big Short',\n",
       " 'The Hurt Locker',\n",
       " \"The King's Speech\",\n",
       " 'Avatar',\n",
       " 'The Notebook',\n",
       " 'The Hateful Eight',\n",
       " 'The Revenant',\n",
       " 'A Beautiful Mind',\n",
       " '12 Angry Men',\n",
       " 'The Wolf of Wall Street',\n",
       " 'No Country for Old Men',\n",
       " 'The Social Network',\n",
       " 'The Pianist',\n",
       " 'The Departed',\n",
       " 'The Bourne Identity',\n",
       " 'The Hunt for Red October',\n",
       " 'The Good, the Bad and the Ugly',\n",
       " 'Amélie',\n",
       " 'The Iron Giant',\n",
       " 'Jaws',\n",
       " 'The Avengers: Endgame',\n",
       " 'Reservoir Dogs',\n",
       " 'The Truman Show',\n",
       " 'Django Unchained',\n",
       " 'The Exorcist',\n",
       " 'The Wizard of Oz',\n",
       " 'The Godfather: Part III',\n",
       " 'Seven',\n",
       " 'The Sound of Music',\n",
       " 'Gone with the Wind',\n",
       " 'The Great Gatsby',\n",
       " 'Eternal Sunshine of the Spotless Mind',\n",
       " 'A Clockwork Orange',\n",
       " 'The Usual Suspects',\n",
       " 'The Big Lebowski',\n",
       " 'Blade Runner',\n",
       " 'The Grand Budapest Hotel',\n",
       " 'The Princess Bride',\n",
       " 'The Breakfast Club',\n",
       " 'The Shining',\n",
       " 'Raiders of the Lost Ark',\n",
       " 'Back to the Future',\n",
       " 'Jurassic Park',\n",
       " 'The Incredibles',\n",
       " 'The Social Network',\n",
       " 'The Sixth Sense',\n",
       " 'Interstellar',\n",
       " 'The Dark Knight Rises',\n",
       " 'The Empire Strikes Back',\n",
       " 'The Godfather: Part II',\n",
       " 'The Green Mile',\n",
       " 'The Shawshank Redemption',\n",
       " 'The Prestige',\n",
       " 'Saving Private Ryan',\n",
       " 'The Terminator',\n",
       " 'Casablanca',\n",
       " 'The Silence of the Lambs',\n",
       " \"Schindler's List\",\n",
       " 'Braveheart',\n",
       " 'The Departed',\n",
       " 'The Lion King',\n",
       " 'Gladiator',\n",
       " 'Titanic',\n",
       " 'The Avengers',\n",
       " 'Star Wars: Episode IV - A New Hope',\n",
       " 'The Lord of the Rings: The Fellowship of the Ring',\n",
       " 'Inception',\n",
       " 'Forrest Gump',\n",
       " 'Goodfellas',\n",
       " 'The Matrix',\n",
       " 'Fight Club',\n",
       " 'The Dark Knight',\n",
       " 'Pulp Fiction',\n",
       " 'The Godfather',\n",
       " 'The Shawshank Redemption']"
      ]
     },
     "execution_count": 17,
     "metadata": {},
     "output_type": "execute_result"
    }
   ],
   "source": [
    "movies.reverse()\n",
    "movies"
   ]
  },
  {
   "cell_type": "code",
   "execution_count": 18,
   "metadata": {},
   "outputs": [
    {
     "data": {
      "text/plain": [
       "['12 Angry Men',\n",
       " '1917',\n",
       " 'A Beautiful Mind',\n",
       " 'A Clockwork Orange',\n",
       " 'Amélie',\n",
       " 'Avatar',\n",
       " 'Back to the Future',\n",
       " 'Black Panther',\n",
       " 'Black Widow',\n",
       " 'Blade Runner',\n",
       " 'Bohemian Rhapsody',\n",
       " 'Braveheart',\n",
       " 'Casablanca',\n",
       " 'Django Unchained',\n",
       " 'Dune',\n",
       " 'Eternal Sunshine of the Spotless Mind',\n",
       " 'Fight Club',\n",
       " 'Forrest Gump',\n",
       " 'Get Out',\n",
       " 'Gladiator',\n",
       " 'Gone with the Wind',\n",
       " 'Goodfellas',\n",
       " 'Inception',\n",
       " 'Interstellar',\n",
       " 'Jaws',\n",
       " 'Joker',\n",
       " 'Judas and the Black Messiah',\n",
       " 'Jurassic Park',\n",
       " 'Knives Out',\n",
       " 'La La Land',\n",
       " 'Manchester by the Sea',\n",
       " 'Marriage Story',\n",
       " 'Minari',\n",
       " 'Moonlight',\n",
       " 'No Country for Old Men',\n",
       " 'Nomadland',\n",
       " 'Once Upon a Time in Hollywood',\n",
       " 'Parasite',\n",
       " 'Promising Young Woman',\n",
       " 'Pulp Fiction',\n",
       " 'Raiders of the Lost Ark',\n",
       " 'Reservoir Dogs',\n",
       " 'Saving Private Ryan',\n",
       " \"Schindler's List\",\n",
       " 'Seven',\n",
       " 'Soul',\n",
       " 'Sound of Metal',\n",
       " 'Spider-Man: Into the Spider-Verse',\n",
       " 'Spotlight',\n",
       " 'Star Wars: Episode IV - A New Hope',\n",
       " 'Tenet',\n",
       " 'The Avengers',\n",
       " 'The Avengers: Endgame',\n",
       " 'The Big Lebowski',\n",
       " 'The Big Short',\n",
       " 'The Bourne Identity',\n",
       " 'The Breakfast Club',\n",
       " 'The Dark Knight',\n",
       " 'The Dark Knight Rises',\n",
       " 'The Departed',\n",
       " 'The Departed',\n",
       " 'The Empire Strikes Back',\n",
       " 'The Exorcist',\n",
       " 'The Godfather',\n",
       " 'The Godfather: Part II',\n",
       " 'The Godfather: Part III',\n",
       " 'The Good, the Bad and the Ugly',\n",
       " 'The Grand Budapest Hotel',\n",
       " 'The Great Gatsby',\n",
       " 'The Green Mile',\n",
       " 'The Hateful Eight',\n",
       " 'The Hunt for Red October',\n",
       " 'The Hurt Locker',\n",
       " 'The Incredibles',\n",
       " 'The Iron Giant',\n",
       " \"The King's Speech\",\n",
       " 'The Lion King',\n",
       " 'The Lord of the Rings: The Fellowship of the Ring',\n",
       " 'The Martian',\n",
       " 'The Matrix',\n",
       " 'The Notebook',\n",
       " 'The Pianist',\n",
       " 'The Prestige',\n",
       " 'The Princess Bride',\n",
       " 'The Revenant',\n",
       " 'The Shawshank Redemption',\n",
       " 'The Shawshank Redemption',\n",
       " 'The Shining',\n",
       " 'The Silence of the Lambs',\n",
       " 'The Sixth Sense',\n",
       " 'The Social Network',\n",
       " 'The Social Network',\n",
       " 'The Sound of Music',\n",
       " 'The Terminator',\n",
       " 'The Trial of the Chicago 7',\n",
       " 'The Truman Show',\n",
       " 'The Usual Suspects',\n",
       " 'The Wizard of Oz',\n",
       " 'The Wolf of Wall Street',\n",
       " 'Titanic']"
      ]
     },
     "execution_count": 18,
     "metadata": {},
     "output_type": "execute_result"
    }
   ],
   "source": [
    "movies.sort()\n",
    "movies"
   ]
  },
  {
   "cell_type": "code",
   "execution_count": 19,
   "metadata": {},
   "outputs": [
    {
     "data": {
      "text/plain": [
       "['Titanic',\n",
       " 'The Wolf of Wall Street',\n",
       " 'The Wizard of Oz',\n",
       " 'The Usual Suspects',\n",
       " 'The Truman Show',\n",
       " 'The Trial of the Chicago 7',\n",
       " 'The Terminator',\n",
       " 'The Sound of Music',\n",
       " 'The Social Network',\n",
       " 'The Social Network',\n",
       " 'The Sixth Sense',\n",
       " 'The Silence of the Lambs',\n",
       " 'The Shining',\n",
       " 'The Shawshank Redemption',\n",
       " 'The Shawshank Redemption',\n",
       " 'The Revenant',\n",
       " 'The Princess Bride',\n",
       " 'The Prestige',\n",
       " 'The Pianist',\n",
       " 'The Notebook',\n",
       " 'The Matrix',\n",
       " 'The Martian',\n",
       " 'The Lord of the Rings: The Fellowship of the Ring',\n",
       " 'The Lion King',\n",
       " \"The King's Speech\",\n",
       " 'The Iron Giant',\n",
       " 'The Incredibles',\n",
       " 'The Hurt Locker',\n",
       " 'The Hunt for Red October',\n",
       " 'The Hateful Eight',\n",
       " 'The Green Mile',\n",
       " 'The Great Gatsby',\n",
       " 'The Grand Budapest Hotel',\n",
       " 'The Good, the Bad and the Ugly',\n",
       " 'The Godfather: Part III',\n",
       " 'The Godfather: Part II',\n",
       " 'The Godfather',\n",
       " 'The Exorcist',\n",
       " 'The Empire Strikes Back',\n",
       " 'The Departed',\n",
       " 'The Departed',\n",
       " 'The Dark Knight Rises',\n",
       " 'The Dark Knight',\n",
       " 'The Breakfast Club',\n",
       " 'The Bourne Identity',\n",
       " 'The Big Short',\n",
       " 'The Big Lebowski',\n",
       " 'The Avengers: Endgame',\n",
       " 'The Avengers',\n",
       " 'Tenet',\n",
       " 'Star Wars: Episode IV - A New Hope',\n",
       " 'Spotlight',\n",
       " 'Spider-Man: Into the Spider-Verse',\n",
       " 'Sound of Metal',\n",
       " 'Soul',\n",
       " 'Seven',\n",
       " \"Schindler's List\",\n",
       " 'Saving Private Ryan',\n",
       " 'Reservoir Dogs',\n",
       " 'Raiders of the Lost Ark',\n",
       " 'Pulp Fiction',\n",
       " 'Promising Young Woman',\n",
       " 'Parasite',\n",
       " 'Once Upon a Time in Hollywood',\n",
       " 'Nomadland',\n",
       " 'No Country for Old Men',\n",
       " 'Moonlight',\n",
       " 'Minari',\n",
       " 'Marriage Story',\n",
       " 'Manchester by the Sea',\n",
       " 'La La Land',\n",
       " 'Knives Out',\n",
       " 'Jurassic Park',\n",
       " 'Judas and the Black Messiah',\n",
       " 'Joker',\n",
       " 'Jaws',\n",
       " 'Interstellar',\n",
       " 'Inception',\n",
       " 'Goodfellas',\n",
       " 'Gone with the Wind',\n",
       " 'Gladiator',\n",
       " 'Get Out',\n",
       " 'Forrest Gump',\n",
       " 'Fight Club',\n",
       " 'Eternal Sunshine of the Spotless Mind',\n",
       " 'Dune',\n",
       " 'Django Unchained',\n",
       " 'Casablanca',\n",
       " 'Braveheart',\n",
       " 'Bohemian Rhapsody',\n",
       " 'Blade Runner',\n",
       " 'Black Widow',\n",
       " 'Black Panther',\n",
       " 'Back to the Future',\n",
       " 'Avatar',\n",
       " 'Amélie',\n",
       " 'A Clockwork Orange',\n",
       " 'A Beautiful Mind',\n",
       " '1917',\n",
       " '12 Angry Men']"
      ]
     },
     "execution_count": 19,
     "metadata": {},
     "output_type": "execute_result"
    }
   ],
   "source": [
    "movies.sort(reverse=True)\n",
    "movies"
   ]
  },
  {
   "cell_type": "markdown",
   "metadata": {},
   "source": [
    "# count()"
   ]
  },
  {
   "cell_type": "code",
   "execution_count": 23,
   "metadata": {},
   "outputs": [
    {
     "name": "stdout",
     "output_type": "stream",
     "text": [
      "2\n",
      "3\n",
      "0\n"
     ]
    }
   ],
   "source": [
    "x=[1,1,2,5,5,5]\n",
    "print(x.count(1))\n",
    "print(x.count(5))\n",
    "print(x.count(8))"
   ]
  },
  {
   "cell_type": "markdown",
   "metadata": {},
   "source": [
    "# index()"
   ]
  },
  {
   "cell_type": "code",
   "execution_count": 24,
   "metadata": {},
   "outputs": [
    {
     "data": {
      "text/plain": [
       "4"
      ]
     },
     "execution_count": 24,
     "metadata": {},
     "output_type": "execute_result"
    }
   ],
   "source": [
    "movies.index(\"The Truman Show\")"
   ]
  },
  {
   "cell_type": "markdown",
   "metadata": {},
   "source": [
    "# copy()"
   ]
  },
  {
   "cell_type": "code",
   "execution_count": 25,
   "metadata": {},
   "outputs": [
    {
     "data": {
      "text/plain": [
       "['Titanic',\n",
       " 'The Wolf of Wall Street',\n",
       " 'The Wizard of Oz',\n",
       " 'The Usual Suspects',\n",
       " 'The Truman Show',\n",
       " 'The Trial of the Chicago 7',\n",
       " 'The Terminator',\n",
       " 'The Sound of Music',\n",
       " 'The Social Network',\n",
       " 'The Social Network',\n",
       " 'The Sixth Sense',\n",
       " 'The Silence of the Lambs',\n",
       " 'The Shining',\n",
       " 'The Shawshank Redemption',\n",
       " 'The Shawshank Redemption',\n",
       " 'The Revenant',\n",
       " 'The Princess Bride',\n",
       " 'The Prestige',\n",
       " 'The Pianist',\n",
       " 'The Notebook',\n",
       " 'The Matrix',\n",
       " 'The Martian',\n",
       " 'The Lord of the Rings: The Fellowship of the Ring',\n",
       " 'The Lion King',\n",
       " \"The King's Speech\",\n",
       " 'The Iron Giant',\n",
       " 'The Incredibles',\n",
       " 'The Hurt Locker',\n",
       " 'The Hunt for Red October',\n",
       " 'The Hateful Eight',\n",
       " 'The Green Mile',\n",
       " 'The Great Gatsby',\n",
       " 'The Grand Budapest Hotel',\n",
       " 'The Good, the Bad and the Ugly',\n",
       " 'The Godfather: Part III',\n",
       " 'The Godfather: Part II',\n",
       " 'The Godfather',\n",
       " 'The Exorcist',\n",
       " 'The Empire Strikes Back',\n",
       " 'The Departed',\n",
       " 'The Departed',\n",
       " 'The Dark Knight Rises',\n",
       " 'The Dark Knight',\n",
       " 'The Breakfast Club',\n",
       " 'The Bourne Identity',\n",
       " 'The Big Short',\n",
       " 'The Big Lebowski',\n",
       " 'The Avengers: Endgame',\n",
       " 'The Avengers',\n",
       " 'Tenet',\n",
       " 'Star Wars: Episode IV - A New Hope',\n",
       " 'Spotlight',\n",
       " 'Spider-Man: Into the Spider-Verse',\n",
       " 'Sound of Metal',\n",
       " 'Soul',\n",
       " 'Seven',\n",
       " \"Schindler's List\",\n",
       " 'Saving Private Ryan',\n",
       " 'Reservoir Dogs',\n",
       " 'Raiders of the Lost Ark',\n",
       " 'Pulp Fiction',\n",
       " 'Promising Young Woman',\n",
       " 'Parasite',\n",
       " 'Once Upon a Time in Hollywood',\n",
       " 'Nomadland',\n",
       " 'No Country for Old Men',\n",
       " 'Moonlight',\n",
       " 'Minari',\n",
       " 'Marriage Story',\n",
       " 'Manchester by the Sea',\n",
       " 'La La Land',\n",
       " 'Knives Out',\n",
       " 'Jurassic Park',\n",
       " 'Judas and the Black Messiah',\n",
       " 'Joker',\n",
       " 'Jaws',\n",
       " 'Interstellar',\n",
       " 'Inception',\n",
       " 'Goodfellas',\n",
       " 'Gone with the Wind',\n",
       " 'Gladiator',\n",
       " 'Get Out',\n",
       " 'Forrest Gump',\n",
       " 'Fight Club',\n",
       " 'Eternal Sunshine of the Spotless Mind',\n",
       " 'Dune',\n",
       " 'Django Unchained',\n",
       " 'Casablanca',\n",
       " 'Braveheart',\n",
       " 'Bohemian Rhapsody',\n",
       " 'Blade Runner',\n",
       " 'Black Widow',\n",
       " 'Black Panther',\n",
       " 'Back to the Future',\n",
       " 'Avatar',\n",
       " 'Amélie',\n",
       " 'A Clockwork Orange',\n",
       " 'A Beautiful Mind',\n",
       " '1917',\n",
       " '12 Angry Men']"
      ]
     },
     "execution_count": 25,
     "metadata": {},
     "output_type": "execute_result"
    }
   ],
   "source": [
    "movies_2=movies.copy() # copying list of movies in movies_2\n",
    "movies_2"
   ]
  }
 ],
 "metadata": {
  "kernelspec": {
   "display_name": "base",
   "language": "python",
   "name": "python3"
  },
  "language_info": {
   "codemirror_mode": {
    "name": "ipython",
    "version": 3
   },
   "file_extension": ".py",
   "mimetype": "text/x-python",
   "name": "python",
   "nbconvert_exporter": "python",
   "pygments_lexer": "ipython3",
   "version": "3.10.10"
  },
  "orig_nbformat": 4
 },
 "nbformat": 4,
 "nbformat_minor": 2
}
