{
 "cells": [
  {
   "cell_type": "markdown",
   "metadata": {},
   "source": [
    "## data-structure\n",
    "    - list\n",
    "          -  indexed, ordered, mutable, []\n",
    "    - tuple   \n",
    "         - indexed, ordered, immutable ()\n",
    "    - set\n",
    "         - unindexed, unordered, mutable, no duplication , {}\n",
    "    - dictionary\n",
    "         - unindexed, key-value pairs, mutable, {}"
   ]
  },
  {
   "cell_type": "code",
   "execution_count": 13,
   "metadata": {},
   "outputs": [
    {
     "name": "stdout",
     "output_type": "stream",
     "text": [
      "[10, 10, 10, 10, 10]\n"
     ]
    }
   ],
   "source": [
    "# creating a list\n",
    "x=[] # empty list \n",
    "y=[1,2,3,4,5]# list of integers\n",
    "z=['sunday','monday','holiday']\n",
    "grocery=['milk',55,'bread',20,'butter',49]\n",
    "info=[[1,2,3],[4,5,6],[7,8],[9,10,11,12]]#nested list\n",
    "a=[10]*5 #list of 5 element with value 10\n",
    "print(a)\n"
   ]
  },
  {
   "cell_type": "code",
   "execution_count": 14,
   "metadata": {},
   "outputs": [],
   "source": [
    "x.append(10)\n",
    "x.append(input(\"Eneter a number in list:\"))"
   ]
  },
  {
   "cell_type": "code",
   "execution_count": 15,
   "metadata": {},
   "outputs": [
    {
     "name": "stdout",
     "output_type": "stream",
     "text": [
      "[10, '12', 13, 14, 15]\n"
     ]
    }
   ],
   "source": [
    "for i in range(3):\n",
    "    val=int(input(\"Enter a number:\"))\n",
    "    x.append(val)\n",
    "print(x)"
   ]
  },
  {
   "cell_type": "code",
   "execution_count": 16,
   "metadata": {},
   "outputs": [],
   "source": [
    "del info #deleting list info"
   ]
  },
  {
   "cell_type": "code",
   "execution_count": 17,
   "metadata": {},
   "outputs": [
    {
     "ename": "NameError",
     "evalue": "name 'info' is not defined",
     "output_type": "error",
     "traceback": [
      "\u001b[1;31m---------------------------------------------------------------------------\u001b[0m",
      "\u001b[1;31mNameError\u001b[0m                                 Traceback (most recent call last)",
      "Cell \u001b[1;32mIn[17], line 1\u001b[0m\n\u001b[1;32m----> 1\u001b[0m \u001b[39mprint\u001b[39m(info)\n",
      "\u001b[1;31mNameError\u001b[0m: name 'info' is not defined"
     ]
    }
   ],
   "source": [
    "print(info)# showing error as it has been deleted"
   ]
  },
  {
   "cell_type": "code",
   "execution_count": 19,
   "metadata": {},
   "outputs": [
    {
     "name": "stdout",
     "output_type": "stream",
     "text": [
      "10 15 12\n",
      "[10, '12']\n",
      "[13, 14, 15]\n",
      "[15, 14, 13, '12', 10]\n"
     ]
    }
   ],
   "source": [
    "#slicing list\n",
    "print(x[0],x[-1],x[1])\n",
    "print(x[:2])\n",
    "print(x[-3:])\n",
    "print(x[::-1])"
   ]
  },
  {
   "cell_type": "markdown",
   "metadata": {},
   "source": [
    "- list function\n",
    "   - adding\n",
    "     - append() -add single item to the end\n",
    "     - insert() -insert single item at given index\n",
    "     - extend() - merging a list to an existing list\n",
    "   - remove\n",
    "     - remove() - remove single itnem by value\n",
    "     - pop()    - remove single item by index\n",
    "     - clear()  - remove all items\n",
    "   - utility\n",
    "     - index()  - find index of item by value\n",
    "     - count()  - count repeated items\n",
    "     - sort()   - sort items  \n",
    "     - reverse()- reverse items\n",
    "     - copy()   - copy list"
   ]
  },
  {
   "cell_type": "markdown",
   "metadata": {},
   "source": []
  },
  {
   "cell_type": "code",
   "execution_count": null,
   "metadata": {},
   "outputs": [],
   "source": []
  }
 ],
 "metadata": {
  "kernelspec": {
   "display_name": "base",
   "language": "python",
   "name": "python3"
  },
  "language_info": {
   "codemirror_mode": {
    "name": "ipython",
    "version": 3
   },
   "file_extension": ".py",
   "mimetype": "text/x-python",
   "name": "python",
   "nbconvert_exporter": "python",
   "pygments_lexer": "ipython3",
   "version": "3.10.10"
  },
  "orig_nbformat": 4
 },
 "nbformat": 4,
 "nbformat_minor": 2
}
